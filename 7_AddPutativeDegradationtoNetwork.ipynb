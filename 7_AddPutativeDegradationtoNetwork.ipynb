{
 "cells": [
  {
   "cell_type": "markdown",
   "metadata": {},
   "source": [
    "# Identifying putative degradation using mass spectral molecular networking"
   ]
  },
  {
   "cell_type": "markdown",
   "metadata": {},
   "source": [
    "To identify putative degradation products we performed a pair-wise correlation analysis of all metabolic features correlating significantly with year of sampling (Spearman's rho, FDR-adjusted P-value < 0.05) using Pearson’s ρ. Putative degradation was then defined as two metabolic features, which 1) correlate significantly with year of sampling (FDR-adjusted P-value < 0.05) , 2) correlate negatively with each other (Pearson’s r < 0; P-value < 0.05), 3) exhibit chemical structural relationship either through high tandem mass spectral similarity (cosine > 0.7) or shared MS2LDA substructural motifs. For visualization and chemical structural annotation, putative degradation products were identified within the mass spectral molecular network by adding edges (connecting lines) between two nodes, meeting criteria 1), 2) and 3). "
   ]
  },
  {
   "cell_type": "markdown",
   "metadata": {},
   "source": [
    "load libraries"
   ]
  },
  {
   "cell_type": "code",
   "execution_count": 1,
   "metadata": {},
   "outputs": [],
   "source": [
    "import pandas as pd\n",
    "import itertools\n",
    "from scipy.stats.stats import pearsonr\n",
    "import session_info"
   ]
  },
  {
   "cell_type": "markdown",
   "metadata": {},
   "source": [
    "load Spearman correlation results (year)"
   ]
  },
  {
   "cell_type": "code",
   "execution_count": 2,
   "metadata": {},
   "outputs": [],
   "source": [
    "corres = pd.read_csv('output/SpearmanCorrelation_year.txt', sep = '\\t')"
   ]
  },
  {
   "cell_type": "markdown",
   "metadata": {},
   "source": [
    "load feature table"
   ]
  },
  {
   "cell_type": "code",
   "execution_count": 3,
   "metadata": {},
   "outputs": [],
   "source": [
    "ft = pd.read_csv('output/RAPCA_ImputedData_Rank100_NA_5.tsv', sep = '\\t', index_col = 0)"
   ]
  },
  {
   "cell_type": "code",
   "execution_count": 4,
   "metadata": {},
   "outputs": [],
   "source": [
    "ft = ft.T"
   ]
  },
  {
   "cell_type": "code",
   "execution_count": 5,
   "metadata": {},
   "outputs": [
    {
     "data": {
      "text/html": [
       "<div>\n",
       "<style scoped>\n",
       "    .dataframe tbody tr th:only-of-type {\n",
       "        vertical-align: middle;\n",
       "    }\n",
       "\n",
       "    .dataframe tbody tr th {\n",
       "        vertical-align: top;\n",
       "    }\n",
       "\n",
       "    .dataframe thead th {\n",
       "        text-align: right;\n",
       "    }\n",
       "</style>\n",
       "<table border=\"1\" class=\"dataframe\">\n",
       "  <thead>\n",
       "    <tr style=\"text-align: right;\">\n",
       "      <th></th>\n",
       "      <th>estimate.cor</th>\n",
       "      <th>p.value</th>\n",
       "      <th>p.value.corrected</th>\n",
       "      <th>cluster id</th>\n",
       "    </tr>\n",
       "  </thead>\n",
       "  <tbody>\n",
       "    <tr>\n",
       "      <th>0</th>\n",
       "      <td>-0.251433</td>\n",
       "      <td>0.000329</td>\n",
       "      <td>0.004146</td>\n",
       "      <td>5</td>\n",
       "    </tr>\n",
       "    <tr>\n",
       "      <th>1</th>\n",
       "      <td>-0.095218</td>\n",
       "      <td>0.179855</td>\n",
       "      <td>0.371396</td>\n",
       "      <td>9</td>\n",
       "    </tr>\n",
       "    <tr>\n",
       "      <th>2</th>\n",
       "      <td>0.004312</td>\n",
       "      <td>0.951682</td>\n",
       "      <td>0.977106</td>\n",
       "      <td>10</td>\n",
       "    </tr>\n",
       "    <tr>\n",
       "      <th>3</th>\n",
       "      <td>0.131672</td>\n",
       "      <td>0.063091</td>\n",
       "      <td>0.188972</td>\n",
       "      <td>14</td>\n",
       "    </tr>\n",
       "    <tr>\n",
       "      <th>4</th>\n",
       "      <td>0.159743</td>\n",
       "      <td>0.023854</td>\n",
       "      <td>0.098516</td>\n",
       "      <td>16</td>\n",
       "    </tr>\n",
       "  </tbody>\n",
       "</table>\n",
       "</div>"
      ],
      "text/plain": [
       "   estimate.cor   p.value  p.value.corrected  cluster id\n",
       "0     -0.251433  0.000329           0.004146           5\n",
       "1     -0.095218  0.179855           0.371396           9\n",
       "2      0.004312  0.951682           0.977106          10\n",
       "3      0.131672  0.063091           0.188972          14\n",
       "4      0.159743  0.023854           0.098516          16"
      ]
     },
     "execution_count": 5,
     "metadata": {},
     "output_type": "execute_result"
    }
   ],
   "source": [
    "corres.head()"
   ]
  },
  {
   "cell_type": "code",
   "execution_count": 6,
   "metadata": {},
   "outputs": [],
   "source": [
    "ft_sig = ft[list(corres['cluster id'][corres['p.value.corrected'] <= 0.05])]"
   ]
  },
  {
   "cell_type": "markdown",
   "metadata": {},
   "source": [
    "calculate all pairwise correlations between features that correlated significantly with year (FDR-corrected p-value < 0.05)"
   ]
  },
  {
   "cell_type": "code",
   "execution_count": 8,
   "metadata": {},
   "outputs": [],
   "source": [
    "correlations = {}\n",
    "columns = ft_sig.columns.tolist()\n",
    "\n",
    "for col_a, col_b in itertools.combinations(columns, 2):\n",
    "    correlations[str(col_a) + '__' + str(col_b)] = pearsonr(ft_sig.loc[:, col_a], ft_sig.loc[:, col_b])\n",
    "\n",
    "result = pd.DataFrame.from_dict(correlations, orient='index')\n",
    "result.columns = ['PCC', 'p-value']\n",
    "\n",
    "#print(result.sort_index())"
   ]
  },
  {
   "cell_type": "markdown",
   "metadata": {},
   "source": [
    "select only negative correlations with p-value < 0.05"
   ]
  },
  {
   "cell_type": "code",
   "execution_count": 9,
   "metadata": {},
   "outputs": [],
   "source": [
    "result = result[result['p-value'] <= 0.05]\n",
    "result = result[result['PCC'] <= 0]"
   ]
  },
  {
   "cell_type": "code",
   "execution_count": 10,
   "metadata": {},
   "outputs": [],
   "source": [
    "result.insert (0, \"ID2\", result.index.str.split('__').str[1])\n",
    "result.insert (0, \"ID1\", result.index.str.split('__').str[0])"
   ]
  },
  {
   "cell_type": "code",
   "execution_count": 11,
   "metadata": {},
   "outputs": [
    {
     "data": {
      "text/html": [
       "<div>\n",
       "<style scoped>\n",
       "    .dataframe tbody tr th:only-of-type {\n",
       "        vertical-align: middle;\n",
       "    }\n",
       "\n",
       "    .dataframe tbody tr th {\n",
       "        vertical-align: top;\n",
       "    }\n",
       "\n",
       "    .dataframe thead th {\n",
       "        text-align: right;\n",
       "    }\n",
       "</style>\n",
       "<table border=\"1\" class=\"dataframe\">\n",
       "  <thead>\n",
       "    <tr style=\"text-align: right;\">\n",
       "      <th></th>\n",
       "      <th>ID1</th>\n",
       "      <th>ID2</th>\n",
       "      <th>PCC</th>\n",
       "      <th>p-value</th>\n",
       "    </tr>\n",
       "  </thead>\n",
       "  <tbody>\n",
       "    <tr>\n",
       "      <th>5__25</th>\n",
       "      <td>5</td>\n",
       "      <td>25</td>\n",
       "      <td>-0.175298</td>\n",
       "      <td>0.013035</td>\n",
       "    </tr>\n",
       "    <tr>\n",
       "      <th>5__282</th>\n",
       "      <td>5</td>\n",
       "      <td>282</td>\n",
       "      <td>-0.159222</td>\n",
       "      <td>0.024321</td>\n",
       "    </tr>\n",
       "    <tr>\n",
       "      <th>5__486</th>\n",
       "      <td>5</td>\n",
       "      <td>486</td>\n",
       "      <td>-0.303904</td>\n",
       "      <td>0.000012</td>\n",
       "    </tr>\n",
       "    <tr>\n",
       "      <th>5__718</th>\n",
       "      <td>5</td>\n",
       "      <td>718</td>\n",
       "      <td>-0.158895</td>\n",
       "      <td>0.024619</td>\n",
       "    </tr>\n",
       "    <tr>\n",
       "      <th>5__724</th>\n",
       "      <td>5</td>\n",
       "      <td>724</td>\n",
       "      <td>-0.241480</td>\n",
       "      <td>0.000572</td>\n",
       "    </tr>\n",
       "  </tbody>\n",
       "</table>\n",
       "</div>"
      ],
      "text/plain": [
       "       ID1  ID2       PCC   p-value\n",
       "5__25    5   25 -0.175298  0.013035\n",
       "5__282   5  282 -0.159222  0.024321\n",
       "5__486   5  486 -0.303904  0.000012\n",
       "5__718   5  718 -0.158895  0.024619\n",
       "5__724   5  724 -0.241480  0.000572"
      ]
     },
     "execution_count": 11,
     "metadata": {},
     "output_type": "execute_result"
    }
   ],
   "source": [
    "result.head()"
   ]
  },
  {
   "cell_type": "code",
   "execution_count": 12,
   "metadata": {},
   "outputs": [
    {
     "data": {
      "text/plain": [
       "(1645, 4)"
      ]
     },
     "execution_count": 12,
     "metadata": {},
     "output_type": "execute_result"
    }
   ],
   "source": [
    "result.shape"
   ]
  },
  {
   "cell_type": "code",
   "execution_count": 13,
   "metadata": {},
   "outputs": [
    {
     "data": {
      "text/html": [
       "<div>\n",
       "<style scoped>\n",
       "    .dataframe tbody tr th:only-of-type {\n",
       "        vertical-align: middle;\n",
       "    }\n",
       "\n",
       "    .dataframe tbody tr th {\n",
       "        vertical-align: top;\n",
       "    }\n",
       "\n",
       "    .dataframe thead th {\n",
       "        text-align: right;\n",
       "    }\n",
       "</style>\n",
       "<table border=\"1\" class=\"dataframe\">\n",
       "  <thead>\n",
       "    <tr style=\"text-align: right;\">\n",
       "      <th></th>\n",
       "      <th>ID1</th>\n",
       "      <th>ID2</th>\n",
       "      <th>PCC</th>\n",
       "      <th>p-value</th>\n",
       "    </tr>\n",
       "  </thead>\n",
       "  <tbody>\n",
       "    <tr>\n",
       "      <th>133__1338</th>\n",
       "      <td>133</td>\n",
       "      <td>1338</td>\n",
       "      <td>-0.503617</td>\n",
       "      <td>2.932484e-14</td>\n",
       "    </tr>\n",
       "  </tbody>\n",
       "</table>\n",
       "</div>"
      ],
      "text/plain": [
       "           ID1   ID2       PCC       p-value\n",
       "133__1338  133  1338 -0.503617  2.932484e-14"
      ]
     },
     "execution_count": 13,
     "metadata": {},
     "output_type": "execute_result"
    }
   ],
   "source": [
    "result[result['PCC'] <= -0.5]"
   ]
  },
  {
   "cell_type": "markdown",
   "metadata": {},
   "source": [
    "plot selected negative correlations"
   ]
  },
  {
   "cell_type": "code",
   "execution_count": 14,
   "metadata": {},
   "outputs": [],
   "source": [
    "import matplotlib.pyplot as plt"
   ]
  },
  {
   "cell_type": "code",
   "execution_count": 15,
   "metadata": {},
   "outputs": [
    {
     "data": {
      "image/png": "[encoded data removed]",
      "text/plain": [
       "<Figure size 432x288 with 1 Axes>"
      ]
     },
     "metadata": {
      "needs_background": "light"
     },
     "output_type": "display_data"
    }
   ],
   "source": [
    "plt.scatter(ft[133], ft[1338])\n",
    "plt.show() # Depending on whether you use IPython or interactive mode, etc."
   ]
  },
  {
   "cell_type": "code",
   "execution_count": 16,
   "metadata": {},
   "outputs": [
    {
     "data": {
      "image/png": "[encoded data removed]",
      "text/plain": [
       "<Figure size 432x288 with 1 Axes>"
      ]
     },
     "metadata": {
      "needs_background": "light"
     },
     "output_type": "display_data"
    }
   ],
   "source": [
    "plt.scatter(ft[29], ft[552])\n",
    "plt.show() # Depending on whether you use IPython or interactive mode, etc."
   ]
  },
  {
   "cell_type": "markdown",
   "metadata": {},
   "source": [
    "create network from correlations"
   ]
  },
  {
   "cell_type": "code",
   "execution_count": 17,
   "metadata": {},
   "outputs": [],
   "source": [
    "import networkx as nx"
   ]
  },
  {
   "cell_type": "code",
   "execution_count": 18,
   "metadata": {},
   "outputs": [],
   "source": [
    "resultList = result.values.tolist()"
   ]
  },
  {
   "cell_type": "code",
   "execution_count": 19,
   "metadata": {},
   "outputs": [],
   "source": [
    "degrad = nx.MultiGraph()"
   ]
  },
  {
   "cell_type": "code",
   "execution_count": 20,
   "metadata": {},
   "outputs": [],
   "source": [
    "for i in range(len(resultList)):\n",
    "    degrad.add_edge(resultList[i][0], resultList[i][1], coefficient=resultList[i][2], pvalue =resultList[i][3], interaction = 'degradation')"
   ]
  },
  {
   "cell_type": "markdown",
   "metadata": {},
   "source": [
    "merge correlation network with ms2lda network"
   ]
  },
  {
   "cell_type": "code",
   "execution_count": 21,
   "metadata": {},
   "outputs": [],
   "source": [
    "ms2lda = nx.read_graphml('../../GNPS_output/MS2LDA/MS2LDA_MOTIFDB-86bc5968-download_cytoscape_data-main.graphml')"
   ]
  },
  {
   "cell_type": "code",
   "execution_count": 22,
   "metadata": {},
   "outputs": [],
   "source": [
    "ms2lda_degradation = nx.compose(ms2lda,degrad)"
   ]
  },
  {
   "cell_type": "code",
   "execution_count": 23,
   "metadata": {},
   "outputs": [
    {
     "data": {
      "text/plain": [
       "{'MEH': 483.0,\n",
       " 'shared_motifs': 'gnps_motif_7.m2m',\n",
       " 'EdgeAnnotation': 'gnps_motif_7.m2m',\n",
       " 'TopSharedMotifs': 'gnps_motif_7.m2m',\n",
       " 'OtherScore': 483.0,\n",
       " 'Cosine': 0.721,\n",
       " 'DeltaMZ': 23.346999999999998,\n",
       " 'interaction': 'gnps_motif_7.m2m',\n",
       " 'EdgeType': 'Mass2Motif',\n",
       " 'ComponentIndex': 44}"
      ]
     },
     "execution_count": 23,
     "metadata": {},
     "output_type": "execute_result"
    }
   ],
   "source": [
    "ms2lda.edges[('483', '573', 1)]"
   ]
  },
  {
   "cell_type": "code",
   "execution_count": 24,
   "metadata": {},
   "outputs": [
    {
     "data": {
      "text/plain": [
       "{'coefficient': -0.19435036212359863,\n",
       " 'pvalue': 0.005821927046518718,\n",
       " 'interaction': 'degradation'}"
      ]
     },
     "execution_count": 24,
     "metadata": {},
     "output_type": "execute_result"
    }
   ],
   "source": [
    "ms2lda_degradation.edges[('5', '797', 0)]"
   ]
  },
  {
   "cell_type": "code",
   "execution_count": 25,
   "metadata": {},
   "outputs": [
    {
     "data": {
      "text/plain": [
       "{'mb_motif_33.m2m': 0.0,\n",
       " 'urine_mass2motif_203.m2m': 0.0,\n",
       " 'urine_mass2motif_282.m2m': 0.0,\n",
       " 'urine_mass2motif_67.m2m': 0.0,\n",
       " 'motif_292': 0.0,\n",
       " 'urine_mass2motif_137.m2m': 0.0,\n",
       " 'motif_276': 0.0,\n",
       " 'mb_motif_150.m2m': 0.0,\n",
       " 'mb_motif_4.m2m': 0.0,\n",
       " 'urine_mass2motif_66.m2m': 0.0,\n",
       " 'urine_mass2motif_88.m2m': 0.0,\n",
       " 'urine_mass2motif_247.m2m': 0.0,\n",
       " 'motif_302': 0.0,\n",
       " 'motif_287': 0.0,\n",
       " 'motif_235': 0.0,\n",
       " 'urine_mass2motif_229.m2m': 0.0,\n",
       " 'urine_mass2motif_111.m2m': 0.0,\n",
       " 'parentrt': '0.0',\n",
       " 'urine_mass2motif_173.m2m': 0.0,\n",
       " 'motif_279': 0.0,\n",
       " 'motif_250': 0.0,\n",
       " 'overlap': '0.9999794069264408',\n",
       " 'gnps_motif_12.m2m': 0.0,\n",
       " 'motif_215': 0.0,\n",
       " 'gnps_motif_13.m2m': 0.0,\n",
       " 'motif_293': 0.0,\n",
       " 'document': '483',\n",
       " 'gnps_motif_3.m2m': 0.0,\n",
       " 'urine_mass2motif_176.m2m': 0.0,\n",
       " 'motif_274': 0.0,\n",
       " 'gnps_motif_48.m2m': 0.0,\n",
       " 'gnps_motif_25.m2m': 0.0,\n",
       " 'urine_mass2motif_237.m2m': 0.0,\n",
       " 'gnps_motif_14.m2m': 0.0,\n",
       " 'urine_mass2motif_95.m2m': 0.0,\n",
       " 'motif_212': 0.0,\n",
       " 'gnps_motif_37.m2m': 0.0,\n",
       " 'urine_mass2motif_18.m2m': 0.0,\n",
       " 'urine_mass2motif_133.m2m': 0.0,\n",
       " 'motif_220': 0.0,\n",
       " 'motif_263': 0.0,\n",
       " 'gnps_motif_45.m2m': 0.0,\n",
       " 'gnps_motif_57.m2m': 0.0,\n",
       " 'urine_mass2motif_246.m2m': 0.0,\n",
       " 'mb_motif_195.m2m': 0.0,\n",
       " 'gnps_motif_47.m2m': 0.0,\n",
       " 'motif_269': 0.0,\n",
       " 'motif_219': 0.0,\n",
       " 'urine_mass2motif_220.m2m': 0.0,\n",
       " 'mb_motif_12.m2m': 0.0,\n",
       " 'gnps_motif_21.m2m': 0.0,\n",
       " 'urine_mass2motif_68.m2m': 0.0,\n",
       " 'urine_mass2motif_181.m2m': 0.0,\n",
       " 'motif_270': 0.0,\n",
       " 'motif_289': 0.0,\n",
       " 'gnps_motif_38.m2m': 0.0,\n",
       " 'motif_240': 0.0,\n",
       " 'gnps_motif_35.m2m': 0.0,\n",
       " 'urine_mass2motif_260.m2m': 0.0,\n",
       " 'motif_241': 0.0,\n",
       " 'gnps_motif_24.m2m': 0.0,\n",
       " 'motif_300': 0.0,\n",
       " 'motif_261': 0.0,\n",
       " 'mb_motif_10.m2m': 0.0,\n",
       " 'urine_mass2motif_93.m2m': 0.0,\n",
       " 'motif_254': 0.0,\n",
       " 'motif_303': 0.0,\n",
       " 'gnps_motif_51.m2m': 0.0,\n",
       " 'gnps_motif_72.m2m': 0.0,\n",
       " 'motif_255': 0.0,\n",
       " 'urine_mass2motif_57.m2m': 0.0,\n",
       " 'urine_mass2motif_104.m2m': 0.0,\n",
       " 'motif_291': 0.0,\n",
       " 'urine_mass2motif_64.m2m': 0.0,\n",
       " 'motif_230': 0.0,\n",
       " 'motif_267': 0.0,\n",
       " 'urine_mass2motif_212.m2m': 0.0,\n",
       " 'gnps_motif_15.m2m': 0.0,\n",
       " 'motif_268': 0.0,\n",
       " 'motif_299': 0.0,\n",
       " 'motif': 'gnps_motif_7.m2m',\n",
       " 'urine_mass2motif_284.m2m': 0.0,\n",
       " 'motif_246': 0.0,\n",
       " 'urine_mass2motif_90.m2m': 0.0,\n",
       " 'gnps_motif_40.m2m': 0.0,\n",
       " 'urine_mass2motif_248.m2m': 0.0,\n",
       " 'motif_304': 0.0,\n",
       " 'motif_221': 0.0,\n",
       " 'urine_mass2motif_97.m2m': 0.0,\n",
       " 'motif_280': 0.0,\n",
       " 'gnps_motif_4.m2m': 0.0,\n",
       " 'urine_mass2motif_192.m2m': 0.0,\n",
       " 'motif_275': 0.0,\n",
       " 'urine_mass2motif_291.m2m': 0.0,\n",
       " 'motif_225': 0.0,\n",
       " 'motif_309': 0.0,\n",
       " 'motif_285': 0.0,\n",
       " 'motif_310': 0.0,\n",
       " 'gnps_motif_11.m2m': 0.0,\n",
       " 'motif_243': 0.0,\n",
       " 'mb_motif_40.m2m': 0.0,\n",
       " 'urine_mass2motif_191.m2m': 0.0,\n",
       " 'urine_mass2motif_37.m2m': 0.0,\n",
       " 'motif_281': 0.0,\n",
       " 'motif_252': 0.0,\n",
       " 'motif_245': 0.0,\n",
       " 'motif_226': 0.0,\n",
       " 'precursormass': '393.8847',\n",
       " 'gnps_motif_52.m2m': 0.0,\n",
       " 'urine_mass2motif_159.m2m': 0.0,\n",
       " 'motif_286': 0.0,\n",
       " 'urine_mass2motif_241.m2m': 0.0,\n",
       " 'gnps_motif_50.m2m': 0.0,\n",
       " 'gnps_motif_17.m2m': 0.0,\n",
       " 'gnps_motif_44.m2m': 0.0,\n",
       " 'urine_mass2motif_183.m2m': 0.0,\n",
       " 'gnps_motif_43.m2m': 0.0,\n",
       " 'motif_284': 0.0,\n",
       " 'gnps_motif_7.m2m': 0.9999794069264408,\n",
       " 'urine_mass2motif_1.m2m': 0.0,\n",
       " 'gnps_motif_170.m2m': 0.0,\n",
       " 'motif_248': 0.0,\n",
       " 'urine_mass2motif_164.m2m': 0.0,\n",
       " 'mb_motif_14.m2m': 0.0,\n",
       " 'gnps_motif_56.m2m': 0.0,\n",
       " 'urine_mass2motif_130.m2m': 0.0,\n",
       " 'urine_mass2motif_163.m2m': 0.0,\n",
       " 'motif_213': 0.0,\n",
       " 'urine_mass2motif_128.m2m': 0.0,\n",
       " 'motif_253': 0.0,\n",
       " 'mb_motif_28.m2m': 0.0,\n",
       " 'motif_271': 0.0,\n",
       " 'gnps_motif_49.m2m': 0.0,\n",
       " 'motifdb_annotation': 'Small nitrogen containing fragment ion – often proline or ornithine derived – most abundant fragment in beer data',\n",
       " 'urine_mass2motif_122.m2m': 0.0,\n",
       " 'mb_motif_29.m2m': 0.0,\n",
       " 'gnps_motif_42.m2m': 0.0,\n",
       " 'probability': '0.10353705734734524',\n",
       " 'motifdb_url': 'http://ms2lda.org/motifdb/motif/151013',\n",
       " 'gnps_motif_6.m2m': 0.0,\n",
       " 'motif_224': 0.0,\n",
       " 'urine_mass2motif_27.m2m': 0.0,\n",
       " 'urine_mass2motif_78.m2m': 0.0,\n",
       " 'urine_mass2motif_213.m2m': 0.0,\n",
       " 'motif_262': 0.0,\n",
       " 'motif_239': 0.0,\n",
       " 'motif_211': 0.0,\n",
       " 'motif_290': 0.0,\n",
       " 'motif_306': 0.0,\n",
       " 'gnps_motif_59.m2m': 0.0}"
      ]
     },
     "execution_count": 25,
     "metadata": {},
     "output_type": "execute_result"
    }
   ],
   "source": [
    "ms2lda.nodes['483']"
   ]
  },
  {
   "cell_type": "markdown",
   "metadata": {},
   "source": [
    "remove correlations between features with no structural similarity (cosine) or shared motifs"
   ]
  },
  {
   "cell_type": "code",
   "execution_count": 26,
   "metadata": {},
   "outputs": [],
   "source": [
    "edgelist = list(ms2lda_degradation.edges(data=True, keys=True))"
   ]
  },
  {
   "cell_type": "code",
   "execution_count": 27,
   "metadata": {},
   "outputs": [],
   "source": [
    "for u,v,k,data in edgelist:\n",
    "    if(len(data) == 3 and list(data.keys()) == ['coefficient', 'pvalue', 'interaction']):\n",
    "        n1 = [s for s in list({x:y for x,y in ms2lda_degradation.nodes[u].items() if y!=0}.keys()) if \"motif\" in s]\n",
    "        n2 = [s for s in list({x:y for x,y in ms2lda_degradation.nodes[v].items() if y!=0}.keys()) if \"motif\" in s]\n",
    "        #print(set(n1).intersection(set(n2)))\n",
    "        if len(set(n1).intersection(set(n2))) <= 3:\n",
    "            #print(len(set(n1).intersection(set(n2))))\n",
    "            ms2lda_degradation.remove_edge(u,v,key=k)"
   ]
  },
  {
   "cell_type": "code",
   "execution_count": 28,
   "metadata": {},
   "outputs": [],
   "source": [
    "nx.write_graphml(ms2lda_degradation, \"output/MS2LDA_Degradation_merged_Network.graphml\", infer_numeric_types = False)"
   ]
  },
  {
   "cell_type": "code",
   "execution_count": 29,
   "metadata": {},
   "outputs": [
    {
     "data": {
      "text/html": [
       "<details>\n",
       "<summary>Click to view session information</summary>\n",
       "<pre>\n",
       "-----\n",
       "matplotlib          3.1.0\n",
       "networkx            2.3\n",
       "pandas              0.24.2\n",
       "scipy               1.4.1\n",
       "session_info        1.0.0\n",
       "-----\n",
       "</pre>\n",
       "<details>\n",
       "<summary>Click to view modules imported as dependencies</summary>\n",
       "<pre>\n",
       "PIL                 6.1.0\n",
       "atomicwrites        1.3.0\n",
       "attr                19.1.0\n",
       "backcall            0.2.0\n",
       "bottleneck          1.2.1\n",
       "cffi                1.12.3\n",
       "colorama            0.4.1\n",
       "cycler              0.10.0\n",
       "cython_runtime      NA\n",
       "dateutil            2.8.0\n",
       "decorator           4.4.0\n",
       "importlib_metadata  0.17\n",
       "ipykernel           5.1.1\n",
       "ipyparallel         6.3.0\n",
       "ipython_genutils    0.2.0\n",
       "ipywidgets          7.5.0\n",
       "jedi                0.13.3\n",
       "kiwisolver          1.1.0\n",
       "lxml                NA\n",
       "mkl_fft             1.0.12\n",
       "more_itertools      NA\n",
       "mpl_toolkits        NA\n",
       "mtrand              NA\n",
       "numpy               1.16.4\n",
       "packaging           19.0\n",
       "parso               0.5.0\n",
       "pexpect             4.7.0\n",
       "pickleshare         0.7.5\n",
       "pluggy              0.12.0\n",
       "prompt_toolkit      2.0.9\n",
       "ptyprocess          0.6.0\n",
       "py                  1.8.0\n",
       "pygments            2.4.2\n",
       "pyparsing           2.4.0\n",
       "pyteomics           NA\n",
       "pytest              5.0.1\n",
       "pytz                2019.1\n",
       "six                 1.15.0\n",
       "sphinxcontrib       NA\n",
       "storemagic          NA\n",
       "tornado             6.0.3\n",
       "traitlets           4.3.2\n",
       "wcwidth             NA\n",
       "zipp                NA\n",
       "zmq                 18.0.0\n",
       "</pre>\n",
       "</details> <!-- seems like this ends pre, so might as well be explicit -->\n",
       "<pre>\n",
       "-----\n",
       "IPython             7.6.1\n",
       "jupyter_client      5.3.1\n",
       "jupyter_core        4.5.0\n",
       "jupyterlab          1.0.2\n",
       "notebook            6.0.0\n",
       "-----\n",
       "Python 3.7.3 (default, Mar 27 2019, 16:54:48) [Clang 4.0.1 (tags/RELEASE_401/final)]\n",
       "Darwin-20.2.0-x86_64-i386-64bit\n",
       "-----\n",
       "Session information updated at 2022-06-16 11:07\n",
       "</pre>\n",
       "</details>"
      ],
      "text/plain": [
       "<IPython.core.display.HTML object>"
      ]
     },
     "execution_count": 29,
     "metadata": {},
     "output_type": "execute_result"
    }
   ],
   "source": [
    "session_info.show()"
   ]
  },
  {
   "cell_type": "code",
   "execution_count": null,
   "metadata": {},
   "outputs": [],
   "source": []
  }
 ],
 "metadata": {
  "kernelspec": {
   "display_name": "Python 3",
   "language": "python",
   "name": "python3"
  },
  "language_info": {
   "codemirror_mode": {
    "name": "ipython",
    "version": 3
   },
   "file_extension": ".py",
   "mimetype": "text/x-python",
   "name": "python",
   "nbconvert_exporter": "python",
   "pygments_lexer": "ipython3",
   "version": "3.7.3"
  }
 },
 "nbformat": 4,
 "nbformat_minor": 2
}
