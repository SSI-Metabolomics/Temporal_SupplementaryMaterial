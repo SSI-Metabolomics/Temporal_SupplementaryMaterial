{
 "cells": [
  {
   "cell_type": "markdown",
   "metadata": {},
   "source": [
    "Download GNPS data <br>\n",
    "Replace Job ID xy below with your GNPS job ID:"
   ]
  },
  {
   "cell_type": "code",
   "execution_count": 1,
   "metadata": {},
   "outputs": [],
   "source": [
    "#! curl -d \"\" 'https://gnps.ucsd.edu/ProteoSAFe/DownloadResult?task=xy&view=download_cytoscape_data' -o ../GNPS_output/Network.zip\n",
    "#! unzip -d ../GNPS_output/Network ../GNPS_output/Network.zip"
   ]
  },
  {
   "cell_type": "markdown",
   "metadata": {},
   "source": [
    "specify your NAP job ID:"
   ]
  },
  {
   "cell_type": "code",
   "execution_count": 2,
   "metadata": {},
   "outputs": [],
   "source": [
    "nap_id1 = 'xy'\n",
    "nap_id2 = 'xy'"
   ]
  },
  {
   "cell_type": "markdown",
   "metadata": {},
   "source": [
    "load libraries"
   ]
  },
  {
   "cell_type": "code",
   "execution_count": 3,
   "metadata": {},
   "outputs": [],
   "source": [
    "from pyMolNetEnhancer import *\n",
    "import pandas as pd\n",
    "import os\n",
    "import csv \n",
    "import json\n",
    "from networkx import *\n",
    "path = '/Applications/MarvinSuite/bin/' #path to MarvinSuite's molconvert used to convert SMILES to InchiKeys\n",
    "os.environ['PATH'] += ':'+path"
   ]
  },
  {
   "cell_type": "code",
   "execution_count": 5,
   "metadata": {},
   "outputs": [],
   "source": [
    "if 'clusterinfo_summary' in os.listdir('../GNPS_output/Network/') and 'DB_result' in os.listdir('../GNPS_output/Network/'):\n",
    "    netfile = '../GNPS_output/Network/clusterinfo_summary/' + str(os.listdir('../GNPS_output/Network/clusterinfo_summary/')[0]) \n",
    "    gnpslibfile = '../GNPS_output/Network/DB_result/'+ str(os.listdir('../GNPS_output/Network/DB_result/')[0]) \n",
    "elif 'clusterinfosummarygroup_attributes_withIDs_withcomponentID' in os.listdir('../GNPS_output/Network/'):\n",
    "    netfile = '../GNPS_output/Network/clusterinfosummarygroup_attributes_withIDs_withcomponentID/' + str(os.listdir('../GNPS_output/Network/clusterinfosummarygroup_attributes_withIDs_withcomponentID/')[0])\n",
    "    gnpslibfile = '../GNPS_output/Network/result_specnets_DB/'+ str(os.listdir('../GNPS_output/Network/result_specnets_DB/')[0])\n",
    "else:\n",
    "    netfile = '../GNPS_output/Network/clusterinfosummary/' + str(os.listdir('../GNPS_output/Network/clusterinfosummary/')[0])\n",
    "    gnpslibfile = '../GNPS_output/Network/result_specnets_DB/'+ str(os.listdir('../GNPS_output/Network/result_specnets_DB/')[0]) "
   ]
  },
  {
   "cell_type": "code",
   "execution_count": 6,
   "metadata": {},
   "outputs": [],
   "source": [
    "#derep = pd.read_csv('Derep_output/'+[s for s in os.listdir('Derep_output') if \"DEREPLICATOR\" in s][0], sep = '\\t')"
   ]
  },
  {
   "cell_type": "code",
   "execution_count": 7,
   "metadata": {},
   "outputs": [],
   "source": [
    "nap1 = pd.read_csv(\"http://proteomics2.ucsd.edu/ProteoSAFe/DownloadResultFile?task=\"+nap_id1+\"&block=main&file=final_out/node_attributes_table.tsv\", sep = \"\\t\")\n",
    "nap2 = pd.read_csv(\"http://proteomics2.ucsd.edu/ProteoSAFe/DownloadResultFile?task=\"+nap_id2+\"&block=main&file=final_out/node_attributes_table.tsv\", sep = \"\\t\")\n",
    "gnpslib = pd.read_csv(gnpslibfile, sep='\\t',error_bad_lines=False)"
   ]
  },
  {
   "cell_type": "code",
   "execution_count": 8,
   "metadata": {},
   "outputs": [
    {
     "data": {
      "text/plain": [
       "(122, 46)"
      ]
     },
     "execution_count": 8,
     "metadata": {},
     "output_type": "execute_result"
    }
   ],
   "source": [
    "gnpslib.shape"
   ]
  },
  {
   "cell_type": "markdown",
   "metadata": {},
   "source": [
    "add all chemical structural information output as dataframe items in list"
   ]
  },
  {
   "cell_type": "code",
   "execution_count": 9,
   "metadata": {},
   "outputs": [],
   "source": [
    "matches = [gnpslib, nap1, nap2]"
   ]
  },
  {
   "cell_type": "code",
   "execution_count": 10,
   "metadata": {},
   "outputs": [],
   "source": [
    "out = unique_smiles(matches)"
   ]
  },
  {
   "cell_type": "code",
   "execution_count": 13,
   "metadata": {},
   "outputs": [],
   "source": [
    "out['df'].to_csv(\"../output/SMILES.csv\", quoting=csv.QUOTE_NONE, escapechar='&')"
   ]
  },
  {
   "cell_type": "markdown",
   "metadata": {},
   "source": [
    "convert SMILES to InchiKeys"
   ]
  },
  {
   "cell_type": "code",
   "execution_count": 17,
   "metadata": {},
   "outputs": [],
   "source": [
    "! molconvert inchikey:SAbs ../output/SMILES.csv{csv:strucSMILES} -o ../output/InchiKeys.txt"
   ]
  },
  {
   "cell_type": "code",
   "execution_count": 18,
   "metadata": {},
   "outputs": [],
   "source": [
    "ikeys = pd.read_csv(\"../output/InchiKeys.txt\",  sep='\\t',header = None)\n",
    "\n",
    "out['df'][\"inchikey\"] = ikeys\n",
    "inchi_dic = make_inchidic(out)\n",
    "\n",
    "ikeys.columns = [\"InChIKey\"]\n",
    "ikeys.to_csv(\"../output/InchiKeys.txt\", quoting=csv.QUOTE_NONE, escapechar='&')"
   ]
  },
  {
   "cell_type": "markdown",
   "metadata": {},
   "source": [
    "retrieve ClassyFire classifcations"
   ]
  },
  {
   "cell_type": "code",
   "execution_count": 19,
   "metadata": {},
   "outputs": [
    {
     "name": "stdout",
     "output_type": "stream",
     "text": [
      "1000\n",
      "2000\n",
      "3000\n",
      "4000\n"
     ]
    }
   ],
   "source": [
    "get_classifications(\"../output/InchiKeys.txt\")"
   ]
  },
  {
   "cell_type": "code",
   "execution_count": 20,
   "metadata": {},
   "outputs": [],
   "source": [
    "with open(\"all_json.json\") as tweetfile:\n",
    "    jsondic = json.loads(tweetfile.read())\n",
    "\n",
    "\n",
    "df = make_classy_table(jsondic)\n",
    "df = df.rename(columns = {'class':'CF_class','smiles':'SMILES'})\n",
    "net = pd.read_csv(netfile,  sep='\\t')\n",
    "\n",
    "\n",
    "final = molfam_classes(net,df,inchi_dic)"
   ]
  },
  {
   "cell_type": "code",
   "execution_count": 21,
   "metadata": {},
   "outputs": [
    {
     "data": {
      "text/html": [
       "<div>\n",
       "<style scoped>\n",
       "    .dataframe tbody tr th:only-of-type {\n",
       "        vertical-align: middle;\n",
       "    }\n",
       "\n",
       "    .dataframe tbody tr th {\n",
       "        vertical-align: top;\n",
       "    }\n",
       "\n",
       "    .dataframe thead th {\n",
       "        text-align: right;\n",
       "    }\n",
       "</style>\n",
       "<table border=\"1\" class=\"dataframe\">\n",
       "  <thead>\n",
       "    <tr style=\"text-align: right;\">\n",
       "      <th></th>\n",
       "      <th>cluster index</th>\n",
       "      <th>CF_componentindex</th>\n",
       "      <th>CF_NrNodes</th>\n",
       "      <th>CF_kingdom</th>\n",
       "      <th>CF_kingdom_score</th>\n",
       "      <th>CF_superclass</th>\n",
       "      <th>CF_superclass_score</th>\n",
       "      <th>CF_class</th>\n",
       "      <th>CF_class_score</th>\n",
       "      <th>CF_subclass</th>\n",
       "      <th>CF_subclass_score</th>\n",
       "      <th>CF_Dparent</th>\n",
       "      <th>CF_Dparent_score</th>\n",
       "      <th>CF_MFramework</th>\n",
       "      <th>CF_MFramework_score</th>\n",
       "    </tr>\n",
       "  </thead>\n",
       "  <tbody>\n",
       "    <tr>\n",
       "      <th>0</th>\n",
       "      <td>1</td>\n",
       "      <td>15</td>\n",
       "      <td>33</td>\n",
       "      <td>Organic compounds</td>\n",
       "      <td>0.997576</td>\n",
       "      <td>Organoheterocyclic compounds</td>\n",
       "      <td>0.244969</td>\n",
       "      <td>Carboxylic acids and derivatives</td>\n",
       "      <td>0.158717</td>\n",
       "      <td>NaN</td>\n",
       "      <td>0.183604</td>\n",
       "      <td>Coumarins and derivatives</td>\n",
       "      <td>0.0330884</td>\n",
       "      <td>Aromatic heteropolycyclic compounds</td>\n",
       "      <td>0.403326</td>\n",
       "    </tr>\n",
       "    <tr>\n",
       "      <th>1</th>\n",
       "      <td>71</td>\n",
       "      <td>15</td>\n",
       "      <td>33</td>\n",
       "      <td>Organic compounds</td>\n",
       "      <td>0.997576</td>\n",
       "      <td>Organoheterocyclic compounds</td>\n",
       "      <td>0.244969</td>\n",
       "      <td>Carboxylic acids and derivatives</td>\n",
       "      <td>0.158717</td>\n",
       "      <td>NaN</td>\n",
       "      <td>0.183604</td>\n",
       "      <td>Coumarins and derivatives</td>\n",
       "      <td>0.0330884</td>\n",
       "      <td>Aromatic heteropolycyclic compounds</td>\n",
       "      <td>0.403326</td>\n",
       "    </tr>\n",
       "    <tr>\n",
       "      <th>2</th>\n",
       "      <td>82</td>\n",
       "      <td>15</td>\n",
       "      <td>33</td>\n",
       "      <td>Organic compounds</td>\n",
       "      <td>0.997576</td>\n",
       "      <td>Organoheterocyclic compounds</td>\n",
       "      <td>0.244969</td>\n",
       "      <td>Carboxylic acids and derivatives</td>\n",
       "      <td>0.158717</td>\n",
       "      <td>NaN</td>\n",
       "      <td>0.183604</td>\n",
       "      <td>Coumarins and derivatives</td>\n",
       "      <td>0.0330884</td>\n",
       "      <td>Aromatic heteropolycyclic compounds</td>\n",
       "      <td>0.403326</td>\n",
       "    </tr>\n",
       "    <tr>\n",
       "      <th>3</th>\n",
       "      <td>115</td>\n",
       "      <td>15</td>\n",
       "      <td>33</td>\n",
       "      <td>Organic compounds</td>\n",
       "      <td>0.997576</td>\n",
       "      <td>Organoheterocyclic compounds</td>\n",
       "      <td>0.244969</td>\n",
       "      <td>Carboxylic acids and derivatives</td>\n",
       "      <td>0.158717</td>\n",
       "      <td>NaN</td>\n",
       "      <td>0.183604</td>\n",
       "      <td>Coumarins and derivatives</td>\n",
       "      <td>0.0330884</td>\n",
       "      <td>Aromatic heteropolycyclic compounds</td>\n",
       "      <td>0.403326</td>\n",
       "    </tr>\n",
       "    <tr>\n",
       "      <th>4</th>\n",
       "      <td>125</td>\n",
       "      <td>15</td>\n",
       "      <td>33</td>\n",
       "      <td>Organic compounds</td>\n",
       "      <td>0.997576</td>\n",
       "      <td>Organoheterocyclic compounds</td>\n",
       "      <td>0.244969</td>\n",
       "      <td>Carboxylic acids and derivatives</td>\n",
       "      <td>0.158717</td>\n",
       "      <td>NaN</td>\n",
       "      <td>0.183604</td>\n",
       "      <td>Coumarins and derivatives</td>\n",
       "      <td>0.0330884</td>\n",
       "      <td>Aromatic heteropolycyclic compounds</td>\n",
       "      <td>0.403326</td>\n",
       "    </tr>\n",
       "  </tbody>\n",
       "</table>\n",
       "</div>"
      ],
      "text/plain": [
       "   cluster index CF_componentindex  CF_NrNodes         CF_kingdom  \\\n",
       "0              1                15          33  Organic compounds   \n",
       "1             71                15          33  Organic compounds   \n",
       "2             82                15          33  Organic compounds   \n",
       "3            115                15          33  Organic compounds   \n",
       "4            125                15          33  Organic compounds   \n",
       "\n",
       "  CF_kingdom_score                 CF_superclass CF_superclass_score  \\\n",
       "0         0.997576  Organoheterocyclic compounds            0.244969   \n",
       "1         0.997576  Organoheterocyclic compounds            0.244969   \n",
       "2         0.997576  Organoheterocyclic compounds            0.244969   \n",
       "3         0.997576  Organoheterocyclic compounds            0.244969   \n",
       "4         0.997576  Organoheterocyclic compounds            0.244969   \n",
       "\n",
       "                           CF_class CF_class_score CF_subclass  \\\n",
       "0  Carboxylic acids and derivatives       0.158717         NaN   \n",
       "1  Carboxylic acids and derivatives       0.158717         NaN   \n",
       "2  Carboxylic acids and derivatives       0.158717         NaN   \n",
       "3  Carboxylic acids and derivatives       0.158717         NaN   \n",
       "4  Carboxylic acids and derivatives       0.158717         NaN   \n",
       "\n",
       "  CF_subclass_score                 CF_Dparent CF_Dparent_score  \\\n",
       "0          0.183604  Coumarins and derivatives        0.0330884   \n",
       "1          0.183604  Coumarins and derivatives        0.0330884   \n",
       "2          0.183604  Coumarins and derivatives        0.0330884   \n",
       "3          0.183604  Coumarins and derivatives        0.0330884   \n",
       "4          0.183604  Coumarins and derivatives        0.0330884   \n",
       "\n",
       "                         CF_MFramework CF_MFramework_score  \n",
       "0  Aromatic heteropolycyclic compounds            0.403326  \n",
       "1  Aromatic heteropolycyclic compounds            0.403326  \n",
       "2  Aromatic heteropolycyclic compounds            0.403326  \n",
       "3  Aromatic heteropolycyclic compounds            0.403326  \n",
       "4  Aromatic heteropolycyclic compounds            0.403326  "
      ]
     },
     "execution_count": 21,
     "metadata": {},
     "output_type": "execute_result"
    }
   ],
   "source": [
    "final.head()"
   ]
  },
  {
   "cell_type": "markdown",
   "metadata": {},
   "source": [
    "write ClassyFire results per molecular family to file. To visualize chemical classes within the mass spectral molecular network, this file can be imported as table into Cytoscape."
   ]
  },
  {
   "cell_type": "code",
   "execution_count": 22,
   "metadata": {},
   "outputs": [],
   "source": [
    "final.to_csv(\"../output/ClassyFireResults_Network.txt\", sep = '\\t', index = False)"
   ]
  },
  {
   "cell_type": "markdown",
   "metadata": {},
   "source": [
    "how many InChIKeys could not be classified? (percentage of total submitted InChIKeys)"
   ]
  },
  {
   "cell_type": "code",
   "execution_count": 23,
   "metadata": {},
   "outputs": [
    {
     "data": {
      "text/plain": [
       "0.005963302752293578"
      ]
     },
     "execution_count": 23,
     "metadata": {},
     "output_type": "execute_result"
    }
   ],
   "source": [
    "len(set(list(ikeys.InChIKey)) - set(list(df.inchikey)))/len(set(list(ikeys.InChIKey)))"
   ]
  },
  {
   "cell_type": "markdown",
   "metadata": {},
   "source": [
    "which InChIKeys could not be classified?"
   ]
  },
  {
   "cell_type": "code",
   "execution_count": 24,
   "metadata": {},
   "outputs": [
    {
     "data": {
      "text/plain": [
       "{'InChIKey=AIFUEUDNKHXATH-LDLOPFEMSA-N',\n",
       " 'InChIKey=BDLOYQXKGAKUOW-KXBFYZLASA-O',\n",
       " 'InChIKey=BSLFBXWCUALIAR-CYBMUJFWSA-M',\n",
       " 'InChIKey=CCSZJBCZZCTGRR-XRXFFOJZSA-M',\n",
       " 'InChIKey=GROJVGYPODRKQN-UHFFFAOYSA-M',\n",
       " 'InChIKey=GXBRKDCCCPVLQF-LDLOPFEMSA-N',\n",
       " 'InChIKey=IEKOTSCYBBDIJC-LJQANCHMSA-M',\n",
       " 'InChIKey=JAHDAIPFBPPQHQ-UHFFFAOYSA-N',\n",
       " 'InChIKey=JRLWFBQZMUBEJU-KLMICZSBSA-N',\n",
       " 'InChIKey=KZYURKFVECTBBF-DIPNUNPCSA-N',\n",
       " 'InChIKey=LDWLOOALTYTPDA-FVTFTPSCSA-M',\n",
       " 'InChIKey=LJFXMYJWGWDOHP-OPNZPCBVSA-M',\n",
       " 'InChIKey=OYDSYYITLGQRHW-UHFFFAOYSA-M',\n",
       " 'InChIKey=PBZMYKRPZYCWSZ-KLMICZSBSA-N',\n",
       " 'InChIKey=PLXXRMIOJWENQI-OAHLLOKOSA-M',\n",
       " 'InChIKey=QLVHBWUZDKPUCA-LDLOPFEMSA-N',\n",
       " 'InChIKey=QSMWBKZZGXMYCO-AWEZNQCLSA-M',\n",
       " 'InChIKey=SDOFJRBZPHZENA-ZDUSSCGKSA-M',\n",
       " 'InChIKey=SEFBYRGDYPSSFP-KDXMTYKHSA-N',\n",
       " 'InChIKey=TYESGYJYLAMSIN-LDLOPFEMSA-N',\n",
       " 'InChIKey=VQFBHHBERXAYKU-HDJSIYSDSA-P',\n",
       " 'InChIKey=WEXRBKRFCBLWEL-UHFFFAOYSA-N',\n",
       " 'InChIKey=WSNOMGCXCMXPNC-ATVHPVEESA-N',\n",
       " 'InChIKey=XDSSPSLGNGIIHP-GSVOUGTGSA-M',\n",
       " 'InChIKey=YGTOBGZAMBBVIE-UHFFFAOYSA-M',\n",
       " 'InChIKey=YONXMCIBVLEGTK-UKWGHVSLSA-M'}"
      ]
     },
     "execution_count": 24,
     "metadata": {},
     "output_type": "execute_result"
    }
   ],
   "source": [
    "set(list(ikeys.InChIKey)) - set(list(df.inchikey))"
   ]
  },
  {
   "cell_type": "markdown",
   "metadata": {},
   "source": [
    "create graphML file (optional)"
   ]
  },
  {
   "cell_type": "code",
   "execution_count": 25,
   "metadata": {},
   "outputs": [],
   "source": [
    "#if any(\"FEATURE\" in s for s in os.listdir('GNPS_output_graphML/')):\n",
    "    #graphMLfile = 'GNPS_output_graphML/' + [x for x in os.listdir('GNPS_output_graphML/') if 'FEATURE' in x][0]\n",
    "    #graphML = read_graphml(graphMLfile)\n",
    "    #graphML_classy = make_classyfire_graphml(graphML,final)\n",
    "    #nx.write_graphml(graphML_classy, \"ClassyFireResults_Network.graphml\", infer_numeric_types = True)\n",
    "#elif any(\"METABOLOMICS\" in s for s in os.listdir('GNPS_output_graphML/')):\n",
    "    #graphMLfile = 'GNPS_output_graphML/' + [x for x in os.listdir('GNPS_output_graphML/') if 'METABOLOMICS' in x][0]\n",
    "    #graphML = read_graphml(graphMLfile)\n",
    "    #graphML_classy = make_classyfire_graphml(graphML,final)\n",
    "    #nx.write_graphml(graphML_classy, \"ClassyFireResults_Network.graphml\", infer_numeric_types = True)\n",
    "#else:\n",
    "    #print('There is no graphML file for this GNPS molecular network job')"
   ]
  },
  {
   "cell_type": "code",
   "execution_count": 4,
   "metadata": {},
   "outputs": [
    {
     "data": {
      "text/html": [
       "<details>\n",
       "<summary>Click to view session information</summary>\n",
       "<pre>\n",
       "-----\n",
       "networkx            2.3\n",
       "pandas              0.24.2\n",
       "pyMolNetEnhancer    NA\n",
       "session_info        1.0.0\n",
       "-----\n",
       "</pre>\n",
       "<details>\n",
       "<summary>Click to view modules imported as dependencies</summary>\n",
       "<pre>\n",
       "OpenSSL             19.0.0\n",
       "asn1crypto          0.24.0\n",
       "backcall            0.2.0\n",
       "bottleneck          1.2.1\n",
       "certifi             2019.06.16\n",
       "chardet             3.0.4\n",
       "colorama            0.4.1\n",
       "cryptography        2.7\n",
       "cycler              0.10.0\n",
       "cython_runtime      NA\n",
       "dateutil            2.8.0\n",
       "decorator           4.4.0\n",
       "idna                2.8\n",
       "ipykernel           5.1.1\n",
       "ipyparallel         6.3.0\n",
       "ipython_genutils    0.2.0\n",
       "ipywidgets          7.5.0\n",
       "jedi                0.13.3\n",
       "joblib              0.13.2\n",
       "kiwisolver          1.1.0\n",
       "lxml                NA\n",
       "matplotlib          3.1.0\n",
       "mkl_fft             1.0.12\n",
       "mpl_toolkits        NA\n",
       "mtrand              NA\n",
       "numpy               1.16.4\n",
       "parso               0.5.0\n",
       "pexpect             4.7.0\n",
       "pickleshare         0.7.5\n",
       "prompt_toolkit      2.0.9\n",
       "psutil              5.6.3\n",
       "ptyprocess          0.6.0\n",
       "pygments            2.4.2\n",
       "pyparsing           2.4.0\n",
       "pyteomics           NA\n",
       "pytz                2019.1\n",
       "requests            2.22.0\n",
       "requests_cache      0.5.2\n",
       "scipy               1.4.1\n",
       "six                 1.15.0\n",
       "socks               1.7.0\n",
       "sphinxcontrib       NA\n",
       "storemagic          NA\n",
       "tornado             6.0.3\n",
       "traitlets           4.3.2\n",
       "urllib3             1.24.2\n",
       "wcwidth             NA\n",
       "zmq                 18.0.0\n",
       "</pre>\n",
       "</details> <!-- seems like this ends pre, so might as well be explicit -->\n",
       "<pre>\n",
       "-----\n",
       "IPython             7.6.1\n",
       "jupyter_client      5.3.1\n",
       "jupyter_core        4.5.0\n",
       "jupyterlab          1.0.2\n",
       "notebook            6.0.0\n",
       "-----\n",
       "Python 3.7.3 (default, Mar 27 2019, 16:54:48) [Clang 4.0.1 (tags/RELEASE_401/final)]\n",
       "Darwin-20.2.0-x86_64-i386-64bit\n",
       "-----\n",
       "Session information updated at 2022-06-16 10:55\n",
       "</pre>\n",
       "</details>"
      ],
      "text/plain": [
       "<IPython.core.display.HTML object>"
      ]
     },
     "execution_count": 4,
     "metadata": {},
     "output_type": "execute_result"
    }
   ],
   "source": [
    "import session_info\n",
    "\n",
    "\n",
    "session_info.show()"
   ]
  },
  {
   "cell_type": "code",
   "execution_count": null,
   "metadata": {},
   "outputs": [],
   "source": []
  }
 ],
 "metadata": {
  "kernelspec": {
   "display_name": "Python 3",
   "language": "python",
   "name": "python3"
  },
  "language_info": {
   "codemirror_mode": {
    "name": "ipython",
    "version": 3
   },
   "file_extension": ".py",
   "mimetype": "text/x-python",
   "name": "python",
   "nbconvert_exporter": "python",
   "pygments_lexer": "ipython3",
   "version": "3.7.3"
  }
 },
 "nbformat": 4,
 "nbformat_minor": 2
}
