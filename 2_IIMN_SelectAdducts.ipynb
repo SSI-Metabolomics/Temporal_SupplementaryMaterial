{
 "cells": [
  {
   "cell_type": "markdown",
   "metadata": {},
   "source": [
    "# Select adducts deriving from same molecular features "
   ]
  },
  {
   "cell_type": "markdown",
   "metadata": {},
   "source": [
    "To reduce redundancy we are selecting the adduct with least non-zero values for each mass spectral feature. Adducts were defined through the ion identity molecular networking workflow within GNPS [Schmid et al., 2021](https://www.nature.com/articles/s41467-021-23953-9)."
   ]
  },
  {
   "cell_type": "markdown",
   "metadata": {},
   "source": [
    "load libraries"
   ]
  },
  {
   "cell_type": "code",
   "execution_count": 1,
   "metadata": {},
   "outputs": [
    {
     "data": {
      "text/html": [
       "<details>\n",
       "<summary>Click to view session information</summary>\n",
       "<pre>\n",
       "-----\n",
       "networkx            2.3\n",
       "pandas              0.24.2\n",
       "session_info        1.0.0\n",
       "-----\n",
       "</pre>\n",
       "<details>\n",
       "<summary>Click to view modules imported as dependencies</summary>\n",
       "<pre>\n",
       "backcall            0.2.0\n",
       "bottleneck          1.2.1\n",
       "colorama            0.4.1\n",
       "cycler              0.10.0\n",
       "cython_runtime      NA\n",
       "dateutil            2.8.0\n",
       "decorator           4.4.0\n",
       "ipykernel           5.1.1\n",
       "ipyparallel         6.3.0\n",
       "ipython_genutils    0.2.0\n",
       "ipywidgets          7.5.0\n",
       "jedi                0.13.3\n",
       "kiwisolver          1.1.0\n",
       "lxml                NA\n",
       "matplotlib          3.1.0\n",
       "mkl_fft             1.0.12\n",
       "mpl_toolkits        NA\n",
       "mtrand              NA\n",
       "numpy               1.16.4\n",
       "parso               0.5.0\n",
       "pexpect             4.7.0\n",
       "pickleshare         0.7.5\n",
       "prompt_toolkit      2.0.9\n",
       "ptyprocess          0.6.0\n",
       "pygments            2.4.2\n",
       "pyparsing           2.4.0\n",
       "pyteomics           NA\n",
       "pytz                2019.1\n",
       "scipy               1.4.1\n",
       "six                 1.15.0\n",
       "sphinxcontrib       NA\n",
       "storemagic          NA\n",
       "tornado             6.0.3\n",
       "traitlets           4.3.2\n",
       "wcwidth             NA\n",
       "zmq                 18.0.0\n",
       "</pre>\n",
       "</details> <!-- seems like this ends pre, so might as well be explicit -->\n",
       "<pre>\n",
       "-----\n",
       "IPython             7.6.1\n",
       "jupyter_client      5.3.1\n",
       "jupyter_core        4.5.0\n",
       "jupyterlab          1.0.2\n",
       "notebook            6.0.0\n",
       "-----\n",
       "Python 3.7.3 (default, Mar 27 2019, 16:54:48) [Clang 4.0.1 (tags/RELEASE_401/final)]\n",
       "Darwin-20.2.0-x86_64-i386-64bit\n",
       "-----\n",
       "Session information updated at 2022-06-16 09:35\n",
       "</pre>\n",
       "</details>"
      ],
      "text/plain": [
       "<IPython.core.display.HTML object>"
      ]
     },
     "execution_count": 1,
     "metadata": {},
     "output_type": "execute_result"
    }
   ],
   "source": [
    "import operator\n",
    "import pandas as pd\n",
    "from functools import reduce\n",
    "from networkx import *\n",
    "import session_info\n",
    "\n",
    "\n",
    "session_info.show()"
   ]
  },
  {
   "cell_type": "markdown",
   "metadata": {},
   "source": [
    "load feature table"
   ]
  },
  {
   "cell_type": "code",
   "execution_count": 2,
   "metadata": {},
   "outputs": [],
   "source": [
    "ft = pd.read_csv('../../data/PreprocessedData/MS2_timsTOF_quant.csv', sep = ',')"
   ]
  },
  {
   "cell_type": "markdown",
   "metadata": {},
   "source": [
    "load adduct edges annotation"
   ]
  },
  {
   "cell_type": "code",
   "execution_count": 3,
   "metadata": {},
   "outputs": [],
   "source": [
    "ed = pd.read_csv('../../data/PreprocessedData/MS2_timsTOF_edges_msannotation.csv', sep = ',')"
   ]
  },
  {
   "cell_type": "code",
   "execution_count": 4,
   "metadata": {},
   "outputs": [],
   "source": [
    "ft = ft.drop(['Unnamed: 262'], axis=1) # remove empty column in feature table"
   ]
  },
  {
   "cell_type": "code",
   "execution_count": 5,
   "metadata": {},
   "outputs": [],
   "source": [
    "ft.index = ft['row ID'] # transform index to row IDs"
   ]
  },
  {
   "cell_type": "markdown",
   "metadata": {},
   "source": [
    "create network from edgelist"
   ]
  },
  {
   "cell_type": "code",
   "execution_count": 6,
   "metadata": {},
   "outputs": [],
   "source": [
    "G = nx.from_pandas_edgelist(ed, 'ID1', 'ID2', edge_attr=list(set(list(ed.columns)) - set(['ID1','ID2'])),\n",
    "                            create_using=nx.Graph())"
   ]
  },
  {
   "cell_type": "code",
   "execution_count": 7,
   "metadata": {},
   "outputs": [],
   "source": [
    "for column in ft:\n",
    "    nx.set_node_attributes(G, pd.Series(ft[column], index = ft.index).to_dict(),column)"
   ]
  },
  {
   "cell_type": "markdown",
   "metadata": {},
   "source": [
    "get all nodes of a connected component"
   ]
  },
  {
   "cell_type": "code",
   "execution_count": 8,
   "metadata": {},
   "outputs": [],
   "source": [
    "s = G.subgraph(nx.shortest_path(G,3))"
   ]
  },
  {
   "cell_type": "code",
   "execution_count": 9,
   "metadata": {},
   "outputs": [
    {
     "data": {
      "text/plain": [
       "NodeView((3, 2502, 1226, 434, 4952, 2236))"
      ]
     },
     "execution_count": 9,
     "metadata": {},
     "output_type": "execute_result"
    }
   ],
   "source": [
    "s.nodes()"
   ]
  },
  {
   "cell_type": "markdown",
   "metadata": {},
   "source": [
    "retrieve all connected components"
   ]
  },
  {
   "cell_type": "code",
   "execution_count": 10,
   "metadata": {},
   "outputs": [],
   "source": [
    "nodes_per_comp = list()\n",
    "components = nx.connected_components(G)\n",
    "component_map = { } \n",
    "for nodes in components:\n",
    "    nodes_per_comp.append(list(nodes))"
   ]
  },
  {
   "cell_type": "code",
   "execution_count": 11,
   "metadata": {},
   "outputs": [],
   "source": [
    "snames= set(list(ft.columns)) - set(list(ft.columns[:10]))"
   ]
  },
  {
   "cell_type": "markdown",
   "metadata": {},
   "source": [
    "select adduct with least non-zero values"
   ]
  },
  {
   "cell_type": "code",
   "execution_count": 12,
   "metadata": {},
   "outputs": [],
   "source": [
    "rem = list()\n",
    "\n",
    "for n in nodes_per_comp:\n",
    "    indxs = set(ft[snames][ft['row ID'].isin(n)].gt(0).sum(axis=1).index)\n",
    "    max_indx = set([ft[snames][ft['row ID'].isin(n)].gt(0).sum(axis=1).idxmax()])\n",
    "    rem.append(list(indxs-max_indx))"
   ]
  },
  {
   "cell_type": "code",
   "execution_count": 13,
   "metadata": {},
   "outputs": [],
   "source": [
    "desel_ids = reduce(operator.concat, rem)"
   ]
  },
  {
   "cell_type": "markdown",
   "metadata": {},
   "source": [
    "number of feature removed"
   ]
  },
  {
   "cell_type": "code",
   "execution_count": 14,
   "metadata": {},
   "outputs": [
    {
     "data": {
      "text/plain": [
       "1776"
      ]
     },
     "execution_count": 14,
     "metadata": {},
     "output_type": "execute_result"
    }
   ],
   "source": [
    "len(desel_ids)"
   ]
  },
  {
   "cell_type": "markdown",
   "metadata": {},
   "source": [
    "dimensions of feature table"
   ]
  },
  {
   "cell_type": "code",
   "execution_count": 15,
   "metadata": {},
   "outputs": [
    {
     "data": {
      "text/plain": [
       "(3844, 262)"
      ]
     },
     "execution_count": 15,
     "metadata": {},
     "output_type": "execute_result"
    }
   ],
   "source": [
    "ft.shape"
   ]
  },
  {
   "cell_type": "markdown",
   "metadata": {},
   "source": [
    "column names of feature table"
   ]
  },
  {
   "cell_type": "code",
   "execution_count": 16,
   "metadata": {},
   "outputs": [
    {
     "data": {
      "text/plain": [
       "Index(['row ID', 'row m/z', 'row retention time', 'correlation group ID',\n",
       "       'annotation network number', 'best ion', 'auto MS2 verify',\n",
       "       'identified by n=', 'partners', 'neutral M mass'],\n",
       "      dtype='object')"
      ]
     },
     "execution_count": 16,
     "metadata": {},
     "output_type": "execute_result"
    }
   ],
   "source": [
    "ft.columns[:10]"
   ]
  },
  {
   "cell_type": "markdown",
   "metadata": {},
   "source": [
    "dimensions of feature table that will be removed"
   ]
  },
  {
   "cell_type": "code",
   "execution_count": 17,
   "metadata": {},
   "outputs": [
    {
     "data": {
      "text/plain": [
       "(1776, 262)"
      ]
     },
     "execution_count": 17,
     "metadata": {},
     "output_type": "execute_result"
    }
   ],
   "source": [
    "ft[ft['row ID'].isin(desel_ids)].shape"
   ]
  },
  {
   "cell_type": "markdown",
   "metadata": {},
   "source": [
    "remove redundant adducts from feature table"
   ]
  },
  {
   "cell_type": "code",
   "execution_count": 18,
   "metadata": {},
   "outputs": [],
   "source": [
    "ft.drop(desel_ids , inplace=True)"
   ]
  },
  {
   "cell_type": "markdown",
   "metadata": {},
   "source": [
    "dimensions of the reduced feature table"
   ]
  },
  {
   "cell_type": "code",
   "execution_count": 19,
   "metadata": {},
   "outputs": [
    {
     "data": {
      "text/plain": [
       "(2068, 262)"
      ]
     },
     "execution_count": 19,
     "metadata": {},
     "output_type": "execute_result"
    }
   ],
   "source": [
    "ft.shape"
   ]
  },
  {
   "cell_type": "markdown",
   "metadata": {},
   "source": [
    "write out reduced feature table"
   ]
  },
  {
   "cell_type": "code",
   "execution_count": 20,
   "metadata": {},
   "outputs": [],
   "source": [
    "ft.to_csv('output/MS2_timsTOF_quant_mergedAdducts.csv',sep = ',', index=False)"
   ]
  }
 ],
 "metadata": {
  "kernelspec": {
   "display_name": "Python 3",
   "language": "python",
   "name": "python3"
  },
  "language_info": {
   "codemirror_mode": {
    "name": "ipython",
    "version": 3
   },
   "file_extension": ".py",
   "mimetype": "text/x-python",
   "name": "python",
   "nbconvert_exporter": "python",
   "pygments_lexer": "ipython3",
   "version": "3.7.3"
  }
 },
 "nbformat": 4,
 "nbformat_minor": 2
}
