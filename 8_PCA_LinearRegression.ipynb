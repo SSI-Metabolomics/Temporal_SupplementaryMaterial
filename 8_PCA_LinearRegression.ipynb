{
 "cells": [
  {
   "cell_type": "markdown",
   "metadata": {},
   "source": [
    "To perform statistical analyses to investigate the association between the untargeted neonatal metabolome and storage time of dried blood spot samples. Principal component analysis is used to test if the overall variation among of the metabolite features are associated with storage time. Multiple linear regression models are used to pinpoint metabolite features that are influenced by storage. "
   ]
  },
  {
   "cell_type": "code",
   "execution_count": 1,
   "metadata": {
    "scrolled": false
   },
   "outputs": [
    {
     "name": "stderr",
     "output_type": "stream",
     "text": [
      "Warning message:\n",
      "\"package 'openxlsx' was built under R version 3.6.3\"Warning message:\n",
      "\"package 'ggsci' was built under R version 3.6.3\"Warning message:\n",
      "\"package 'cowplot' was built under R version 3.6.3\"Warning message:\n",
      "\"package 'ggrepel' was built under R version 3.6.3\"Warning message:\n",
      "\"package 'matrixStats' was built under R version 3.6.3\"Warning message:\n",
      "\"package 'ggpubr' was built under R version 3.6.3\""
     ]
    }
   ],
   "source": [
    "suppressPackageStartupMessages({\n",
    "library(data.table)\n",
    "library(tidyverse)\n",
    "library(openxlsx)\n",
    "library(ggsci)\n",
    "library(cowplot)\n",
    "library(ggrepel)\n",
    "library(matrixStats)\n",
    "library(ggpubr)\n",
    "    })"
   ]
  },
  {
   "cell_type": "markdown",
   "metadata": {},
   "source": [
    "# Import Data"
   ]
  },
  {
   "cell_type": "markdown",
   "metadata": {},
   "source": [
    "Metabolite Data"
   ]
  },
  {
   "cell_type": "code",
   "execution_count": 2,
   "metadata": {},
   "outputs": [],
   "source": [
    "metabolites <- read.csv(\"../output/RAPCA_ImputedData_Rank100_NA_5.tsv\",\n",
    "                        sep = '\\t', check.names = F, row.names = 1)"
   ]
  },
  {
   "cell_type": "markdown",
   "metadata": {},
   "source": [
    "Import Metabolite annotations and merge with metabolite features"
   ]
  },
  {
   "cell_type": "code",
   "execution_count": 3,
   "metadata": {},
   "outputs": [],
   "source": [
    "metabolite_annotations <- read.csv(\"../output/annotation_classes.csv\")\n",
    "annotation <- data.frame(rownames(metabolites))\n",
    "colnames(annotation) <- \"id\"\n",
    "annotation <- merge(annotation,metabolite_annotations,by=\"id\",sort=FALSE)\n",
    "\n",
    "sample_names <- colnames(metabolites)\n",
    "\n",
    "processed_metabolites <- as.data.frame(t(metabolites))\n",
    "colnames(processed_metabolites) <- annotation$metabolite_ID\n",
    "\n",
    "processed_metabolites <- add_column(.data=processed_metabolites,\n",
    "                                    filename=sample_names,.before=1)"
   ]
  },
  {
   "cell_type": "markdown",
   "metadata": {},
   "source": [
    "Import Metadata and merge with metabolite data"
   ]
  },
  {
   "cell_type": "code",
   "execution_count": 4,
   "metadata": {},
   "outputs": [],
   "source": [
    "metadata <- read.xlsx(\"../data/metadata/Metadata_timsTOF.xlsx\")\n",
    "metadata <- subset(metadata,SampleType==\"Sample\")\n",
    "\n",
    "Data <- merge(metadata,processed_metabolites,by=\"filename\")\n",
    "\n",
    "\n",
    "Data <- Data %>% add_column(storage=2020-Data$year,.before = 10) # Storage variable defined\n",
    "\n",
    "start <- which(names(Data)==\"Glutathionate\") # Define start of metabolite dataset"
   ]
  },
  {
   "cell_type": "markdown",
   "metadata": {},
   "source": [
    "# PCA of metabolite data"
   ]
  },
  {
   "cell_type": "markdown",
   "metadata": {},
   "source": [
    "Perform PCA with 8 principal components"
   ]
  },
  {
   "cell_type": "code",
   "execution_count": 5,
   "metadata": {},
   "outputs": [],
   "source": [
    "PCA_mod <- mixOmics::pca(Data[start:ncol(Data)],ncomp=8)\n",
    "\n",
    "#Plot the explained variance per PC\n",
    "PCA_variance <- cbind.data.frame(names(PCA_mod$explained_variance[1:8]),PCA_mod$explained_variance[1:8])\n",
    "colnames(PCA_variance)<- c(\"PC\",\"ExpVar\")\n",
    "\n",
    "pca_var_plot <- ggplot(PCA_variance,aes(x=PC,y=ExpVar),color=myCol[1])+\n",
    "  geom_bar(stat = \"identity\")+\n",
    "  theme_classic()+\n",
    "  xlab(\"Principal Components\")+\n",
    "  ylab(\"Explained variance (%)\")"
   ]
  },
  {
   "cell_type": "markdown",
   "metadata": {},
   "source": [
    "Scoreplot of the 4 first principal components color by storage time"
   ]
  },
  {
   "cell_type": "code",
   "execution_count": 6,
   "metadata": {},
   "outputs": [],
   "source": [
    "# Create dataframe with relevant information for scoreplot\n",
    "pcaplotdata <- cbind.data.frame(Data$storage,PCA_mod$variates$X[,1],PCA_mod$variates$X[,2],\n",
    "                                PCA_mod$variates$X[,3],PCA_mod$variates$X[,4])\n",
    "colnames(pcaplotdata) <- c(\"storage\",\"PC1\",\"PC2\",\"PC3\",\"PC4\")\n",
    "# Define short storage as  1-3 years, medium as 4-7 and long as 7-10\n",
    "pcaplotdata[\"storage_group\"] <- ifelse(pcaplotdata$storage<4,\"short\",ifelse(pcaplotdata$storage<7,\"medium\",\"long\"))\n",
    "\n",
    "pcascore12 <- ggplot(pcaplotdata,aes(x=PC1,y=PC2, color=as.factor(storage_group)))+\n",
    "  geom_point()+\n",
    "  theme_classic()+\n",
    "  theme(legend.title=element_blank())+\n",
    "  scale_color_jama()+\n",
    "  theme(legend.text=element_text(size=14))\n",
    "\n",
    "pcascore34 <- ggplot(pcaplotdata,aes(x=PC3,y=PC4, color=as.factor(storage_group)))+\n",
    "  geom_point()+\n",
    "  theme_classic()+\n",
    "  theme(legend.title=element_blank())+\n",
    "  scale_color_jama()+\n",
    "  theme(legend.text=element_text(size=14))"
   ]
  },
  {
   "cell_type": "markdown",
   "metadata": {},
   "source": [
    "Create boxplots of PC scores"
   ]
  },
  {
   "cell_type": "code",
   "execution_count": 7,
   "metadata": {},
   "outputs": [],
   "source": [
    "pcabox1 <- ggplot(pcaplotdata,aes(x=as.factor(storage),y=PC1,color=as.factor(storage_group)))+\n",
    "  geom_boxplot()+\n",
    "  theme_classic()+\n",
    "  geom_jitter()+\n",
    "  xlab(\"\")+\n",
    "  theme(legend.position =\"none\")+\n",
    "  geom_smooth(method=\"lm\")+\n",
    "  scale_color_jama()\n",
    "\n",
    "pcabox2 <- ggplot(pcaplotdata,aes(x=as.factor(storage),y=PC2,color=as.factor(storage_group)))+\n",
    "  geom_boxplot()+\n",
    "  theme_classic()+\n",
    "  geom_jitter()+\n",
    "  xlab(\"\")+\n",
    "  theme(legend.position =\"none\")+\n",
    "  geom_smooth(method=\"lm\")+\n",
    "  scale_color_jama()\n",
    "\n",
    "pcabox3 <- ggplot(pcaplotdata,aes(x=as.factor(storage),y=PC3,color=as.factor(storage_group)))+\n",
    "  geom_boxplot()+\n",
    "  theme_classic()+\n",
    "  geom_jitter()+\n",
    "  xlab(\"\")+\n",
    "  theme(legend.position =\"none\")+\n",
    "  geom_smooth(method=\"lm\")+\n",
    "  scale_color_jama()\n",
    "\n",
    "pcabox4 <- ggplot(pcaplotdata,aes(x=as.factor(storage),y=PC4,color=as.factor(storage_group)))+\n",
    "  geom_boxplot()+\n",
    "  theme_classic()+\n",
    "  geom_jitter()+\n",
    "  xlab(\"\")+\n",
    "  theme(legend.position =\"none\")+\n",
    "  geom_smooth(method=\"lm\")+\n",
    "  scale_color_jama()"
   ]
  },
  {
   "cell_type": "markdown",
   "metadata": {},
   "source": [
    "Display all PCA plots"
   ]
  },
  {
   "cell_type": "code",
   "execution_count": 8,
   "metadata": {},
   "outputs": [
    {
     "name": "stderr",
     "output_type": "stream",
     "text": [
      "`geom_smooth()` using formula 'y ~ x'\n",
      "`geom_smooth()` using formula 'y ~ x'\n",
      "`geom_smooth()` using formula 'y ~ x'\n",
      "`geom_smooth()` using formula 'y ~ x'\n"
     ]
    },
    {
     "data": {
      "image/png": "[encoded data removed]",
      "text/plain": [
       "plot without title"
      ]
     },
     "metadata": {},
     "output_type": "display_data"
    }
   ],
   "source": [
    "pca_plots <- plot_grid(plot_grid(pca_var_plot,pcascore12,pcascore34, nrow=3,ncol=1,labels=c(\"A\",\"B\",\"\")),\n",
    "          plot_grid(pcabox1,pcabox2,pcabox3,pcabox4,ncol=1,nrow=4,labels=c(\"C\",\"\",\"\",\"\")),ncol=2)\n",
    "\n",
    "pca_plots"
   ]
  },
  {
   "cell_type": "markdown",
   "metadata": {},
   "source": [
    "# Linear regression models on PCA components"
   ]
  },
  {
   "cell_type": "markdown",
   "metadata": {},
   "source": [
    "Test wether the principal components PC1-PC4 are statistically associated with storage time. Linear regression models, adjusting for sex, birth weight and mothers age are performed for each component separately"
   ]
  },
  {
   "cell_type": "code",
   "execution_count": 9,
   "metadata": {
    "scrolled": true
   },
   "outputs": [
    {
     "data": {
      "text/plain": [
       "\n",
       "Call:\n",
       "lm(formula = scale(pcaplotdata$PC1) ~ Gender + Birth.weight..g. + \n",
       "    Mother.s.age + storage, data = Data)\n",
       "\n",
       "Residuals:\n",
       "     Min       1Q   Median       3Q      Max \n",
       "-2.48266 -0.69246 -0.09002  0.69398  2.70519 \n",
       "\n",
       "Coefficients:\n",
       "                   Estimate Std. Error t value Pr(>|t|)  \n",
       "(Intercept)      -0.0522135  1.6926268  -0.031   0.9754  \n",
       "GenderMale       -0.1868059  0.1424839  -1.311   0.1914  \n",
       "Birth.weight..g. -0.0002118  0.0002201  -0.962   0.3372  \n",
       "Mother.s.age      0.0377252  0.0493761   0.764   0.4458  \n",
       "storage          -0.0412309  0.0245385  -1.680   0.0945 .\n",
       "---\n",
       "Signif. codes:  0 '***' 0.001 '**' 0.01 '*' 0.05 '.' 0.1 ' ' 1\n",
       "\n",
       "Residual standard error: 0.9942 on 195 degrees of freedom\n",
       "Multiple R-squared:  0.03146,\tAdjusted R-squared:  0.01159 \n",
       "F-statistic: 1.583 on 4 and 195 DF,  p-value: 0.1802\n"
      ]
     },
     "metadata": {},
     "output_type": "display_data"
    },
    {
     "data": {
      "text/plain": [
       "\n",
       "Call:\n",
       "lm(formula = scale(pcaplotdata$PC2) ~ Gender + Birth.weight..g. + \n",
       "    Mother.s.age + storage, data = Data)\n",
       "\n",
       "Residuals:\n",
       "    Min      1Q  Median      3Q     Max \n",
       "-2.2175 -0.7595 -0.1065  0.6465  3.0496 \n",
       "\n",
       "Coefficients:\n",
       "                   Estimate Std. Error t value Pr(>|t|)   \n",
       "(Intercept)       0.3503725  1.6838379   0.208  0.83538   \n",
       "GenderMale        0.0250522  0.1417441   0.177  0.85989   \n",
       "Birth.weight..g. -0.0001832  0.0002189  -0.837  0.40375   \n",
       "Mother.s.age      0.0224212  0.0491197   0.456  0.64857   \n",
       "storage          -0.0684867  0.0244111  -2.806  0.00553 **\n",
       "---\n",
       "Signif. codes:  0 '***' 0.001 '**' 0.01 '*' 0.05 '.' 0.1 ' ' 1\n",
       "\n",
       "Residual standard error: 0.989 on 195 degrees of freedom\n",
       "Multiple R-squared:  0.04149,\tAdjusted R-squared:  0.02183 \n",
       "F-statistic:  2.11 on 4 and 195 DF,  p-value: 0.08101\n"
      ]
     },
     "metadata": {},
     "output_type": "display_data"
    },
    {
     "data": {
      "text/plain": [
       "\n",
       "Call:\n",
       "lm(formula = scale(pcaplotdata$PC3) ~ Gender + Birth.weight..g. + \n",
       "    Mother.s.age + storage, data = Data)\n",
       "\n",
       "Residuals:\n",
       "     Min       1Q   Median       3Q      Max \n",
       "-2.66716 -0.62971  0.08335  0.70507  2.54297 \n",
       "\n",
       "Coefficients:\n",
       "                   Estimate Std. Error t value Pr(>|t|)    \n",
       "(Intercept)       2.7852317  1.6420389   1.696 0.091443 .  \n",
       "GenderMale       -0.0153560  0.1382255  -0.111 0.911656    \n",
       "Birth.weight..g.  0.0001234  0.0002135   0.578 0.564038    \n",
       "Mother.s.age     -0.0904105  0.0479004  -1.887 0.060583 .  \n",
       "storage          -0.0900334  0.0238051  -3.782 0.000207 ***\n",
       "---\n",
       "Signif. codes:  0 '***' 0.001 '**' 0.01 '*' 0.05 '.' 0.1 ' ' 1\n",
       "\n",
       "Residual standard error: 0.9645 on 195 degrees of freedom\n",
       "Multiple R-squared:  0.08849,\tAdjusted R-squared:  0.06979 \n",
       "F-statistic: 4.733 on 4 and 195 DF,  p-value: 0.001149\n"
      ]
     },
     "metadata": {},
     "output_type": "display_data"
    },
    {
     "data": {
      "text/plain": [
       "\n",
       "Call:\n",
       "lm(formula = scale(pcaplotdata$PC4) ~ Gender + Birth.weight..g. + \n",
       "    Mother.s.age + storage, data = Data)\n",
       "\n",
       "Residuals:\n",
       "     Min       1Q   Median       3Q      Max \n",
       "-2.35354 -0.67417 -0.05345  0.67527  2.41106 \n",
       "\n",
       "Coefficients:\n",
       "                   Estimate Std. Error t value Pr(>|t|)    \n",
       "(Intercept)       9.151e-01  1.574e+00   0.581  0.56175    \n",
       "GenderMale        3.524e-01  1.325e-01   2.659  0.00849 ** \n",
       "Birth.weight..g.  3.547e-05  2.047e-04   0.173  0.86263    \n",
       "Mother.s.age     -1.777e-02  4.593e-02  -0.387  0.69933    \n",
       "storage          -1.243e-01  2.283e-02  -5.445 1.55e-07 ***\n",
       "---\n",
       "Signif. codes:  0 '***' 0.001 '**' 0.01 '*' 0.05 '.' 0.1 ' ' 1\n",
       "\n",
       "Residual standard error: 0.9248 on 195 degrees of freedom\n",
       "Multiple R-squared:  0.162,\tAdjusted R-squared:  0.1448 \n",
       "F-statistic: 9.421 on 4 and 195 DF,  p-value: 5.54e-07\n"
      ]
     },
     "metadata": {},
     "output_type": "display_data"
    }
   ],
   "source": [
    "summary(lm(scale(pcaplotdata$PC1)~Gender+Birth.weight..g.+Mother.s.age+storage,data=Data))\n",
    "summary(lm(scale(pcaplotdata$PC2)~Gender+Birth.weight..g.+Mother.s.age+storage,data=Data))\n",
    "summary(lm(scale(pcaplotdata$PC3)~Gender+Birth.weight..g.+Mother.s.age+storage,data=Data))\n",
    "summary(lm(scale(pcaplotdata$PC4)~Gender+Birth.weight..g.+Mother.s.age+storage,data=Data))"
   ]
  },
  {
   "cell_type": "markdown",
   "metadata": {},
   "source": [
    "# Linear regression on storage time "
   ]
  },
  {
   "cell_type": "markdown",
   "metadata": {},
   "source": [
    "Linear regression models on storage time is performed for each metabolites separately. Adjustments for sex, birth weight and mothers age. "
   ]
  },
  {
   "cell_type": "code",
   "execution_count": 10,
   "metadata": {},
   "outputs": [],
   "source": [
    "a <- start:ncol(Data) # Indexing which columns (all metabolite columns) will be investigated\n",
    "lmres=NULL\n",
    "for (i in 1:length(a)){\n",
    "  lmres[[i]] <-  lm(Data[,a[i]]~Gender+Birth.weight..g.+Mother.s.age+storage,data=Data)\n",
    "  \n",
    "}"
   ]
  },
  {
   "cell_type": "code",
   "execution_count": 11,
   "metadata": {},
   "outputs": [],
   "source": [
    "output <- annotation %>% select(metabolite_ID,metabolite_class,Identified,level5) # Add annotation information\n",
    "\n",
    "# Extract coefficients from linear regression models\n",
    "output[\"beta\"]  <- sapply(1:length(a),function(n){coefficients(lmres[[n]])[5]})\n",
    "output[\"lowCI\"] <- sapply(1:length(a),function(n){confint(lmres[[n]])[5]})   \n",
    "output[\"highCI\"] <- sapply(1:length(a),function(n){confint(lmres[[n]])[10]})\n",
    "output[\"p\"] <- sapply(1:length(a),function(n){summary(lmres[[n]])$coefficients[5,4]})\n",
    "\n",
    "# Multiple test-corrected p-values (fdr) and define significance level at fdr<0.05\n",
    "output[\"p_fdr\"] <- p.adjust(output$p,method=\"fdr\")\n",
    "output[\"significant\"] <- ifelse(output$p_fdr<0.05,\"Significant\",\"Nonsignificant\")"
   ]
  },
  {
   "cell_type": "markdown",
   "metadata": {},
   "source": [
    "Export linear regression output to xlsx file"
   ]
  },
  {
   "cell_type": "code",
   "execution_count": 12,
   "metadata": {},
   "outputs": [],
   "source": [
    "write.xlsx(output,\"../output/lm_storage.xlsx\")"
   ]
  },
  {
   "cell_type": "markdown",
   "metadata": {},
   "source": [
    "Calculate number of annotations and proportion of annotated metabolites across the dataset"
   ]
  },
  {
   "cell_type": "code",
   "execution_count": 13,
   "metadata": {},
   "outputs": [
    {
     "data": {
      "text/html": [
       "182"
      ],
      "text/latex": [
       "182"
      ],
      "text/markdown": [
       "182"
      ],
      "text/plain": [
       "[1] 182"
      ]
     },
     "metadata": {},
     "output_type": "display_data"
    },
    {
     "data": {
      "text/html": [
       "0.248974008207934"
      ],
      "text/latex": [
       "0.248974008207934"
      ],
      "text/markdown": [
       "0.248974008207934"
      ],
      "text/plain": [
       "[1] 0.248974"
      ]
     },
     "metadata": {},
     "output_type": "display_data"
    }
   ],
   "source": [
    "sum(output$level5!=\"no matches\")\n",
    "\n",
    "sum(output$level5!=\"no matches\")/nrow(output)"
   ]
  },
  {
   "cell_type": "markdown",
   "metadata": {},
   "source": [
    "Show significant metabolites"
   ]
  },
  {
   "cell_type": "code",
   "execution_count": 14,
   "metadata": {},
   "outputs": [
    {
     "data": {
      "text/html": [
       "<table>\n",
       "<thead><tr><th scope=col>metabolite_ID</th><th scope=col>metabolite_class</th><th scope=col>Identified</th><th scope=col>level5</th><th scope=col>beta</th><th scope=col>lowCI</th><th scope=col>highCI</th><th scope=col>p</th><th scope=col>p_fdr</th><th scope=col>significant</th></tr></thead>\n",
       "<tbody>\n",
       "\t<tr><td>3136                                   </td><td>no matches                             </td><td>0                                      </td><td>no matches                             </td><td> 0.20524522                            </td><td> 0.16952539                            </td><td> 0.24096505                            </td><td>3.386994e-23                           </td><td>2.475893e-20                           </td><td>Significant                            </td></tr>\n",
       "\t<tr><td>1021                                   </td><td>no matches                             </td><td>0                                      </td><td>no matches                             </td><td>-0.13507431                            </td><td>-0.16511224                            </td><td>-0.10503638                            </td><td>4.713364e-16                           </td><td>1.722734e-13                           </td><td>Significant                            </td></tr>\n",
       "\t<tr><td>Methionine                             </td><td>Amino acids and derivatives            </td><td>1                                      </td><td>Amino acids and derivatives            </td><td>-0.15338092                            </td><td>-0.18935217                            </td><td>-0.11740967                            </td><td>8.612303e-15                           </td><td>2.098531e-12                           </td><td>Significant                            </td></tr>\n",
       "\t<tr><td>Glutathione                            </td><td>Peptides                               </td><td>1                                      </td><td>Peptides                               </td><td>-0.16831233                            </td><td>-0.20978446                            </td><td>-0.12684019                            </td><td>1.057457e-13                           </td><td>1.932502e-11                           </td><td>Significant                            </td></tr>\n",
       "\t<tr><td>242                                    </td><td>no matches                             </td><td>0                                      </td><td>no matches                             </td><td>-0.16511925                            </td><td>-0.20680074                            </td><td>-0.12343775                            </td><td>3.383308e-13                           </td><td>4.946397e-11                           </td><td>Significant                            </td></tr>\n",
       "\t<tr><td>600                                    </td><td>no matches                             </td><td>0                                      </td><td>no matches                             </td><td>-0.14702105                            </td><td>-0.18600418                            </td><td>-0.10803791                            </td><td>3.170919e-12                           </td><td>3.863236e-10                           </td><td>Significant                            </td></tr>\n",
       "\t<tr><td>1438                                   </td><td>no matches                             </td><td>0                                      </td><td>no matches                             </td><td> 0.13298215                            </td><td> 0.09073852                            </td><td> 0.17522579                            </td><td>3.157141e-09                           </td><td>3.075893e-07                           </td><td>Significant                            </td></tr>\n",
       "\t<tr><td>LysoPE 20:4                            </td><td>no matches                             </td><td>1                                      </td><td>                                       </td><td>-0.14052220                            </td><td>-0.18524807                            </td><td>-0.09579632                            </td><td>3.366230e-09                           </td><td>3.075893e-07                           </td><td>Significant                            </td></tr>\n",
       "\t<tr><td>2711                                   </td><td>Amino acids and derivatives            </td><td>0                                      </td><td>Amino acids and derivatives            </td><td>-0.13714554                            </td><td>-0.18124955                            </td><td>-0.09304152                            </td><td>4.712474e-09                           </td><td>3.827576e-07                           </td><td>Significant                            </td></tr>\n",
       "\t<tr><td>361                                    </td><td>no matches                             </td><td>0                                      </td><td>no matches                             </td><td> 0.12242691                            </td><td> 0.08115103                            </td><td> 0.16370279                            </td><td>2.049110e-08                           </td><td>1.497900e-06                           </td><td>Significant                            </td></tr>\n",
       "\t<tr><td>6753                                   </td><td>no matches                             </td><td>0                                      </td><td>no matches                             </td><td>-0.05638971                            </td><td>-0.07560908                            </td><td>-0.03717034                            </td><td>2.827972e-08                           </td><td>1.879316e-06                           </td><td>Significant                            </td></tr>\n",
       "\t<tr><td>2170                                   </td><td>Amino acids and derivatives            </td><td>0                                      </td><td>Amino acids and derivatives            </td><td> 0.12785799                            </td><td> 0.08400788                            </td><td> 0.17170809                            </td><td>3.392271e-08                           </td><td>2.066458e-06                           </td><td>Significant                            </td></tr>\n",
       "\t<tr><td>1053                                   </td><td>no matches                             </td><td>0                                      </td><td>no matches                             </td><td> 0.12043677                            </td><td> 0.07886911                            </td><td> 0.16200444                            </td><td>4.075132e-08                           </td><td>2.291478e-06                           </td><td>Significant                            </td></tr>\n",
       "\t<tr><td>2573                                   </td><td>no matches                             </td><td>0                                      </td><td>no matches                             </td><td> 0.11433506                            </td><td> 0.07356249                            </td><td> 0.15510764                            </td><td>1.017598e-07                           </td><td>5.313313e-06                           </td><td>Significant                            </td></tr>\n",
       "\t<tr><td>683                                    </td><td>Peptides                               </td><td>0                                      </td><td>Peptides                               </td><td>-0.12629705                            </td><td>-0.17151563                            </td><td>-0.08107846                            </td><td>1.134213e-07                           </td><td>5.527398e-06                           </td><td>Significant                            </td></tr>\n",
       "\t<tr><td>486                                    </td><td>Peptides                               </td><td>0                                      </td><td>Peptides                               </td><td>-0.10643499                            </td><td>-0.14589090                            </td><td>-0.06697908                            </td><td>2.830038e-07                           </td><td>1.238828e-05                           </td><td>Significant                            </td></tr>\n",
       "\t<tr><td>2146                                   </td><td>no matches                             </td><td>0                                      </td><td>no matches                             </td><td>-0.11226671                            </td><td>-0.15391359                            </td><td>-0.07061984                            </td><td>2.880995e-07                           </td><td>1.238828e-05                           </td><td>Significant                            </td></tr>\n",
       "\t<tr><td>LysoPC 20:4                            </td><td>Glycerophosphocholines                 </td><td>1                                      </td><td>1-alkyl,2-acylglycero-3-phosphocholines</td><td>-0.11948612                            </td><td>-0.16487084                            </td><td>-0.07410139                            </td><td>5.200401e-07                           </td><td>2.111941e-05                           </td><td>Significant                            </td></tr>\n",
       "\t<tr><td>724                                    </td><td>no matches                             </td><td>0                                      </td><td>no matches                             </td><td>-0.11622176                            </td><td>-0.16139748                            </td><td>-0.07104604                            </td><td>9.055668e-07                           </td><td>3.484049e-05                           </td><td>Significant                            </td></tr>\n",
       "\t<tr><td>3858                                   </td><td>no matches                             </td><td>0                                      </td><td>no matches                             </td><td>-0.05625319                            </td><td>-0.07831231                            </td><td>-0.03419408                            </td><td>1.112556e-06                           </td><td>4.066393e-05                           </td><td>Significant                            </td></tr>\n",
       "\t<tr><td>2466                                   </td><td>Amino acids and derivatives            </td><td>0                                      </td><td>Amino acids and derivatives            </td><td>-0.11581634                            </td><td>-0.16179635                            </td><td>-0.06983634                            </td><td>1.477005e-06                           </td><td>5.141385e-05                           </td><td>Significant                            </td></tr>\n",
       "\t<tr><td>2793                                   </td><td>no matches                             </td><td>0                                      </td><td>no matches                             </td><td>-0.09648107                            </td><td>-0.13534720                            </td><td>-0.05761494                            </td><td>2.048606e-06                           </td><td>6.806959e-05                           </td><td>Significant                            </td></tr>\n",
       "\t<tr><td>1641                                   </td><td>no matches                             </td><td>0                                      </td><td>no matches                             </td><td>-0.11160171                            </td><td>-0.15775063                            </td><td>-0.06545278                            </td><td>3.611916e-06                           </td><td>1.147961e-04                           </td><td>Significant                            </td></tr>\n",
       "\t<tr><td>2849                                   </td><td>no matches                             </td><td>0                                      </td><td>no matches                             </td><td> 0.09317221                            </td><td> 0.05419666                            </td><td> 0.13214776                            </td><td>4.602337e-06                           </td><td>1.401795e-04                           </td><td>Significant                            </td></tr>\n",
       "\t<tr><td>3116                                   </td><td>no matches                             </td><td>0                                      </td><td>no matches                             </td><td> 0.08858993                            </td><td> 0.05081975                            </td><td> 0.12636011                            </td><td>6.788756e-06                           </td><td>1.985032e-04                           </td><td>Significant                            </td></tr>\n",
       "\t<tr><td>2744                                   </td><td>Amino acids and derivatives            </td><td>0                                      </td><td>Amino acids and derivatives            </td><td>-0.08489401                            </td><td>-0.12142797                            </td><td>-0.04836005                            </td><td>8.178418e-06                           </td><td>2.299394e-04                           </td><td>Significant                            </td></tr>\n",
       "\t<tr><td>4755                                   </td><td>no matches                             </td><td>0                                      </td><td>no matches                             </td><td> 0.04776796                            </td><td> 0.02682641                            </td><td> 0.06870952                            </td><td>1.173447e-05                           </td><td>3.177000e-04                           </td><td>Significant                            </td></tr>\n",
       "\t<tr><td>1537                                   </td><td>no matches                             </td><td>0                                      </td><td>no matches                             </td><td> 0.10335907                            </td><td> 0.05787824                            </td><td> 0.14883990                            </td><td>1.259408e-05                           </td><td>3.287955e-04                           </td><td>Significant                            </td></tr>\n",
       "\t<tr><td>2814                                   </td><td>no matches                             </td><td>0                                      </td><td>no matches                             </td><td> 0.09174997                            </td><td> 0.05056371                            </td><td> 0.13293623                            </td><td>1.829544e-05                           </td><td>4.611714e-04                           </td><td>Significant                            </td></tr>\n",
       "\t<tr><td>5092                                   </td><td>no matches                             </td><td>0                                      </td><td>no matches                             </td><td>-0.03602962                            </td><td>-0.05223836                            </td><td>-0.01982088                            </td><td>1.903946e-05                           </td><td>4.639282e-04                           </td><td>Significant                            </td></tr>\n",
       "\t<tr><td>...</td><td>...</td><td>...</td><td>...</td><td>...</td><td>...</td><td>...</td><td>...</td><td>...</td><td>...</td></tr>\n",
       "\t<tr><td>2-glutathionyl-2-methylbut-3-en-1-ol</td><td>Peptides                            </td><td>1                                   </td><td>Peptides                            </td><td>-0.02863833                         </td><td>-0.048565121                        </td><td>-0.008711529                        </td><td>0.005074552                         </td><td>0.03011255                          </td><td>Significant                         </td></tr>\n",
       "\t<tr><td>2263                                </td><td>no matches                          </td><td>0                                   </td><td>no matches                          </td><td>-0.06282879                         </td><td>-0.106579392                        </td><td>-0.019078189                        </td><td>0.005108012                         </td><td>0.03011255                          </td><td>Significant                         </td></tr>\n",
       "\t<tr><td>Palmitoylcarnitine                  </td><td>Acyl carnitines                     </td><td>1                                   </td><td>Acyl carnitines                     </td><td>-0.06748446                         </td><td>-0.114549943                        </td><td>-0.020418974                        </td><td>0.005175710                         </td><td>0.03026755                          </td><td>Significant                         </td></tr>\n",
       "\t<tr><td>4417                                </td><td>no matches                          </td><td>0                                   </td><td>no matches                          </td><td> 0.04315687                         </td><td> 0.012971193                        </td><td> 0.073342540                        </td><td>0.005303477                         </td><td>0.03076859                          </td><td>Significant                         </td></tr>\n",
       "\t<tr><td>1746                                </td><td>no matches                          </td><td>0                                   </td><td>no matches                          </td><td> 0.06365230                         </td><td> 0.018986288                        </td><td> 0.108318313                        </td><td>0.005450543                         </td><td>0.03126023                          </td><td>Significant                         </td></tr>\n",
       "\t<tr><td>1404                                </td><td>Amino acids and derivatives         </td><td>0                                   </td><td>Amino acids and derivatives         </td><td>-0.06552169                         </td><td>-0.111522791                        </td><td>-0.019520590                        </td><td>0.005473748                         </td><td>0.03126023                          </td><td>Significant                         </td></tr>\n",
       "\t<tr><td>glutathione isomer                  </td><td>Peptides                            </td><td>0                                   </td><td>Peptides                            </td><td> 0.06730680                         </td><td> 0.019805536                        </td><td> 0.114808060                        </td><td>0.005716954                         </td><td>0.03239607                          </td><td>Significant                         </td></tr>\n",
       "\t<tr><td>4151                                </td><td>no matches                          </td><td>0                                   </td><td>no matches                          </td><td> 0.03524843                         </td><td> 0.010232431                        </td><td> 0.060264421                        </td><td>0.005987708                         </td><td>0.03366934                          </td><td>Significant                         </td></tr>\n",
       "\t<tr><td>351                                 </td><td>no matches                          </td><td>0                                   </td><td>no matches                          </td><td> 0.06802022                         </td><td> 0.019675600                        </td><td> 0.116364836                        </td><td>0.006059705                         </td><td>0.03381408                          </td><td>Significant                         </td></tr>\n",
       "\t<tr><td>3195                                </td><td>no matches                          </td><td>0                                   </td><td>no matches                          </td><td>-0.04810211                         </td><td>-0.082350193                        </td><td>-0.013854019                        </td><td>0.006147419                         </td><td>0.03395980                          </td><td>Significant                         </td></tr>\n",
       "\t<tr><td>1772                                </td><td>no matches                          </td><td>0                                   </td><td>no matches                          </td><td>-0.01554870                         </td><td>-0.026626054                        </td><td>-0.004471338                        </td><td>0.006178733                         </td><td>0.03395980                          </td><td>Significant                         </td></tr>\n",
       "\t<tr><td>3178                                </td><td>Peptides                            </td><td>0                                   </td><td>Peptides                            </td><td> 0.06543055                         </td><td> 0.018757773                        </td><td> 0.112103319                        </td><td>0.006241831                         </td><td>0.03405059                          </td><td>Significant                         </td></tr>\n",
       "\t<tr><td>Phthalic anhydride                  </td><td>Phthalic anhydrides                 </td><td>1                                   </td><td>Phthalic anhydrides                 </td><td> 0.04702000                         </td><td> 0.013344071                        </td><td> 0.080695923                        </td><td>0.006449941                         </td><td>0.03492524                          </td><td>Significant                         </td></tr>\n",
       "\t<tr><td>Lenticin                            </td><td>Amino acids and derivatives         </td><td>1                                   </td><td>Amino acids and derivatives         </td><td>-0.06500288                         </td><td>-0.111692114                        </td><td>-0.018313646                        </td><td>0.006601207                         </td><td>0.03548149                          </td><td>Significant                         </td></tr>\n",
       "\t<tr><td>976                                 </td><td>no matches                          </td><td>0                                   </td><td>no matches                          </td><td>-0.03653184                         </td><td>-0.062953716                        </td><td>-0.010109966                        </td><td>0.006977435                         </td><td>0.03722996                          </td><td>Significant                         </td></tr>\n",
       "\t<tr><td>950                                 </td><td>no matches                          </td><td>0                                   </td><td>no matches                          </td><td> 0.06449847                         </td><td> 0.017235847                        </td><td> 0.111761091                        </td><td>0.007732753                         </td><td>0.04071342                          </td><td>Significant                         </td></tr>\n",
       "\t<tr><td>573                                 </td><td>no matches                          </td><td>0                                   </td><td>no matches                          </td><td> 0.05464191                         </td><td> 0.014595951                        </td><td> 0.094687877                        </td><td>0.007741676                         </td><td>0.04071342                          </td><td>Significant                         </td></tr>\n",
       "\t<tr><td>564                                 </td><td>no matches                          </td><td>0                                   </td><td>no matches                          </td><td>-0.06529632                         </td><td>-0.113471393                        </td><td>-0.017121239                        </td><td>0.008151726                         </td><td>0.04256365                          </td><td>Significant                         </td></tr>\n",
       "\t<tr><td>2808                                </td><td>Sugar acids and derivatives         </td><td>0                                   </td><td>Sugar acids and derivatives         </td><td>-0.06271394                         </td><td>-0.109052619                        </td><td>-0.016375261                        </td><td>0.008245255                         </td><td>0.04271746                          </td><td>Significant                         </td></tr>\n",
       "\t<tr><td>4370                                </td><td>no matches                          </td><td>0                                   </td><td>no matches                          </td><td> 0.01613628                         </td><td> 0.004197069                        </td><td> 0.028075500                        </td><td>0.008331816                         </td><td>0.04271746                          </td><td>Significant                         </td></tr>\n",
       "\t<tr><td>1607                                </td><td>no matches                          </td><td>0                                   </td><td>no matches                          </td><td>-0.06424271                         </td><td>-0.111794216                        </td><td>-0.016691211                        </td><td>0.008356494                         </td><td>0.04271746                          </td><td>Significant                         </td></tr>\n",
       "\t<tr><td>271                                 </td><td>no matches                          </td><td>0                                   </td><td>no matches                          </td><td>-0.06503475                         </td><td>-0.113274897                        </td><td>-0.016794599                        </td><td>0.008492969                         </td><td>0.04311361                          </td><td>Significant                         </td></tr>\n",
       "\t<tr><td>269                                 </td><td>no matches                          </td><td>0                                   </td><td>no matches                          </td><td>-0.06387647                         </td><td>-0.111717069                        </td><td>-0.016035874                        </td><td>0.009134713                         </td><td>0.04561869                          </td><td>Significant                         </td></tr>\n",
       "\t<tr><td>282                                 </td><td>no matches                          </td><td>0                                   </td><td>no matches                          </td><td>-0.06429217                         </td><td>-0.112465435                        </td><td>-0.016118909                        </td><td>0.009165013                         </td><td>0.04561869                          </td><td>Significant                         </td></tr>\n",
       "\t<tr><td>1258                                </td><td>no matches                          </td><td>0                                   </td><td>no matches                          </td><td>-0.06369349                         </td><td>-0.111424185                        </td><td>-0.015962788                        </td><td>0.009173662                         </td><td>0.04561869                          </td><td>Significant                         </td></tr>\n",
       "\t<tr><td>2878                                </td><td>no matches                          </td><td>0                                   </td><td>no matches                          </td><td> 0.03932619                         </td><td> 0.009659082                        </td><td> 0.068993304                        </td><td>0.009638806                         </td><td>0.04754035                          </td><td>Significant                         </td></tr>\n",
       "\t<tr><td>3139                                </td><td>no matches                          </td><td>0                                   </td><td>no matches                          </td><td> 0.03003173                         </td><td> 0.007341131                        </td><td> 0.052722338                        </td><td>0.009749522                         </td><td>0.04754035                          </td><td>Significant                         </td></tr>\n",
       "\t<tr><td>3381                                </td><td>no matches                          </td><td>0                                   </td><td>no matches                          </td><td> 0.01553227                         </td><td> 0.003778379                        </td><td> 0.027286158                        </td><td>0.009862675                         </td><td>0.04754035                          </td><td>Significant                         </td></tr>\n",
       "\t<tr><td>Tyrosine                            </td><td>Amino acids and derivatives         </td><td>1                                   </td><td>Amino acids and derivatives         </td><td>-0.06321627                         </td><td>-0.111061474                        </td><td>-0.015371069                        </td><td>0.009873159                         </td><td>0.04754035                          </td><td>Significant                         </td></tr>\n",
       "\t<tr><td>2253                                </td><td>no matches                          </td><td>0                                   </td><td>no matches                          </td><td> 0.05893187                         </td><td> 0.014321870                        </td><td> 0.103541875                        </td><td>0.009885271                         </td><td>0.04754035                          </td><td>Significant                         </td></tr>\n",
       "</tbody>\n",
       "</table>\n"
      ],
      "text/latex": [
       "\\begin{tabular}{r|llllllllll}\n",
       " metabolite\\_ID & metabolite\\_class & Identified & level5 & beta & lowCI & highCI & p & p\\_fdr & significant\\\\\n",
       "\\hline\n",
       "\t 3136                                    & no matches                              & 0                                       & no matches                              &  0.20524522                             &  0.16952539                             &  0.24096505                             & 3.386994e-23                            & 2.475893e-20                            & Significant                            \\\\\n",
       "\t 1021                                    & no matches                              & 0                                       & no matches                              & -0.13507431                             & -0.16511224                             & -0.10503638                             & 4.713364e-16                            & 1.722734e-13                            & Significant                            \\\\\n",
       "\t Methionine                              & Amino acids and derivatives             & 1                                       & Amino acids and derivatives             & -0.15338092                             & -0.18935217                             & -0.11740967                             & 8.612303e-15                            & 2.098531e-12                            & Significant                            \\\\\n",
       "\t Glutathione                             & Peptides                                & 1                                       & Peptides                                & -0.16831233                             & -0.20978446                             & -0.12684019                             & 1.057457e-13                            & 1.932502e-11                            & Significant                            \\\\\n",
       "\t 242                                     & no matches                              & 0                                       & no matches                              & -0.16511925                             & -0.20680074                             & -0.12343775                             & 3.383308e-13                            & 4.946397e-11                            & Significant                            \\\\\n",
       "\t 600                                     & no matches                              & 0                                       & no matches                              & -0.14702105                             & -0.18600418                             & -0.10803791                             & 3.170919e-12                            & 3.863236e-10                            & Significant                            \\\\\n",
       "\t 1438                                    & no matches                              & 0                                       & no matches                              &  0.13298215                             &  0.09073852                             &  0.17522579                             & 3.157141e-09                            & 3.075893e-07                            & Significant                            \\\\\n",
       "\t LysoPE 20:4                             & no matches                              & 1                                       &                                         & -0.14052220                             & -0.18524807                             & -0.09579632                             & 3.366230e-09                            & 3.075893e-07                            & Significant                            \\\\\n",
       "\t 2711                                    & Amino acids and derivatives             & 0                                       & Amino acids and derivatives             & -0.13714554                             & -0.18124955                             & -0.09304152                             & 4.712474e-09                            & 3.827576e-07                            & Significant                            \\\\\n",
       "\t 361                                     & no matches                              & 0                                       & no matches                              &  0.12242691                             &  0.08115103                             &  0.16370279                             & 2.049110e-08                            & 1.497900e-06                            & Significant                            \\\\\n",
       "\t 6753                                    & no matches                              & 0                                       & no matches                              & -0.05638971                             & -0.07560908                             & -0.03717034                             & 2.827972e-08                            & 1.879316e-06                            & Significant                            \\\\\n",
       "\t 2170                                    & Amino acids and derivatives             & 0                                       & Amino acids and derivatives             &  0.12785799                             &  0.08400788                             &  0.17170809                             & 3.392271e-08                            & 2.066458e-06                            & Significant                            \\\\\n",
       "\t 1053                                    & no matches                              & 0                                       & no matches                              &  0.12043677                             &  0.07886911                             &  0.16200444                             & 4.075132e-08                            & 2.291478e-06                            & Significant                            \\\\\n",
       "\t 2573                                    & no matches                              & 0                                       & no matches                              &  0.11433506                             &  0.07356249                             &  0.15510764                             & 1.017598e-07                            & 5.313313e-06                            & Significant                            \\\\\n",
       "\t 683                                     & Peptides                                & 0                                       & Peptides                                & -0.12629705                             & -0.17151563                             & -0.08107846                             & 1.134213e-07                            & 5.527398e-06                            & Significant                            \\\\\n",
       "\t 486                                     & Peptides                                & 0                                       & Peptides                                & -0.10643499                             & -0.14589090                             & -0.06697908                             & 2.830038e-07                            & 1.238828e-05                            & Significant                            \\\\\n",
       "\t 2146                                    & no matches                              & 0                                       & no matches                              & -0.11226671                             & -0.15391359                             & -0.07061984                             & 2.880995e-07                            & 1.238828e-05                            & Significant                            \\\\\n",
       "\t LysoPC 20:4                             & Glycerophosphocholines                  & 1                                       & 1-alkyl,2-acylglycero-3-phosphocholines & -0.11948612                             & -0.16487084                             & -0.07410139                             & 5.200401e-07                            & 2.111941e-05                            & Significant                            \\\\\n",
       "\t 724                                     & no matches                              & 0                                       & no matches                              & -0.11622176                             & -0.16139748                             & -0.07104604                             & 9.055668e-07                            & 3.484049e-05                            & Significant                            \\\\\n",
       "\t 3858                                    & no matches                              & 0                                       & no matches                              & -0.05625319                             & -0.07831231                             & -0.03419408                             & 1.112556e-06                            & 4.066393e-05                            & Significant                            \\\\\n",
       "\t 2466                                    & Amino acids and derivatives             & 0                                       & Amino acids and derivatives             & -0.11581634                             & -0.16179635                             & -0.06983634                             & 1.477005e-06                            & 5.141385e-05                            & Significant                            \\\\\n",
       "\t 2793                                    & no matches                              & 0                                       & no matches                              & -0.09648107                             & -0.13534720                             & -0.05761494                             & 2.048606e-06                            & 6.806959e-05                            & Significant                            \\\\\n",
       "\t 1641                                    & no matches                              & 0                                       & no matches                              & -0.11160171                             & -0.15775063                             & -0.06545278                             & 3.611916e-06                            & 1.147961e-04                            & Significant                            \\\\\n",
       "\t 2849                                    & no matches                              & 0                                       & no matches                              &  0.09317221                             &  0.05419666                             &  0.13214776                             & 4.602337e-06                            & 1.401795e-04                            & Significant                            \\\\\n",
       "\t 3116                                    & no matches                              & 0                                       & no matches                              &  0.08858993                             &  0.05081975                             &  0.12636011                             & 6.788756e-06                            & 1.985032e-04                            & Significant                            \\\\\n",
       "\t 2744                                    & Amino acids and derivatives             & 0                                       & Amino acids and derivatives             & -0.08489401                             & -0.12142797                             & -0.04836005                             & 8.178418e-06                            & 2.299394e-04                            & Significant                            \\\\\n",
       "\t 4755                                    & no matches                              & 0                                       & no matches                              &  0.04776796                             &  0.02682641                             &  0.06870952                             & 1.173447e-05                            & 3.177000e-04                            & Significant                            \\\\\n",
       "\t 1537                                    & no matches                              & 0                                       & no matches                              &  0.10335907                             &  0.05787824                             &  0.14883990                             & 1.259408e-05                            & 3.287955e-04                            & Significant                            \\\\\n",
       "\t 2814                                    & no matches                              & 0                                       & no matches                              &  0.09174997                             &  0.05056371                             &  0.13293623                             & 1.829544e-05                            & 4.611714e-04                            & Significant                            \\\\\n",
       "\t 5092                                    & no matches                              & 0                                       & no matches                              & -0.03602962                             & -0.05223836                             & -0.01982088                             & 1.903946e-05                            & 4.639282e-04                            & Significant                            \\\\\n",
       "\t ... & ... & ... & ... & ... & ... & ... & ... & ... & ...\\\\\n",
       "\t 2-glutathionyl-2-methylbut-3-en-1-ol & Peptides                             & 1                                    & Peptides                             & -0.02863833                          & -0.048565121                         & -0.008711529                         & 0.005074552                          & 0.03011255                           & Significant                         \\\\\n",
       "\t 2263                                 & no matches                           & 0                                    & no matches                           & -0.06282879                          & -0.106579392                         & -0.019078189                         & 0.005108012                          & 0.03011255                           & Significant                         \\\\\n",
       "\t Palmitoylcarnitine                   & Acyl carnitines                      & 1                                    & Acyl carnitines                      & -0.06748446                          & -0.114549943                         & -0.020418974                         & 0.005175710                          & 0.03026755                           & Significant                         \\\\\n",
       "\t 4417                                 & no matches                           & 0                                    & no matches                           &  0.04315687                          &  0.012971193                         &  0.073342540                         & 0.005303477                          & 0.03076859                           & Significant                         \\\\\n",
       "\t 1746                                 & no matches                           & 0                                    & no matches                           &  0.06365230                          &  0.018986288                         &  0.108318313                         & 0.005450543                          & 0.03126023                           & Significant                         \\\\\n",
       "\t 1404                                 & Amino acids and derivatives          & 0                                    & Amino acids and derivatives          & -0.06552169                          & -0.111522791                         & -0.019520590                         & 0.005473748                          & 0.03126023                           & Significant                         \\\\\n",
       "\t glutathione isomer                   & Peptides                             & 0                                    & Peptides                             &  0.06730680                          &  0.019805536                         &  0.114808060                         & 0.005716954                          & 0.03239607                           & Significant                         \\\\\n",
       "\t 4151                                 & no matches                           & 0                                    & no matches                           &  0.03524843                          &  0.010232431                         &  0.060264421                         & 0.005987708                          & 0.03366934                           & Significant                         \\\\\n",
       "\t 351                                  & no matches                           & 0                                    & no matches                           &  0.06802022                          &  0.019675600                         &  0.116364836                         & 0.006059705                          & 0.03381408                           & Significant                         \\\\\n",
       "\t 3195                                 & no matches                           & 0                                    & no matches                           & -0.04810211                          & -0.082350193                         & -0.013854019                         & 0.006147419                          & 0.03395980                           & Significant                         \\\\\n",
       "\t 1772                                 & no matches                           & 0                                    & no matches                           & -0.01554870                          & -0.026626054                         & -0.004471338                         & 0.006178733                          & 0.03395980                           & Significant                         \\\\\n",
       "\t 3178                                 & Peptides                             & 0                                    & Peptides                             &  0.06543055                          &  0.018757773                         &  0.112103319                         & 0.006241831                          & 0.03405059                           & Significant                         \\\\\n",
       "\t Phthalic anhydride                   & Phthalic anhydrides                  & 1                                    & Phthalic anhydrides                  &  0.04702000                          &  0.013344071                         &  0.080695923                         & 0.006449941                          & 0.03492524                           & Significant                         \\\\\n",
       "\t Lenticin                             & Amino acids and derivatives          & 1                                    & Amino acids and derivatives          & -0.06500288                          & -0.111692114                         & -0.018313646                         & 0.006601207                          & 0.03548149                           & Significant                         \\\\\n",
       "\t 976                                  & no matches                           & 0                                    & no matches                           & -0.03653184                          & -0.062953716                         & -0.010109966                         & 0.006977435                          & 0.03722996                           & Significant                         \\\\\n",
       "\t 950                                  & no matches                           & 0                                    & no matches                           &  0.06449847                          &  0.017235847                         &  0.111761091                         & 0.007732753                          & 0.04071342                           & Significant                         \\\\\n",
       "\t 573                                  & no matches                           & 0                                    & no matches                           &  0.05464191                          &  0.014595951                         &  0.094687877                         & 0.007741676                          & 0.04071342                           & Significant                         \\\\\n",
       "\t 564                                  & no matches                           & 0                                    & no matches                           & -0.06529632                          & -0.113471393                         & -0.017121239                         & 0.008151726                          & 0.04256365                           & Significant                         \\\\\n",
       "\t 2808                                 & Sugar acids and derivatives          & 0                                    & Sugar acids and derivatives          & -0.06271394                          & -0.109052619                         & -0.016375261                         & 0.008245255                          & 0.04271746                           & Significant                         \\\\\n",
       "\t 4370                                 & no matches                           & 0                                    & no matches                           &  0.01613628                          &  0.004197069                         &  0.028075500                         & 0.008331816                          & 0.04271746                           & Significant                         \\\\\n",
       "\t 1607                                 & no matches                           & 0                                    & no matches                           & -0.06424271                          & -0.111794216                         & -0.016691211                         & 0.008356494                          & 0.04271746                           & Significant                         \\\\\n",
       "\t 271                                  & no matches                           & 0                                    & no matches                           & -0.06503475                          & -0.113274897                         & -0.016794599                         & 0.008492969                          & 0.04311361                           & Significant                         \\\\\n",
       "\t 269                                  & no matches                           & 0                                    & no matches                           & -0.06387647                          & -0.111717069                         & -0.016035874                         & 0.009134713                          & 0.04561869                           & Significant                         \\\\\n",
       "\t 282                                  & no matches                           & 0                                    & no matches                           & -0.06429217                          & -0.112465435                         & -0.016118909                         & 0.009165013                          & 0.04561869                           & Significant                         \\\\\n",
       "\t 1258                                 & no matches                           & 0                                    & no matches                           & -0.06369349                          & -0.111424185                         & -0.015962788                         & 0.009173662                          & 0.04561869                           & Significant                         \\\\\n",
       "\t 2878                                 & no matches                           & 0                                    & no matches                           &  0.03932619                          &  0.009659082                         &  0.068993304                         & 0.009638806                          & 0.04754035                           & Significant                         \\\\\n",
       "\t 3139                                 & no matches                           & 0                                    & no matches                           &  0.03003173                          &  0.007341131                         &  0.052722338                         & 0.009749522                          & 0.04754035                           & Significant                         \\\\\n",
       "\t 3381                                 & no matches                           & 0                                    & no matches                           &  0.01553227                          &  0.003778379                         &  0.027286158                         & 0.009862675                          & 0.04754035                           & Significant                         \\\\\n",
       "\t Tyrosine                             & Amino acids and derivatives          & 1                                    & Amino acids and derivatives          & -0.06321627                          & -0.111061474                         & -0.015371069                         & 0.009873159                          & 0.04754035                           & Significant                         \\\\\n",
       "\t 2253                                 & no matches                           & 0                                    & no matches                           &  0.05893187                          &  0.014321870                         &  0.103541875                         & 0.009885271                          & 0.04754035                           & Significant                         \\\\\n",
       "\\end{tabular}\n"
      ],
      "text/markdown": [
       "\n",
       "| metabolite_ID | metabolite_class | Identified | level5 | beta | lowCI | highCI | p | p_fdr | significant |\n",
       "|---|---|---|---|---|---|---|---|---|---|\n",
       "| 3136                                    | no matches                              | 0                                       | no matches                              |  0.20524522                             |  0.16952539                             |  0.24096505                             | 3.386994e-23                            | 2.475893e-20                            | Significant                             |\n",
       "| 1021                                    | no matches                              | 0                                       | no matches                              | -0.13507431                             | -0.16511224                             | -0.10503638                             | 4.713364e-16                            | 1.722734e-13                            | Significant                             |\n",
       "| Methionine                              | Amino acids and derivatives             | 1                                       | Amino acids and derivatives             | -0.15338092                             | -0.18935217                             | -0.11740967                             | 8.612303e-15                            | 2.098531e-12                            | Significant                             |\n",
       "| Glutathione                             | Peptides                                | 1                                       | Peptides                                | -0.16831233                             | -0.20978446                             | -0.12684019                             | 1.057457e-13                            | 1.932502e-11                            | Significant                             |\n",
       "| 242                                     | no matches                              | 0                                       | no matches                              | -0.16511925                             | -0.20680074                             | -0.12343775                             | 3.383308e-13                            | 4.946397e-11                            | Significant                             |\n",
       "| 600                                     | no matches                              | 0                                       | no matches                              | -0.14702105                             | -0.18600418                             | -0.10803791                             | 3.170919e-12                            | 3.863236e-10                            | Significant                             |\n",
       "| 1438                                    | no matches                              | 0                                       | no matches                              |  0.13298215                             |  0.09073852                             |  0.17522579                             | 3.157141e-09                            | 3.075893e-07                            | Significant                             |\n",
       "| LysoPE 20:4                             | no matches                              | 1                                       |                                         | -0.14052220                             | -0.18524807                             | -0.09579632                             | 3.366230e-09                            | 3.075893e-07                            | Significant                             |\n",
       "| 2711                                    | Amino acids and derivatives             | 0                                       | Amino acids and derivatives             | -0.13714554                             | -0.18124955                             | -0.09304152                             | 4.712474e-09                            | 3.827576e-07                            | Significant                             |\n",
       "| 361                                     | no matches                              | 0                                       | no matches                              |  0.12242691                             |  0.08115103                             |  0.16370279                             | 2.049110e-08                            | 1.497900e-06                            | Significant                             |\n",
       "| 6753                                    | no matches                              | 0                                       | no matches                              | -0.05638971                             | -0.07560908                             | -0.03717034                             | 2.827972e-08                            | 1.879316e-06                            | Significant                             |\n",
       "| 2170                                    | Amino acids and derivatives             | 0                                       | Amino acids and derivatives             |  0.12785799                             |  0.08400788                             |  0.17170809                             | 3.392271e-08                            | 2.066458e-06                            | Significant                             |\n",
       "| 1053                                    | no matches                              | 0                                       | no matches                              |  0.12043677                             |  0.07886911                             |  0.16200444                             | 4.075132e-08                            | 2.291478e-06                            | Significant                             |\n",
       "| 2573                                    | no matches                              | 0                                       | no matches                              |  0.11433506                             |  0.07356249                             |  0.15510764                             | 1.017598e-07                            | 5.313313e-06                            | Significant                             |\n",
       "| 683                                     | Peptides                                | 0                                       | Peptides                                | -0.12629705                             | -0.17151563                             | -0.08107846                             | 1.134213e-07                            | 5.527398e-06                            | Significant                             |\n",
       "| 486                                     | Peptides                                | 0                                       | Peptides                                | -0.10643499                             | -0.14589090                             | -0.06697908                             | 2.830038e-07                            | 1.238828e-05                            | Significant                             |\n",
       "| 2146                                    | no matches                              | 0                                       | no matches                              | -0.11226671                             | -0.15391359                             | -0.07061984                             | 2.880995e-07                            | 1.238828e-05                            | Significant                             |\n",
       "| LysoPC 20:4                             | Glycerophosphocholines                  | 1                                       | 1-alkyl,2-acylglycero-3-phosphocholines | -0.11948612                             | -0.16487084                             | -0.07410139                             | 5.200401e-07                            | 2.111941e-05                            | Significant                             |\n",
       "| 724                                     | no matches                              | 0                                       | no matches                              | -0.11622176                             | -0.16139748                             | -0.07104604                             | 9.055668e-07                            | 3.484049e-05                            | Significant                             |\n",
       "| 3858                                    | no matches                              | 0                                       | no matches                              | -0.05625319                             | -0.07831231                             | -0.03419408                             | 1.112556e-06                            | 4.066393e-05                            | Significant                             |\n",
       "| 2466                                    | Amino acids and derivatives             | 0                                       | Amino acids and derivatives             | -0.11581634                             | -0.16179635                             | -0.06983634                             | 1.477005e-06                            | 5.141385e-05                            | Significant                             |\n",
       "| 2793                                    | no matches                              | 0                                       | no matches                              | -0.09648107                             | -0.13534720                             | -0.05761494                             | 2.048606e-06                            | 6.806959e-05                            | Significant                             |\n",
       "| 1641                                    | no matches                              | 0                                       | no matches                              | -0.11160171                             | -0.15775063                             | -0.06545278                             | 3.611916e-06                            | 1.147961e-04                            | Significant                             |\n",
       "| 2849                                    | no matches                              | 0                                       | no matches                              |  0.09317221                             |  0.05419666                             |  0.13214776                             | 4.602337e-06                            | 1.401795e-04                            | Significant                             |\n",
       "| 3116                                    | no matches                              | 0                                       | no matches                              |  0.08858993                             |  0.05081975                             |  0.12636011                             | 6.788756e-06                            | 1.985032e-04                            | Significant                             |\n",
       "| 2744                                    | Amino acids and derivatives             | 0                                       | Amino acids and derivatives             | -0.08489401                             | -0.12142797                             | -0.04836005                             | 8.178418e-06                            | 2.299394e-04                            | Significant                             |\n",
       "| 4755                                    | no matches                              | 0                                       | no matches                              |  0.04776796                             |  0.02682641                             |  0.06870952                             | 1.173447e-05                            | 3.177000e-04                            | Significant                             |\n",
       "| 1537                                    | no matches                              | 0                                       | no matches                              |  0.10335907                             |  0.05787824                             |  0.14883990                             | 1.259408e-05                            | 3.287955e-04                            | Significant                             |\n",
       "| 2814                                    | no matches                              | 0                                       | no matches                              |  0.09174997                             |  0.05056371                             |  0.13293623                             | 1.829544e-05                            | 4.611714e-04                            | Significant                             |\n",
       "| 5092                                    | no matches                              | 0                                       | no matches                              | -0.03602962                             | -0.05223836                             | -0.01982088                             | 1.903946e-05                            | 4.639282e-04                            | Significant                             |\n",
       "| ... | ... | ... | ... | ... | ... | ... | ... | ... | ... |\n",
       "| 2-glutathionyl-2-methylbut-3-en-1-ol | Peptides                             | 1                                    | Peptides                             | -0.02863833                          | -0.048565121                         | -0.008711529                         | 0.005074552                          | 0.03011255                           | Significant                          |\n",
       "| 2263                                 | no matches                           | 0                                    | no matches                           | -0.06282879                          | -0.106579392                         | -0.019078189                         | 0.005108012                          | 0.03011255                           | Significant                          |\n",
       "| Palmitoylcarnitine                   | Acyl carnitines                      | 1                                    | Acyl carnitines                      | -0.06748446                          | -0.114549943                         | -0.020418974                         | 0.005175710                          | 0.03026755                           | Significant                          |\n",
       "| 4417                                 | no matches                           | 0                                    | no matches                           |  0.04315687                          |  0.012971193                         |  0.073342540                         | 0.005303477                          | 0.03076859                           | Significant                          |\n",
       "| 1746                                 | no matches                           | 0                                    | no matches                           |  0.06365230                          |  0.018986288                         |  0.108318313                         | 0.005450543                          | 0.03126023                           | Significant                          |\n",
       "| 1404                                 | Amino acids and derivatives          | 0                                    | Amino acids and derivatives          | -0.06552169                          | -0.111522791                         | -0.019520590                         | 0.005473748                          | 0.03126023                           | Significant                          |\n",
       "| glutathione isomer                   | Peptides                             | 0                                    | Peptides                             |  0.06730680                          |  0.019805536                         |  0.114808060                         | 0.005716954                          | 0.03239607                           | Significant                          |\n",
       "| 4151                                 | no matches                           | 0                                    | no matches                           |  0.03524843                          |  0.010232431                         |  0.060264421                         | 0.005987708                          | 0.03366934                           | Significant                          |\n",
       "| 351                                  | no matches                           | 0                                    | no matches                           |  0.06802022                          |  0.019675600                         |  0.116364836                         | 0.006059705                          | 0.03381408                           | Significant                          |\n",
       "| 3195                                 | no matches                           | 0                                    | no matches                           | -0.04810211                          | -0.082350193                         | -0.013854019                         | 0.006147419                          | 0.03395980                           | Significant                          |\n",
       "| 1772                                 | no matches                           | 0                                    | no matches                           | -0.01554870                          | -0.026626054                         | -0.004471338                         | 0.006178733                          | 0.03395980                           | Significant                          |\n",
       "| 3178                                 | Peptides                             | 0                                    | Peptides                             |  0.06543055                          |  0.018757773                         |  0.112103319                         | 0.006241831                          | 0.03405059                           | Significant                          |\n",
       "| Phthalic anhydride                   | Phthalic anhydrides                  | 1                                    | Phthalic anhydrides                  |  0.04702000                          |  0.013344071                         |  0.080695923                         | 0.006449941                          | 0.03492524                           | Significant                          |\n",
       "| Lenticin                             | Amino acids and derivatives          | 1                                    | Amino acids and derivatives          | -0.06500288                          | -0.111692114                         | -0.018313646                         | 0.006601207                          | 0.03548149                           | Significant                          |\n",
       "| 976                                  | no matches                           | 0                                    | no matches                           | -0.03653184                          | -0.062953716                         | -0.010109966                         | 0.006977435                          | 0.03722996                           | Significant                          |\n",
       "| 950                                  | no matches                           | 0                                    | no matches                           |  0.06449847                          |  0.017235847                         |  0.111761091                         | 0.007732753                          | 0.04071342                           | Significant                          |\n",
       "| 573                                  | no matches                           | 0                                    | no matches                           |  0.05464191                          |  0.014595951                         |  0.094687877                         | 0.007741676                          | 0.04071342                           | Significant                          |\n",
       "| 564                                  | no matches                           | 0                                    | no matches                           | -0.06529632                          | -0.113471393                         | -0.017121239                         | 0.008151726                          | 0.04256365                           | Significant                          |\n",
       "| 2808                                 | Sugar acids and derivatives          | 0                                    | Sugar acids and derivatives          | -0.06271394                          | -0.109052619                         | -0.016375261                         | 0.008245255                          | 0.04271746                           | Significant                          |\n",
       "| 4370                                 | no matches                           | 0                                    | no matches                           |  0.01613628                          |  0.004197069                         |  0.028075500                         | 0.008331816                          | 0.04271746                           | Significant                          |\n",
       "| 1607                                 | no matches                           | 0                                    | no matches                           | -0.06424271                          | -0.111794216                         | -0.016691211                         | 0.008356494                          | 0.04271746                           | Significant                          |\n",
       "| 271                                  | no matches                           | 0                                    | no matches                           | -0.06503475                          | -0.113274897                         | -0.016794599                         | 0.008492969                          | 0.04311361                           | Significant                          |\n",
       "| 269                                  | no matches                           | 0                                    | no matches                           | -0.06387647                          | -0.111717069                         | -0.016035874                         | 0.009134713                          | 0.04561869                           | Significant                          |\n",
       "| 282                                  | no matches                           | 0                                    | no matches                           | -0.06429217                          | -0.112465435                         | -0.016118909                         | 0.009165013                          | 0.04561869                           | Significant                          |\n",
       "| 1258                                 | no matches                           | 0                                    | no matches                           | -0.06369349                          | -0.111424185                         | -0.015962788                         | 0.009173662                          | 0.04561869                           | Significant                          |\n",
       "| 2878                                 | no matches                           | 0                                    | no matches                           |  0.03932619                          |  0.009659082                         |  0.068993304                         | 0.009638806                          | 0.04754035                           | Significant                          |\n",
       "| 3139                                 | no matches                           | 0                                    | no matches                           |  0.03003173                          |  0.007341131                         |  0.052722338                         | 0.009749522                          | 0.04754035                           | Significant                          |\n",
       "| 3381                                 | no matches                           | 0                                    | no matches                           |  0.01553227                          |  0.003778379                         |  0.027286158                         | 0.009862675                          | 0.04754035                           | Significant                          |\n",
       "| Tyrosine                             | Amino acids and derivatives          | 1                                    | Amino acids and derivatives          | -0.06321627                          | -0.111061474                         | -0.015371069                         | 0.009873159                          | 0.04754035                           | Significant                          |\n",
       "| 2253                                 | no matches                           | 0                                    | no matches                           |  0.05893187                          |  0.014321870                         |  0.103541875                         | 0.009885271                          | 0.04754035                           | Significant                          |\n",
       "\n"
      ],
      "text/plain": [
       "    metabolite_ID                        metabolite_class            Identified\n",
       "1   3136                                 no matches                  0         \n",
       "2   1021                                 no matches                  0         \n",
       "3   Methionine                           Amino acids and derivatives 1         \n",
       "4   Glutathione                          Peptides                    1         \n",
       "5   242                                  no matches                  0         \n",
       "6   600                                  no matches                  0         \n",
       "7   1438                                 no matches                  0         \n",
       "8   LysoPE 20:4                          no matches                  1         \n",
       "9   2711                                 Amino acids and derivatives 0         \n",
       "10  361                                  no matches                  0         \n",
       "11  6753                                 no matches                  0         \n",
       "12  2170                                 Amino acids and derivatives 0         \n",
       "13  1053                                 no matches                  0         \n",
       "14  2573                                 no matches                  0         \n",
       "15  683                                  Peptides                    0         \n",
       "16  486                                  Peptides                    0         \n",
       "17  2146                                 no matches                  0         \n",
       "18  LysoPC 20:4                          Glycerophosphocholines      1         \n",
       "19  724                                  no matches                  0         \n",
       "20  3858                                 no matches                  0         \n",
       "21  2466                                 Amino acids and derivatives 0         \n",
       "22  2793                                 no matches                  0         \n",
       "23  1641                                 no matches                  0         \n",
       "24  2849                                 no matches                  0         \n",
       "25  3116                                 no matches                  0         \n",
       "26  2744                                 Amino acids and derivatives 0         \n",
       "27  4755                                 no matches                  0         \n",
       "28  1537                                 no matches                  0         \n",
       "29  2814                                 no matches                  0         \n",
       "30  5092                                 no matches                  0         \n",
       "... ...                                  ...                         ...       \n",
       "123 2-glutathionyl-2-methylbut-3-en-1-ol Peptides                    1         \n",
       "124 2263                                 no matches                  0         \n",
       "125 Palmitoylcarnitine                   Acyl carnitines             1         \n",
       "126 4417                                 no matches                  0         \n",
       "127 1746                                 no matches                  0         \n",
       "128 1404                                 Amino acids and derivatives 0         \n",
       "129 glutathione isomer                   Peptides                    0         \n",
       "130 4151                                 no matches                  0         \n",
       "131 351                                  no matches                  0         \n",
       "132 3195                                 no matches                  0         \n",
       "133 1772                                 no matches                  0         \n",
       "134 3178                                 Peptides                    0         \n",
       "135 Phthalic anhydride                   Phthalic anhydrides         1         \n",
       "136 Lenticin                             Amino acids and derivatives 1         \n",
       "137 976                                  no matches                  0         \n",
       "138 950                                  no matches                  0         \n",
       "139 573                                  no matches                  0         \n",
       "140 564                                  no matches                  0         \n",
       "141 2808                                 Sugar acids and derivatives 0         \n",
       "142 4370                                 no matches                  0         \n",
       "143 1607                                 no matches                  0         \n",
       "144 271                                  no matches                  0         \n",
       "145 269                                  no matches                  0         \n",
       "146 282                                  no matches                  0         \n",
       "147 1258                                 no matches                  0         \n",
       "148 2878                                 no matches                  0         \n",
       "149 3139                                 no matches                  0         \n",
       "150 3381                                 no matches                  0         \n",
       "151 Tyrosine                             Amino acids and derivatives 1         \n",
       "152 2253                                 no matches                  0         \n",
       "    level5                                  beta        lowCI       \n",
       "1   no matches                               0.20524522  0.16952539 \n",
       "2   no matches                              -0.13507431 -0.16511224 \n",
       "3   Amino acids and derivatives             -0.15338092 -0.18935217 \n",
       "4   Peptides                                -0.16831233 -0.20978446 \n",
       "5   no matches                              -0.16511925 -0.20680074 \n",
       "6   no matches                              -0.14702105 -0.18600418 \n",
       "7   no matches                               0.13298215  0.09073852 \n",
       "8                                           -0.14052220 -0.18524807 \n",
       "9   Amino acids and derivatives             -0.13714554 -0.18124955 \n",
       "10  no matches                               0.12242691  0.08115103 \n",
       "11  no matches                              -0.05638971 -0.07560908 \n",
       "12  Amino acids and derivatives              0.12785799  0.08400788 \n",
       "13  no matches                               0.12043677  0.07886911 \n",
       "14  no matches                               0.11433506  0.07356249 \n",
       "15  Peptides                                -0.12629705 -0.17151563 \n",
       "16  Peptides                                -0.10643499 -0.14589090 \n",
       "17  no matches                              -0.11226671 -0.15391359 \n",
       "18  1-alkyl,2-acylglycero-3-phosphocholines -0.11948612 -0.16487084 \n",
       "19  no matches                              -0.11622176 -0.16139748 \n",
       "20  no matches                              -0.05625319 -0.07831231 \n",
       "21  Amino acids and derivatives             -0.11581634 -0.16179635 \n",
       "22  no matches                              -0.09648107 -0.13534720 \n",
       "23  no matches                              -0.11160171 -0.15775063 \n",
       "24  no matches                               0.09317221  0.05419666 \n",
       "25  no matches                               0.08858993  0.05081975 \n",
       "26  Amino acids and derivatives             -0.08489401 -0.12142797 \n",
       "27  no matches                               0.04776796  0.02682641 \n",
       "28  no matches                               0.10335907  0.05787824 \n",
       "29  no matches                               0.09174997  0.05056371 \n",
       "30  no matches                              -0.03602962 -0.05223836 \n",
       "... ...                                     ...         ...         \n",
       "123 Peptides                                -0.02863833 -0.048565121\n",
       "124 no matches                              -0.06282879 -0.106579392\n",
       "125 Acyl carnitines                         -0.06748446 -0.114549943\n",
       "126 no matches                               0.04315687  0.012971193\n",
       "127 no matches                               0.06365230  0.018986288\n",
       "128 Amino acids and derivatives             -0.06552169 -0.111522791\n",
       "129 Peptides                                 0.06730680  0.019805536\n",
       "130 no matches                               0.03524843  0.010232431\n",
       "131 no matches                               0.06802022  0.019675600\n",
       "132 no matches                              -0.04810211 -0.082350193\n",
       "133 no matches                              -0.01554870 -0.026626054\n",
       "134 Peptides                                 0.06543055  0.018757773\n",
       "135 Phthalic anhydrides                      0.04702000  0.013344071\n",
       "136 Amino acids and derivatives             -0.06500288 -0.111692114\n",
       "137 no matches                              -0.03653184 -0.062953716\n",
       "138 no matches                               0.06449847  0.017235847\n",
       "139 no matches                               0.05464191  0.014595951\n",
       "140 no matches                              -0.06529632 -0.113471393\n",
       "141 Sugar acids and derivatives             -0.06271394 -0.109052619\n",
       "142 no matches                               0.01613628  0.004197069\n",
       "143 no matches                              -0.06424271 -0.111794216\n",
       "144 no matches                              -0.06503475 -0.113274897\n",
       "145 no matches                              -0.06387647 -0.111717069\n",
       "146 no matches                              -0.06429217 -0.112465435\n",
       "147 no matches                              -0.06369349 -0.111424185\n",
       "148 no matches                               0.03932619  0.009659082\n",
       "149 no matches                               0.03003173  0.007341131\n",
       "150 no matches                               0.01553227  0.003778379\n",
       "151 Amino acids and derivatives             -0.06321627 -0.111061474\n",
       "152 no matches                               0.05893187  0.014321870\n",
       "    highCI       p            p_fdr        significant\n",
       "1    0.24096505  3.386994e-23 2.475893e-20 Significant\n",
       "2   -0.10503638  4.713364e-16 1.722734e-13 Significant\n",
       "3   -0.11740967  8.612303e-15 2.098531e-12 Significant\n",
       "4   -0.12684019  1.057457e-13 1.932502e-11 Significant\n",
       "5   -0.12343775  3.383308e-13 4.946397e-11 Significant\n",
       "6   -0.10803791  3.170919e-12 3.863236e-10 Significant\n",
       "7    0.17522579  3.157141e-09 3.075893e-07 Significant\n",
       "8   -0.09579632  3.366230e-09 3.075893e-07 Significant\n",
       "9   -0.09304152  4.712474e-09 3.827576e-07 Significant\n",
       "10   0.16370279  2.049110e-08 1.497900e-06 Significant\n",
       "11  -0.03717034  2.827972e-08 1.879316e-06 Significant\n",
       "12   0.17170809  3.392271e-08 2.066458e-06 Significant\n",
       "13   0.16200444  4.075132e-08 2.291478e-06 Significant\n",
       "14   0.15510764  1.017598e-07 5.313313e-06 Significant\n",
       "15  -0.08107846  1.134213e-07 5.527398e-06 Significant\n",
       "16  -0.06697908  2.830038e-07 1.238828e-05 Significant\n",
       "17  -0.07061984  2.880995e-07 1.238828e-05 Significant\n",
       "18  -0.07410139  5.200401e-07 2.111941e-05 Significant\n",
       "19  -0.07104604  9.055668e-07 3.484049e-05 Significant\n",
       "20  -0.03419408  1.112556e-06 4.066393e-05 Significant\n",
       "21  -0.06983634  1.477005e-06 5.141385e-05 Significant\n",
       "22  -0.05761494  2.048606e-06 6.806959e-05 Significant\n",
       "23  -0.06545278  3.611916e-06 1.147961e-04 Significant\n",
       "24   0.13214776  4.602337e-06 1.401795e-04 Significant\n",
       "25   0.12636011  6.788756e-06 1.985032e-04 Significant\n",
       "26  -0.04836005  8.178418e-06 2.299394e-04 Significant\n",
       "27   0.06870952  1.173447e-05 3.177000e-04 Significant\n",
       "28   0.14883990  1.259408e-05 3.287955e-04 Significant\n",
       "29   0.13293623  1.829544e-05 4.611714e-04 Significant\n",
       "30  -0.01982088  1.903946e-05 4.639282e-04 Significant\n",
       "... ...          ...          ...          ...        \n",
       "123 -0.008711529 0.005074552  0.03011255   Significant\n",
       "124 -0.019078189 0.005108012  0.03011255   Significant\n",
       "125 -0.020418974 0.005175710  0.03026755   Significant\n",
       "126  0.073342540 0.005303477  0.03076859   Significant\n",
       "127  0.108318313 0.005450543  0.03126023   Significant\n",
       "128 -0.019520590 0.005473748  0.03126023   Significant\n",
       "129  0.114808060 0.005716954  0.03239607   Significant\n",
       "130  0.060264421 0.005987708  0.03366934   Significant\n",
       "131  0.116364836 0.006059705  0.03381408   Significant\n",
       "132 -0.013854019 0.006147419  0.03395980   Significant\n",
       "133 -0.004471338 0.006178733  0.03395980   Significant\n",
       "134  0.112103319 0.006241831  0.03405059   Significant\n",
       "135  0.080695923 0.006449941  0.03492524   Significant\n",
       "136 -0.018313646 0.006601207  0.03548149   Significant\n",
       "137 -0.010109966 0.006977435  0.03722996   Significant\n",
       "138  0.111761091 0.007732753  0.04071342   Significant\n",
       "139  0.094687877 0.007741676  0.04071342   Significant\n",
       "140 -0.017121239 0.008151726  0.04256365   Significant\n",
       "141 -0.016375261 0.008245255  0.04271746   Significant\n",
       "142  0.028075500 0.008331816  0.04271746   Significant\n",
       "143 -0.016691211 0.008356494  0.04271746   Significant\n",
       "144 -0.016794599 0.008492969  0.04311361   Significant\n",
       "145 -0.016035874 0.009134713  0.04561869   Significant\n",
       "146 -0.016118909 0.009165013  0.04561869   Significant\n",
       "147 -0.015962788 0.009173662  0.04561869   Significant\n",
       "148  0.068993304 0.009638806  0.04754035   Significant\n",
       "149  0.052722338 0.009749522  0.04754035   Significant\n",
       "150  0.027286158 0.009862675  0.04754035   Significant\n",
       "151 -0.015371069 0.009873159  0.04754035   Significant\n",
       "152  0.103541875 0.009885271  0.04754035   Significant"
      ]
     },
     "metadata": {},
     "output_type": "display_data"
    }
   ],
   "source": [
    "output_sig <- subset(output,significant==\"Significant\")\n",
    "arrange(output_sig,p)"
   ]
  },
  {
   "cell_type": "markdown",
   "metadata": {},
   "source": [
    "# Plot regression data"
   ]
  },
  {
   "cell_type": "markdown",
   "metadata": {},
   "source": [
    "Create volcano plot"
   ]
  },
  {
   "cell_type": "code",
   "execution_count": 15,
   "metadata": {},
   "outputs": [
    {
     "data": {
      "image/png": "[encoded data removed]",
      "text/plain": [
       "plot without title"
      ]
     },
     "metadata": {},
     "output_type": "display_data"
    }
   ],
   "source": [
    "myCol <- get_palette(palette = \"jama\",12) # customized palette with 12 colors\n",
    "# Volcano plot where significant metabolites are colored annotations are given when available\n",
    "\n",
    "volcano_beta <- ggplot(output,aes(x=beta,y=-log(p,base=10),color=significant))+\n",
    "  geom_point()+\n",
    "  theme_classic()+\n",
    "  geom_vline(xintercept = 0)+\n",
    "  scale_color_jama()+\n",
    "  geom_text_repel(data=subset(output,significant==\"Significant\" & Identified==1),\n",
    "                  aes(label=metabolite_ID),size=3,show.legend = FALSE,max.overlaps = 100)+\n",
    "  theme(legend.title = element_blank())+\n",
    "  ylab(\"-logp\")+\n",
    "  theme(legend.text=element_text(size=14))\n",
    "\n",
    "volcano_beta"
   ]
  },
  {
   "cell_type": "markdown",
   "metadata": {},
   "source": [
    "Show temporal trends for the two most significant metabolites with annotations available"
   ]
  },
  {
   "cell_type": "code",
   "execution_count": 16,
   "metadata": {
    "scrolled": false
   },
   "outputs": [
    {
     "name": "stderr",
     "output_type": "stream",
     "text": [
      "`geom_smooth()` using formula 'y ~ x'\n",
      "`geom_smooth()` using formula 'y ~ x'\n"
     ]
    },
    {
     "data": {
      "image/png": "[encoded data removed]",
      "text/plain": [
       "plot without title"
      ]
     },
     "metadata": {},
     "output_type": "display_data"
    },
    {
     "data": {
      "image/png": "[encoded data removed]",
      "text/plain": [
       "plot without title"
      ]
     },
     "metadata": {},
     "output_type": "display_data"
    }
   ],
   "source": [
    "plotMethionine <- ggplot(Data,aes(x=storage,y=Methionine,color=myCol[1]))+\n",
    "  geom_point()+\n",
    "  geom_smooth(method = \"lm\")+\n",
    "  theme_classic()+\n",
    "  scale_color_jama()+\n",
    "  theme(legend.title = element_blank(),legend.position = \"none\")+\n",
    "  scale_x_continuous(breaks=seq(0,9,1))+\n",
    "  xlab(\"storage time (years)\")+\n",
    "  ylab(\"Methionine\")\n",
    "\n",
    "plotGlutathione <- ggplot(Data,aes(x=storage,y=Glutathione,color=myCol[1]))+\n",
    "  geom_point()+\n",
    "  geom_smooth(method = \"lm\")+\n",
    "  theme_classic()+\n",
    "  scale_color_jama()+\n",
    "  theme(legend.title = element_blank(),legend.position = \"none\")+\n",
    "  scale_x_continuous(breaks=seq(0,9,1))+\n",
    "  xlab(\"storage time (years)\")+\n",
    "  ylab(\"Glutathione\")\n",
    "\n",
    "plotMethionine\n",
    "plotGlutathione"
   ]
  },
  {
   "cell_type": "markdown",
   "metadata": {},
   "source": [
    "# Calculate and plot sd-change from baseline"
   ]
  },
  {
   "cell_type": "markdown",
   "metadata": {},
   "source": [
    "Among significant metabolites, the median for each metabolite and year are calculated."
   ]
  },
  {
   "cell_type": "code",
   "execution_count": 17,
   "metadata": {},
   "outputs": [
    {
     "data": {
      "text/html": [
       "<table>\n",
       "<thead><tr><th scope=col>storage</th><th scope=col>Glutathionate</th><th scope=col>Acetylcarnitine</th><th scope=col>Glutathione</th><th scope=col>57</th><th scope=col>85</th><th scope=col>Lenticin</th><th scope=col>101</th><th scope=col>130</th><th scope=col>133</th><th scope=col>...</th><th scope=col>4652</th><th scope=col>4699</th><th scope=col>4755</th><th scope=col>4867</th><th scope=col>5037</th><th scope=col>5092</th><th scope=col>5792</th><th scope=col>6713</th><th scope=col>6753</th><th scope=col>8292</th></tr></thead>\n",
       "<tbody>\n",
       "\t<tr><td> 1          </td><td>-0.78295737 </td><td> 0.460590069</td><td> 0.97328210 </td><td> 0.36256133 </td><td>-0.77649711 </td><td> 0.323922859</td><td>-0.82343777 </td><td> 0.059711910</td><td>-0.80903196 </td><td>...         </td><td>-0.174793045</td><td> 0.26268967 </td><td>-0.20636948 </td><td> 0.169416030</td><td>-0.13820823 </td><td> 0.115651223</td><td> 0.02012133 </td><td>-0.062602822</td><td> 0.409352044</td><td> 0.27657089 </td></tr>\n",
       "\t<tr><td> 2          </td><td>-0.01336527 </td><td>-0.014738368</td><td> 0.82623699 </td><td> 0.01786497 </td><td>-0.03718223 </td><td> 0.624973611</td><td>-0.04719075 </td><td> 0.351313849</td><td> 0.01735270 </td><td>...         </td><td>-0.035202910</td><td>-0.02427131 </td><td>-0.07509037 </td><td> 0.323816082</td><td>-0.06547523 </td><td> 0.148891469</td><td>-0.11759639 </td><td>-0.085761531</td><td> 0.056714245</td><td>-0.17864730 </td></tr>\n",
       "\t<tr><td> 3          </td><td> 0.21371674 </td><td> 0.269332622</td><td> 0.45974780 </td><td> 0.37040647 </td><td> 0.08509546 </td><td> 0.159599443</td><td> 0.14711162 </td><td> 0.399549648</td><td> 0.12195967 </td><td>...         </td><td> 0.102605262</td><td> 0.09861990 </td><td>-0.20018273 </td><td>-0.108422744</td><td>-0.10948902 </td><td>-0.004762914</td><td>-0.12300611 </td><td> 0.017128769</td><td> 0.100167515</td><td> 0.06853880 </td></tr>\n",
       "\t<tr><td> 4          </td><td> 0.04900609 </td><td> 0.157423959</td><td> 0.17370519 </td><td> 0.44267959 </td><td>-0.06247799 </td><td>-0.060880579</td><td> 0.03609757 </td><td> 0.195199604</td><td>-0.04443934 </td><td>...         </td><td>-0.087650651</td><td>-0.02569767 </td><td>-0.06441863 </td><td>-0.026629692</td><td>-0.01839962 </td><td>-0.001437808</td><td>-0.03785969 </td><td> 0.025444822</td><td> 0.024061778</td><td> 0.01028937 </td></tr>\n",
       "\t<tr><td> 5          </td><td>-0.44365432 </td><td>-0.000858091</td><td> 0.01761521 </td><td>-0.01742606 </td><td>-0.31894355 </td><td> 0.175689523</td><td>-0.37168965 </td><td> 0.007596462</td><td>-0.31651520 </td><td>...         </td><td>-0.090155684</td><td>-0.05814929 </td><td>-0.20202536 </td><td>-0.025447077</td><td>-0.01850396 </td><td>-0.116804431</td><td>-0.01650043 </td><td> 0.009465424</td><td> 0.052156312</td><td> 0.05320294 </td></tr>\n",
       "\t<tr><td> 6          </td><td> 0.04381113 </td><td>-0.158609231</td><td>-0.28076729 </td><td> 0.21678963 </td><td> 0.10805737 </td><td> 0.005290669</td><td> 0.08970886 </td><td> 0.071117007</td><td>-0.01647750 </td><td>...         </td><td> 0.003675929</td><td>-0.17922639 </td><td> 0.03022563 </td><td>-0.184513588</td><td> 0.01812035 </td><td>-0.017241602</td><td> 0.03855782 </td><td> 0.062952326</td><td>-0.006363866</td><td> 0.04086285 </td></tr>\n",
       "\t<tr><td> 7          </td><td>-0.04745866 </td><td>-1.018307305</td><td>-0.76774446 </td><td>-0.24270961 </td><td>-0.05720395 </td><td> 0.121304746</td><td>-0.08881923 </td><td>-0.123660221</td><td>-0.19128138 </td><td>...         </td><td> 0.187559802</td><td>-0.09602635 </td><td> 0.13700741 </td><td> 0.003819212</td><td> 0.20114968 </td><td>-0.110177422</td><td> 0.08384518 </td><td> 0.042832690</td><td>-0.208712903</td><td>-0.03878210 </td></tr>\n",
       "\t<tr><td> 8          </td><td> 0.21254871 </td><td>-0.187302600</td><td>-1.08074544 </td><td>-0.81329067 </td><td> 0.19491561 </td><td>-0.194593550</td><td> 0.17365580 </td><td>-0.107100395</td><td> 0.19694657 </td><td>...         </td><td>-0.063646795</td><td>-0.14392967 </td><td> 0.31732578 </td><td>-0.125103691</td><td> 0.06655997 </td><td>-0.047025839</td><td> 0.02775353 </td><td> 0.013679096</td><td>-0.090821161</td><td> 0.12643627 </td></tr>\n",
       "\t<tr><td> 9          </td><td> 0.81037327 </td><td> 0.037201440</td><td>-0.53068885 </td><td>-0.05880901 </td><td> 0.78807290 </td><td> 0.145090677</td><td> 0.73720561 </td><td>-0.076392191</td><td> 0.81968708 </td><td>...         </td><td> 0.021923149</td><td>-0.11159451 </td><td>-0.06571478 </td><td>-0.404812903</td><td> 0.01954540 </td><td>-0.081173160</td><td> 0.09151846 </td><td> 0.032420777</td><td> 0.020150630</td><td>-0.10649958 </td></tr>\n",
       "\t<tr><td>10          </td><td> 0.24545850 </td><td>-0.207954169</td><td>-0.38568863 </td><td>-0.22815310 </td><td> 0.25549627 </td><td>-0.576451573</td><td> 0.13895892 </td><td>-0.132465004</td><td> 0.26005328 </td><td>...         </td><td> 0.152176048</td><td>-0.10472849 </td><td> 0.06430508 </td><td>-0.045733898</td><td> 0.09620530 </td><td>-0.062673344</td><td>-0.01938183 </td><td> 0.060704711</td><td>-0.226603638</td><td>-0.06817705 </td></tr>\n",
       "</tbody>\n",
       "</table>\n"
      ],
      "text/latex": [
       "\\begin{tabular}{r|llllllllllllllllllllllllllllllllllllllllllllllllllllllllllllllllllllllllllllllllllllllllllllllllllllllllllllllllllllllllllllllllllllllllllllllllllllllll}\n",
       " storage & Glutathionate & Acetylcarnitine & Glutathione & 57 & 85 & Lenticin & 101 & 130 & 133 & ... & 4652 & 4699 & 4755 & 4867 & 5037 & 5092 & 5792 & 6713 & 6753 & 8292\\\\\n",
       "\\hline\n",
       "\t  1           & -0.78295737  &  0.460590069 &  0.97328210  &  0.36256133  & -0.77649711  &  0.323922859 & -0.82343777  &  0.059711910 & -0.80903196  & ...          & -0.174793045 &  0.26268967  & -0.20636948  &  0.169416030 & -0.13820823  &  0.115651223 &  0.02012133  & -0.062602822 &  0.409352044 &  0.27657089 \\\\\n",
       "\t  2           & -0.01336527  & -0.014738368 &  0.82623699  &  0.01786497  & -0.03718223  &  0.624973611 & -0.04719075  &  0.351313849 &  0.01735270  & ...          & -0.035202910 & -0.02427131  & -0.07509037  &  0.323816082 & -0.06547523  &  0.148891469 & -0.11759639  & -0.085761531 &  0.056714245 & -0.17864730 \\\\\n",
       "\t  3           &  0.21371674  &  0.269332622 &  0.45974780  &  0.37040647  &  0.08509546  &  0.159599443 &  0.14711162  &  0.399549648 &  0.12195967  & ...          &  0.102605262 &  0.09861990  & -0.20018273  & -0.108422744 & -0.10948902  & -0.004762914 & -0.12300611  &  0.017128769 &  0.100167515 &  0.06853880 \\\\\n",
       "\t  4           &  0.04900609  &  0.157423959 &  0.17370519  &  0.44267959  & -0.06247799  & -0.060880579 &  0.03609757  &  0.195199604 & -0.04443934  & ...          & -0.087650651 & -0.02569767  & -0.06441863  & -0.026629692 & -0.01839962  & -0.001437808 & -0.03785969  &  0.025444822 &  0.024061778 &  0.01028937 \\\\\n",
       "\t  5           & -0.44365432  & -0.000858091 &  0.01761521  & -0.01742606  & -0.31894355  &  0.175689523 & -0.37168965  &  0.007596462 & -0.31651520  & ...          & -0.090155684 & -0.05814929  & -0.20202536  & -0.025447077 & -0.01850396  & -0.116804431 & -0.01650043  &  0.009465424 &  0.052156312 &  0.05320294 \\\\\n",
       "\t  6           &  0.04381113  & -0.158609231 & -0.28076729  &  0.21678963  &  0.10805737  &  0.005290669 &  0.08970886  &  0.071117007 & -0.01647750  & ...          &  0.003675929 & -0.17922639  &  0.03022563  & -0.184513588 &  0.01812035  & -0.017241602 &  0.03855782  &  0.062952326 & -0.006363866 &  0.04086285 \\\\\n",
       "\t  7           & -0.04745866  & -1.018307305 & -0.76774446  & -0.24270961  & -0.05720395  &  0.121304746 & -0.08881923  & -0.123660221 & -0.19128138  & ...          &  0.187559802 & -0.09602635  &  0.13700741  &  0.003819212 &  0.20114968  & -0.110177422 &  0.08384518  &  0.042832690 & -0.208712903 & -0.03878210 \\\\\n",
       "\t  8           &  0.21254871  & -0.187302600 & -1.08074544  & -0.81329067  &  0.19491561  & -0.194593550 &  0.17365580  & -0.107100395 &  0.19694657  & ...          & -0.063646795 & -0.14392967  &  0.31732578  & -0.125103691 &  0.06655997  & -0.047025839 &  0.02775353  &  0.013679096 & -0.090821161 &  0.12643627 \\\\\n",
       "\t  9           &  0.81037327  &  0.037201440 & -0.53068885  & -0.05880901  &  0.78807290  &  0.145090677 &  0.73720561  & -0.076392191 &  0.81968708  & ...          &  0.021923149 & -0.11159451  & -0.06571478  & -0.404812903 &  0.01954540  & -0.081173160 &  0.09151846  &  0.032420777 &  0.020150630 & -0.10649958 \\\\\n",
       "\t 10           &  0.24545850  & -0.207954169 & -0.38568863  & -0.22815310  &  0.25549627  & -0.576451573 &  0.13895892  & -0.132465004 &  0.26005328  & ...          &  0.152176048 & -0.10472849  &  0.06430508  & -0.045733898 &  0.09620530  & -0.062673344 & -0.01938183  &  0.060704711 & -0.226603638 & -0.06817705 \\\\\n",
       "\\end{tabular}\n"
      ],
      "text/markdown": [
       "\n",
       "| storage | Glutathionate | Acetylcarnitine | Glutathione | 57 | 85 | Lenticin | 101 | 130 | 133 | ... | 4652 | 4699 | 4755 | 4867 | 5037 | 5092 | 5792 | 6713 | 6753 | 8292 |\n",
       "|---|---|---|---|---|---|---|---|---|---|---|---|---|---|---|---|---|---|---|---|---|\n",
       "|  1           | -0.78295737  |  0.460590069 |  0.97328210  |  0.36256133  | -0.77649711  |  0.323922859 | -0.82343777  |  0.059711910 | -0.80903196  | ...          | -0.174793045 |  0.26268967  | -0.20636948  |  0.169416030 | -0.13820823  |  0.115651223 |  0.02012133  | -0.062602822 |  0.409352044 |  0.27657089  |\n",
       "|  2           | -0.01336527  | -0.014738368 |  0.82623699  |  0.01786497  | -0.03718223  |  0.624973611 | -0.04719075  |  0.351313849 |  0.01735270  | ...          | -0.035202910 | -0.02427131  | -0.07509037  |  0.323816082 | -0.06547523  |  0.148891469 | -0.11759639  | -0.085761531 |  0.056714245 | -0.17864730  |\n",
       "|  3           |  0.21371674  |  0.269332622 |  0.45974780  |  0.37040647  |  0.08509546  |  0.159599443 |  0.14711162  |  0.399549648 |  0.12195967  | ...          |  0.102605262 |  0.09861990  | -0.20018273  | -0.108422744 | -0.10948902  | -0.004762914 | -0.12300611  |  0.017128769 |  0.100167515 |  0.06853880  |\n",
       "|  4           |  0.04900609  |  0.157423959 |  0.17370519  |  0.44267959  | -0.06247799  | -0.060880579 |  0.03609757  |  0.195199604 | -0.04443934  | ...          | -0.087650651 | -0.02569767  | -0.06441863  | -0.026629692 | -0.01839962  | -0.001437808 | -0.03785969  |  0.025444822 |  0.024061778 |  0.01028937  |\n",
       "|  5           | -0.44365432  | -0.000858091 |  0.01761521  | -0.01742606  | -0.31894355  |  0.175689523 | -0.37168965  |  0.007596462 | -0.31651520  | ...          | -0.090155684 | -0.05814929  | -0.20202536  | -0.025447077 | -0.01850396  | -0.116804431 | -0.01650043  |  0.009465424 |  0.052156312 |  0.05320294  |\n",
       "|  6           |  0.04381113  | -0.158609231 | -0.28076729  |  0.21678963  |  0.10805737  |  0.005290669 |  0.08970886  |  0.071117007 | -0.01647750  | ...          |  0.003675929 | -0.17922639  |  0.03022563  | -0.184513588 |  0.01812035  | -0.017241602 |  0.03855782  |  0.062952326 | -0.006363866 |  0.04086285  |\n",
       "|  7           | -0.04745866  | -1.018307305 | -0.76774446  | -0.24270961  | -0.05720395  |  0.121304746 | -0.08881923  | -0.123660221 | -0.19128138  | ...          |  0.187559802 | -0.09602635  |  0.13700741  |  0.003819212 |  0.20114968  | -0.110177422 |  0.08384518  |  0.042832690 | -0.208712903 | -0.03878210  |\n",
       "|  8           |  0.21254871  | -0.187302600 | -1.08074544  | -0.81329067  |  0.19491561  | -0.194593550 |  0.17365580  | -0.107100395 |  0.19694657  | ...          | -0.063646795 | -0.14392967  |  0.31732578  | -0.125103691 |  0.06655997  | -0.047025839 |  0.02775353  |  0.013679096 | -0.090821161 |  0.12643627  |\n",
       "|  9           |  0.81037327  |  0.037201440 | -0.53068885  | -0.05880901  |  0.78807290  |  0.145090677 |  0.73720561  | -0.076392191 |  0.81968708  | ...          |  0.021923149 | -0.11159451  | -0.06571478  | -0.404812903 |  0.01954540  | -0.081173160 |  0.09151846  |  0.032420777 |  0.020150630 | -0.10649958  |\n",
       "| 10           |  0.24545850  | -0.207954169 | -0.38568863  | -0.22815310  |  0.25549627  | -0.576451573 |  0.13895892  | -0.132465004 |  0.26005328  | ...          |  0.152176048 | -0.10472849  |  0.06430508  | -0.045733898 |  0.09620530  | -0.062673344 | -0.01938183  |  0.060704711 | -0.226603638 | -0.06817705  |\n",
       "\n"
      ],
      "text/plain": [
       "   storage Glutathionate Acetylcarnitine Glutathione 57          85         \n",
       "1   1      -0.78295737    0.460590069     0.97328210  0.36256133 -0.77649711\n",
       "2   2      -0.01336527   -0.014738368     0.82623699  0.01786497 -0.03718223\n",
       "3   3       0.21371674    0.269332622     0.45974780  0.37040647  0.08509546\n",
       "4   4       0.04900609    0.157423959     0.17370519  0.44267959 -0.06247799\n",
       "5   5      -0.44365432   -0.000858091     0.01761521 -0.01742606 -0.31894355\n",
       "6   6       0.04381113   -0.158609231    -0.28076729  0.21678963  0.10805737\n",
       "7   7      -0.04745866   -1.018307305    -0.76774446 -0.24270961 -0.05720395\n",
       "8   8       0.21254871   -0.187302600    -1.08074544 -0.81329067  0.19491561\n",
       "9   9       0.81037327    0.037201440    -0.53068885 -0.05880901  0.78807290\n",
       "10 10       0.24545850   -0.207954169    -0.38568863 -0.22815310  0.25549627\n",
       "   Lenticin     101         130          133         ... 4652        \n",
       "1   0.323922859 -0.82343777  0.059711910 -0.80903196 ... -0.174793045\n",
       "2   0.624973611 -0.04719075  0.351313849  0.01735270 ... -0.035202910\n",
       "3   0.159599443  0.14711162  0.399549648  0.12195967 ...  0.102605262\n",
       "4  -0.060880579  0.03609757  0.195199604 -0.04443934 ... -0.087650651\n",
       "5   0.175689523 -0.37168965  0.007596462 -0.31651520 ... -0.090155684\n",
       "6   0.005290669  0.08970886  0.071117007 -0.01647750 ...  0.003675929\n",
       "7   0.121304746 -0.08881923 -0.123660221 -0.19128138 ...  0.187559802\n",
       "8  -0.194593550  0.17365580 -0.107100395  0.19694657 ... -0.063646795\n",
       "9   0.145090677  0.73720561 -0.076392191  0.81968708 ...  0.021923149\n",
       "10 -0.576451573  0.13895892 -0.132465004  0.26005328 ...  0.152176048\n",
       "   4699        4755        4867         5037        5092         5792       \n",
       "1   0.26268967 -0.20636948  0.169416030 -0.13820823  0.115651223  0.02012133\n",
       "2  -0.02427131 -0.07509037  0.323816082 -0.06547523  0.148891469 -0.11759639\n",
       "3   0.09861990 -0.20018273 -0.108422744 -0.10948902 -0.004762914 -0.12300611\n",
       "4  -0.02569767 -0.06441863 -0.026629692 -0.01839962 -0.001437808 -0.03785969\n",
       "5  -0.05814929 -0.20202536 -0.025447077 -0.01850396 -0.116804431 -0.01650043\n",
       "6  -0.17922639  0.03022563 -0.184513588  0.01812035 -0.017241602  0.03855782\n",
       "7  -0.09602635  0.13700741  0.003819212  0.20114968 -0.110177422  0.08384518\n",
       "8  -0.14392967  0.31732578 -0.125103691  0.06655997 -0.047025839  0.02775353\n",
       "9  -0.11159451 -0.06571478 -0.404812903  0.01954540 -0.081173160  0.09151846\n",
       "10 -0.10472849  0.06430508 -0.045733898  0.09620530 -0.062673344 -0.01938183\n",
       "   6713         6753         8292       \n",
       "1  -0.062602822  0.409352044  0.27657089\n",
       "2  -0.085761531  0.056714245 -0.17864730\n",
       "3   0.017128769  0.100167515  0.06853880\n",
       "4   0.025444822  0.024061778  0.01028937\n",
       "5   0.009465424  0.052156312  0.05320294\n",
       "6   0.062952326 -0.006363866  0.04086285\n",
       "7   0.042832690 -0.208712903 -0.03878210\n",
       "8   0.013679096 -0.090821161  0.12643627\n",
       "9   0.032420777  0.020150630 -0.10649958\n",
       "10  0.060704711 -0.226603638 -0.06817705"
      ]
     },
     "metadata": {},
     "output_type": "display_data"
    }
   ],
   "source": [
    "# Calculate medians for each year\n",
    "storage_data <- Data[,c(10,start:ncol(Data))] %>% dplyr::group_by(storage) %>% dplyr::summarize_all(.funs = median)\n",
    "storage_data <- storage_data[,names(storage_data) %in% subset(output,significant==\"Significant\")$metabolite_ID]\n",
    "storage_data <- storage_data %>% add_column(storage=1:10,.before = 1)\n",
    "storage_data"
   ]
  },
  {
   "cell_type": "markdown",
   "metadata": {},
   "source": [
    "Metabolites are first classified as either increasing or decreasing. The average median level within each group is calculated and plotted"
   ]
  },
  {
   "cell_type": "code",
   "execution_count": 18,
   "metadata": {},
   "outputs": [],
   "source": [
    "# Classify metabolites as increasing or decreasing with storage\n",
    "pos <- subset(output,beta>0)[,1]\n",
    "neg <- subset(output,beta<0)[,1]\n",
    "\n",
    "# Extract temporal trends from previously calculated table\n",
    "pos_storage <- storage_data[names(storage_data) %in% pos]\n",
    "neg_storage <- storage_data[names(storage_data) %in% neg]\n",
    "\n",
    "# For increasing and decreasing featues separately - calculate means relative to year 1\n",
    "posstoragedata <- cbind.data.frame(storage_data$storage,rowMeans(pos_storage)-rowMeans(pos_storage)[1],\n",
    "                                   rowMeans(pos_storage)-rowMeans(pos_storage)[1]+rowSds(as.matrix(pos_storage)),\n",
    "                                   rowMeans(pos_storage)-rowMeans(pos_storage)[1]-rowSds(as.matrix(pos_storage)),\n",
    "                                   rep(\"pos\",nrow(pos_storage)))\n",
    "colnames(posstoragedata) <- c(\"storage\",\"median\",\"high\",\"low\",\"direction\")\n",
    "\n",
    "negstoragedata <- cbind.data.frame(storage_data$storage,rowMeans(neg_storage)-rowMeans(neg_storage)[1],\n",
    "                                   rowMeans(neg_storage)-rowMeans(neg_storage)[1]+rowSds(as.matrix(neg_storage)),\n",
    "                                   rowMeans(neg_storage)-rowMeans(neg_storage)[1]-rowSds(as.matrix(neg_storage)),\n",
    "                                   rep(\"neg\",nrow(pos_storage)))\n",
    "colnames(negstoragedata) <- colnames(posstoragedata)\n",
    "\n",
    "# Combine increasing and decreasing features to dataframe for plotting\n",
    "storagedata <- rbind(posstoragedata,negstoragedata)"
   ]
  },
  {
   "cell_type": "code",
   "execution_count": 19,
   "metadata": {},
   "outputs": [
    {
     "data": {
      "image/png": "[encoded data removed]",
      "text/plain": [
       "plot without title"
      ]
     },
     "metadata": {},
     "output_type": "display_data"
    }
   ],
   "source": [
    "timecourse_plot <- ggplot(storagedata,aes(x=storage,y=median,max=high,min=low,color=direction,fill=direction))+\n",
    "  geom_line()+\n",
    "  geom_pointrange(position=position_dodge(0.1))+\n",
    "  theme_minimal()+\n",
    "  theme(legend.title = element_blank())+\n",
    "  geom_hline(aes(yintercept=0))+\n",
    "  scale_color_jama()+\n",
    "  scale_fill_jama()+\n",
    "  scale_x_continuous(breaks=seq(1,10,1))+\n",
    "  xlab(\"storage time (years)\")+\n",
    "  theme(legend.text=element_text(size=12))\n",
    "\n",
    "timecourse_plot"
   ]
  },
  {
   "cell_type": "markdown",
   "metadata": {},
   "source": [
    "Calculate mean difference between year 1 and 10"
   ]
  },
  {
   "cell_type": "code",
   "execution_count": 20,
   "metadata": {},
   "outputs": [
    {
     "data": {
      "text/html": [
       "0.67122890321367"
      ],
      "text/latex": [
       "0.67122890321367"
      ],
      "text/markdown": [
       "0.67122890321367"
      ],
      "text/plain": [
       "[1] 0.6712289"
      ]
     },
     "metadata": {},
     "output_type": "display_data"
    },
    {
     "data": {
      "text/html": [
       "-0.634941262325241"
      ],
      "text/latex": [
       "-0.634941262325241"
      ],
      "text/markdown": [
       "-0.634941262325241"
      ],
      "text/plain": [
       "[1] -0.6349413"
      ]
     },
     "metadata": {},
     "output_type": "display_data"
    }
   ],
   "source": [
    "rowMeans(pos_storage[10,]-pos_storage[1,])\n",
    "rowMeans(neg_storage[10,]-neg_storage[1,])"
   ]
  },
  {
   "cell_type": "markdown",
   "metadata": {},
   "source": [
    "# Plot classes in piechart"
   ]
  },
  {
   "cell_type": "markdown",
   "metadata": {},
   "source": [
    "Display how many significant metabolite features are found in each class"
   ]
  },
  {
   "cell_type": "code",
   "execution_count": 21,
   "metadata": {},
   "outputs": [],
   "source": [
    "# Calculate how many significant metabolites are in each class\n",
    "piedata <- cbind.data.frame(output_sig$metabolite_class,rep(1,nrow(output_sig)))\n",
    "colnames(piedata) <- c(\"Class\",\"Amount\")\n",
    "piedata <- piedata %>% group_by(Class) %>% summarise(frequency=sum(Amount))\n"
   ]
  },
  {
   "cell_type": "markdown",
   "metadata": {},
   "source": [
    "Show number of significant metabolites for each class"
   ]
  },
  {
   "cell_type": "code",
   "execution_count": 22,
   "metadata": {},
   "outputs": [
    {
     "data": {
      "text/html": [
       "<table>\n",
       "<thead><tr><th scope=col>Class</th><th scope=col>frequency</th></tr></thead>\n",
       "<tbody>\n",
       "\t<tr><td>Acyl carnitines            </td><td>  4                        </td></tr>\n",
       "\t<tr><td>Amino acids and derivatives</td><td> 17                        </td></tr>\n",
       "\t<tr><td>Glycerophosphocholines     </td><td>  5                        </td></tr>\n",
       "\t<tr><td>Medium-chain fatty acids   </td><td>  1                        </td></tr>\n",
       "\t<tr><td>no matches                 </td><td>106                        </td></tr>\n",
       "\t<tr><td>Peptides                   </td><td> 16                        </td></tr>\n",
       "\t<tr><td>Phthalic anhydrides        </td><td>  1                        </td></tr>\n",
       "\t<tr><td>Sugar acids and derivatives</td><td>  1                        </td></tr>\n",
       "\t<tr><td>Triacylglycerols           </td><td>  1                        </td></tr>\n",
       "</tbody>\n",
       "</table>\n"
      ],
      "text/latex": [
       "\\begin{tabular}{r|ll}\n",
       " Class & frequency\\\\\n",
       "\\hline\n",
       "\t Acyl carnitines             &   4                        \\\\\n",
       "\t Amino acids and derivatives &  17                        \\\\\n",
       "\t Glycerophosphocholines      &   5                        \\\\\n",
       "\t Medium-chain fatty acids    &   1                        \\\\\n",
       "\t no matches                  & 106                        \\\\\n",
       "\t Peptides                    &  16                        \\\\\n",
       "\t Phthalic anhydrides         &   1                        \\\\\n",
       "\t Sugar acids and derivatives &   1                        \\\\\n",
       "\t Triacylglycerols            &   1                        \\\\\n",
       "\\end{tabular}\n"
      ],
      "text/markdown": [
       "\n",
       "| Class | frequency |\n",
       "|---|---|\n",
       "| Acyl carnitines             |   4                         |\n",
       "| Amino acids and derivatives |  17                         |\n",
       "| Glycerophosphocholines      |   5                         |\n",
       "| Medium-chain fatty acids    |   1                         |\n",
       "| no matches                  | 106                         |\n",
       "| Peptides                    |  16                         |\n",
       "| Phthalic anhydrides         |   1                         |\n",
       "| Sugar acids and derivatives |   1                         |\n",
       "| Triacylglycerols            |   1                         |\n",
       "\n"
      ],
      "text/plain": [
       "  Class                       frequency\n",
       "1 Acyl carnitines               4      \n",
       "2 Amino acids and derivatives  17      \n",
       "3 Glycerophosphocholines        5      \n",
       "4 Medium-chain fatty acids      1      \n",
       "5 no matches                  106      \n",
       "6 Peptides                     16      \n",
       "7 Phthalic anhydrides           1      \n",
       "8 Sugar acids and derivatives   1      \n",
       "9 Triacylglycerols              1      "
      ]
     },
     "metadata": {},
     "output_type": "display_data"
    }
   ],
   "source": [
    "piedata\n",
    "piedata <- subset(piedata,Class!=\"no matches\") # remove metabolite without class annotation"
   ]
  },
  {
   "cell_type": "markdown",
   "metadata": {},
   "source": [
    "create piechart"
   ]
  },
  {
   "cell_type": "code",
   "execution_count": 23,
   "metadata": {},
   "outputs": [
    {
     "data": {
      "image/png": "[encoded data removed]",
      "text/plain": [
       "plot without title"
      ]
     },
     "metadata": {},
     "output_type": "display_data"
    }
   ],
   "source": [
    "piechar_class <- ggplot(piedata, aes(x=\"\", y=frequency, fill=Class)) +\n",
    "  geom_bar(stat=\"identity\", width=1, color=\"white\") +\n",
    "  coord_polar(\"y\", start=0) +\n",
    "  scale_fill_manual(values=get_palette(palette = \"jama\",10))+\n",
    "  xlab(\"\")+\n",
    "  ylab(\"\")+\n",
    "  theme(legend.title = element_blank(),panel.background = element_rect(fill=\"white\"),\n",
    "        legend.position = \"right\",axis.ticks.y = element_blank(),axis.text.x = element_blank(),\n",
    "       legend.text=element_text(size=14))\n",
    "\n",
    "piechar_class"
   ]
  },
  {
   "cell_type": "markdown",
   "metadata": {},
   "source": [
    "# Plot sd-change from baseline by class"
   ]
  },
  {
   "cell_type": "markdown",
   "metadata": {},
   "source": [
    "Identify classes with significant metabolites"
   ]
  },
  {
   "cell_type": "code",
   "execution_count": 24,
   "metadata": {},
   "outputs": [
    {
     "data": {
      "text/html": [
       "<ol class=list-inline>\n",
       "\t<li>''</li>\n",
       "\t<li>'Acyl carnitines'</li>\n",
       "\t<li>'Amino acids and derivatives'</li>\n",
       "\t<li>'Glycerophosphocholines'</li>\n",
       "\t<li>'Medium-chain fatty acids'</li>\n",
       "\t<li>'no matches'</li>\n",
       "\t<li>'Peptides'</li>\n",
       "\t<li>'Phthalic anhydrides'</li>\n",
       "\t<li>'Sugar acids and derivatives'</li>\n",
       "\t<li>'Triacylglycerols'</li>\n",
       "</ol>\n"
      ],
      "text/latex": [
       "\\begin{enumerate*}\n",
       "\\item ''\n",
       "\\item 'Acyl carnitines'\n",
       "\\item 'Amino acids and derivatives'\n",
       "\\item 'Glycerophosphocholines'\n",
       "\\item 'Medium-chain fatty acids'\n",
       "\\item 'no matches'\n",
       "\\item 'Peptides'\n",
       "\\item 'Phthalic anhydrides'\n",
       "\\item 'Sugar acids and derivatives'\n",
       "\\item 'Triacylglycerols'\n",
       "\\end{enumerate*}\n"
      ],
      "text/markdown": [
       "1. ''\n",
       "2. 'Acyl carnitines'\n",
       "3. 'Amino acids and derivatives'\n",
       "4. 'Glycerophosphocholines'\n",
       "5. 'Medium-chain fatty acids'\n",
       "6. 'no matches'\n",
       "7. 'Peptides'\n",
       "8. 'Phthalic anhydrides'\n",
       "9. 'Sugar acids and derivatives'\n",
       "10. 'Triacylglycerols'\n",
       "\n",
       "\n"
      ],
      "text/plain": [
       " [1] \"\"                            \"Acyl carnitines\"            \n",
       " [3] \"Amino acids and derivatives\" \"Glycerophosphocholines\"     \n",
       " [5] \"Medium-chain fatty acids\"    \"no matches\"                 \n",
       " [7] \"Peptides\"                    \"Phthalic anhydrides\"        \n",
       " [9] \"Sugar acids and derivatives\" \"Triacylglycerols\"           "
      ]
     },
     "metadata": {},
     "output_type": "display_data"
    }
   ],
   "source": [
    "levels(output_sig$metabolite_class)"
   ]
  },
  {
   "cell_type": "code",
   "execution_count": 25,
   "metadata": {},
   "outputs": [],
   "source": [
    "# Plot overlayed temporal trends for all significant metabolites within each class\n",
    "for (i in 1:length(levels(factor(output_sig$metabolite_class)))){\n",
    "selected_class <- levels(factor(output_sig$metabolite_class))[i] #Define class\n",
    "\n",
    "# Extract temporal medians for selected class\n",
    "timecoursedata_class <- storage_data[,names(storage_data) %in% subset(output_sig,metabolite_class==paste(selected_class))$metabolite_ID]\n",
    "Y1 <- as.data.frame(timecoursedata_class[1,]) # Identify measured metabolite levels after 1 year of storage\n",
    "corrected <- sapply(1:ncol(timecoursedata_class),function(n){timecoursedata_class[,n]-Y1[,n]}) # Make year 1 baseline\n",
    "\n",
    "plot_temporal_class <- melt(corrected) %>% # Convert to melted structure\n",
    "    add_column(storage=rep(1:10,nrow(melt(corrected))*0.1),.before=1) #Add data for storage time\n",
    "   \n",
    "# Make one plot for each class\n",
    "assign(paste(\"plot\",i,sep=\"_\"), ggplot(plot_temporal_class,aes(x=storage,y=value,color=as.factor(L1)))+\n",
    "  geom_line()+\n",
    "  theme_classic()+\n",
    "  geom_point()+\n",
    "  theme(legend.title = element_blank())+\n",
    "  geom_hline(aes(yintercept=0))+\n",
    "  scale_color_manual(values=get_palette(palette = \"jama\",17))+ # choose palette with 17 layers to cover all metabolites\n",
    "  scale_x_continuous(breaks=seq(1,10,1))+\n",
    "  xlab(\"storage time (years)\")+\n",
    "  ylab(\"\")+\n",
    "  ggtitle(paste(selected_class))+\n",
    "  theme(legend.text=element_text(size=14))\n",
    ")\n",
    "}    "
   ]
  },
  {
   "cell_type": "markdown",
   "metadata": {},
   "source": [
    "# Calculate number of metabolites assigned to a class"
   ]
  },
  {
   "cell_type": "code",
   "execution_count": 27,
   "metadata": {},
   "outputs": [
    {
     "data": {
      "text/html": [
       "46"
      ],
      "text/latex": [
       "46"
      ],
      "text/markdown": [
       "46"
      ],
      "text/plain": [
       "[1] 46"
      ]
     },
     "metadata": {},
     "output_type": "display_data"
    },
    {
     "data": {
      "text/html": [
       "0.302631578947368"
      ],
      "text/latex": [
       "0.302631578947368"
      ],
      "text/markdown": [
       "0.302631578947368"
      ],
      "text/plain": [
       "[1] 0.3026316"
      ]
     },
     "metadata": {},
     "output_type": "display_data"
    },
    {
     "data": {
      "text/html": [
       "24"
      ],
      "text/latex": [
       "24"
      ],
      "text/markdown": [
       "24"
      ],
      "text/plain": [
       "[1] 24"
      ]
     },
     "metadata": {},
     "output_type": "display_data"
    }
   ],
   "source": [
    "#number of annotated metabolites\n",
    "sum(output_sig$metabolite_class!=\"no matches\")\n",
    "#proportion of annotated metabolites\n",
    "sum(output_sig$metabolite_class!=\"no matches\")/nrow(output_sig)\n",
    "#Number of annotated compounds\n",
    "sum(output_sig$Identified==1)"
   ]
  },
  {
   "cell_type": "markdown",
   "metadata": {},
   "source": [
    "# Prepare plots for manuscript"
   ]
  },
  {
   "cell_type": "code",
   "execution_count": 28,
   "metadata": {},
   "outputs": [
    {
     "name": "stderr",
     "output_type": "stream",
     "text": [
      "`geom_smooth()` using formula 'y ~ x'\n",
      "`geom_smooth()` using formula 'y ~ x'\n",
      "Warning message in grid.Call.graphics(C_polygon, x$x, x$y, index):\n",
      "\"semi-transparency is not supported on this device: reported only once per page\""
     ]
    },
    {
     "data": {
      "image/png": "[encoded data removed]",
      "text/plain": [
       "plot without title"
      ]
     },
     "metadata": {},
     "output_type": "display_data"
    }
   ],
   "source": [
    "#Export Figure S1\n",
    "ggsave(\"G:/Projects/DBS_stability/output/Figure_S1.pdf\",pca_plots,width = 16,height = 9)\n",
    "\n",
    "# Create and export Figure 1\n",
    "plot_lm <- plot_grid(plot_grid(volcano_beta,timecourse_plot,nrow=2,labels=c(\"A\",\"B\"),rel_heights = c(3,1)),\n",
    "                     plot_grid(piechar_class,plotMethionine+xlab(\"\"),plotGlutathione,\n",
    "                                            nrow=3,rel_heights = c(2,1,1),labels=c(\"C\",\"D\",\"\")),\n",
    "                     ncol=2,labels=c(\"A\",\"\"))\n",
    "plot_lm\n",
    "ggsave(\"G:/Projects/DBS_stability/output/Figure_1.pdf\",plot_lm, height = 9, width = 16)\n",
    "ggsave(\"G:/Projects/DBS_stability/output/Figure_1.emf\",plot_lm, height = 9, width = 16)\n",
    "\n",
    "# Create and export Figure 2\n",
    "ggsave(\"G:/Projects/DBS_stability/output/Figure_2.pdf\",plot_grid(plot_1,plot_2,plot_3,plot_6,ncol=2,nrow=2),\n",
    "       width = 16,height = 9)\n",
    "ggsave(\"G:/Projects/DBS_stability/output/Figure_2.pdf\",plot_grid(plot_1,plot_2,plot_3,plot_6,ncol=2,nrow=2),\n",
    "       width = 16,height = 9)"
   ]
  },
  {
   "cell_type": "code",
   "execution_count": 29,
   "metadata": {},
   "outputs": [
    {
     "data": {
      "text/plain": [
       "R version 3.6.1 (2019-07-05)\n",
       "Platform: x86_64-w64-mingw32/x64 (64-bit)\n",
       "Running under: Windows 10 x64 (build 19042)\n",
       "\n",
       "Matrix products: default\n",
       "\n",
       "locale:\n",
       "[1] LC_COLLATE=English_United States.1252 \n",
       "[2] LC_CTYPE=English_United States.1252   \n",
       "[3] LC_MONETARY=English_United States.1252\n",
       "[4] LC_NUMERIC=C                          \n",
       "[5] LC_TIME=English_United States.1252    \n",
       "\n",
       "attached base packages:\n",
       "[1] stats     graphics  grDevices utils     datasets  methods   base     \n",
       "\n",
       "other attached packages:\n",
       " [1] ggpubr_0.2.5       magrittr_1.5       matrixStats_0.58.0 ggrepel_0.9.1     \n",
       " [5] cowplot_1.1.1      ggsci_2.9          openxlsx_4.2.3     forcats_0.4.0     \n",
       " [9] stringr_1.4.0      dplyr_0.8.0.1      purrr_0.3.2        readr_1.3.1       \n",
       "[13] tidyr_0.8.3        tibble_2.1.1       ggplot2_3.3.5      tidyverse_1.2.1   \n",
       "[17] data.table_1.12.2 \n",
       "\n",
       "loaded via a namespace (and not attached):\n",
       " [1] httr_1.4.2         splines_3.6.1      jsonlite_1.6       ellipse_0.4.2     \n",
       " [5] modelr_0.1.4       assertthat_0.2.1   cellranger_1.1.0   pillar_1.7.0      \n",
       " [9] backports_1.1.4    lattice_0.20-38    glue_1.3.1         uuid_0.1-2        \n",
       "[13] digest_0.6.18      RColorBrewer_1.1-2 ggsignif_0.6.1     rvest_0.3.3       \n",
       "[17] colorspace_1.4-1   htmltools_0.3.6    Matrix_1.2-17      plyr_1.8.4        \n",
       "[21] pkgconfig_2.0.2    mixOmics_6.10.9    broom_0.5.2        haven_2.1.0       \n",
       "[25] corpcor_1.6.10     scales_1.0.0       RSpectra_0.16-0    mgcv_1.8-28       \n",
       "[29] generics_0.0.2     ellipsis_0.3.2     withr_2.4.3        repr_0.19.2       \n",
       "[33] cli_2.5.0          crayon_1.3.4       readxl_1.3.1       evaluate_0.13     \n",
       "[37] ps_1.6.0           fansi_0.4.0        nlme_3.1-139       MASS_7.3-51.3     \n",
       "[41] xml2_1.2.0         tools_3.6.1        hms_0.4.2          lifecycle_1.0.1   \n",
       "[45] munsell_0.5.0      zip_2.1.1          compiler_3.6.1     rlang_0.4.11      \n",
       "[49] grid_3.6.1         pbdZMQ_0.3-3       IRkernel_0.8.15    rstudioapi_0.13   \n",
       "[53] igraph_1.2.6       labeling_0.3       base64enc_0.1-3    gtable_0.3.0      \n",
       "[57] rARPACK_0.11-0     reshape2_1.4.3     R6_2.4.0           gridExtra_2.3     \n",
       "[61] lubridate_1.7.4    utf8_1.1.4         stringi_1.4.3      parallel_3.6.1    \n",
       "[65] IRdisplay_0.7.0    Rcpp_1.0.1         vctrs_0.3.8        tidyselect_0.2.5  "
      ]
     },
     "metadata": {},
     "output_type": "display_data"
    }
   ],
   "source": [
    "sessionInfo()"
   ]
  }
 ],
 "metadata": {
  "kernelspec": {
   "display_name": "R",
   "language": "R",
   "name": "ir"
  },
  "language_info": {
   "codemirror_mode": "r",
   "file_extension": ".r",
   "mimetype": "text/x-r-source",
   "name": "R",
   "pygments_lexer": "r",
   "version": "4.1.1"
  }
 },
 "nbformat": 4,
 "nbformat_minor": 5
}
