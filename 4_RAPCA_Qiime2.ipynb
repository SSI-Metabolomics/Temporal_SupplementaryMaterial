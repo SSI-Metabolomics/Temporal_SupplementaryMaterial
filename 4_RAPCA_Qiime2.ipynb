{
 "cells": [
  {
   "cell_type": "markdown",
   "metadata": {},
   "source": [
    "# Extract RPCA imputed feature table"
   ]
  },
  {
   "cell_type": "markdown",
   "metadata": {},
   "source": [
    "Here we impute missing values using the OptSpace matrix completion algorithm implemented in the robust Aitchison open-source software DEICODE ([Martino et al., 2019](https://pubmed.ncbi.nlm.nih.gov/30801021/)) within Qiime2 ([Bolyen et al., 2019](https://www.nature.com/articles/s41587-019-0209-9)). This notebook is run in combination with 4_RAPCA_Qiime2.ipynb. This notebook is run from within a Qiime2 conda environment."
   ]
  },
  {
   "cell_type": "code",
   "execution_count": 1,
   "metadata": {},
   "outputs": [],
   "source": [
    "import qiime2 as q2\n",
    "import os\n",
    "path = '/Users/madeleineernst/anaconda3/envs/qiime2-2019.7/bin/' # define path to qiime2 conda environment\n",
    "os.environ['PATH'] += ':'+path"
   ]
  },
  {
   "cell_type": "code",
   "execution_count": 2,
   "metadata": {},
   "outputs": [],
   "source": [
    "! biom convert \\\n",
    "    -i output/FeatureTable_SamplesOnly_Qiime.tsv \\\n",
    "    -o output/FeatureTable_SamplesOnly_Qiime.biom \\\n",
    "    --table-type=\"OTU table\" --to-hdf5"
   ]
  },
  {
   "cell_type": "code",
   "execution_count": 3,
   "metadata": {},
   "outputs": [
    {
     "name": "stdout",
     "output_type": "stream",
     "text": [
      "\u001b[32mImported output/FeatureTable_SamplesOnly_Qiime.biom as BIOMV210DirFmt to output/FeatureTable_SamplesOnly_Qiime.qza\u001b[0m\r\n"
     ]
    }
   ],
   "source": [
    "! qiime tools import --type 'FeatureTable[Frequency]' \\\n",
    "    --input-path output/FeatureTable_SamplesOnly_Qiime.biom \\\n",
    "    --output-path output/FeatureTable_SamplesOnly_Qiime.qza"
   ]
  },
  {
   "cell_type": "code",
   "execution_count": 5,
   "metadata": {},
   "outputs": [
    {
     "name": "stdout",
     "output_type": "stream",
     "text": [
      "\u001b[32mImported output/RAPCA_ImputedData_Rank100_NA_5_distance.txt as DistanceMatrixDirectoryFormat to output/RAPCA_ImputedData_Rank100_NA_5_distance.qza\u001b[0m\r\n"
     ]
    }
   ],
   "source": [
    "!qiime tools import \\\n",
    "    --input-path output/RAPCA_ImputedData_Rank100_NA_5_distance.txt \\\n",
    "    --output-path output/RAPCA_ImputedData_Rank100_NA_5_distance.qza \\\n",
    "    --type DistanceMatrix"
   ]
  },
  {
   "cell_type": "code",
   "execution_count": 6,
   "metadata": {},
   "outputs": [
    {
     "name": "stdout",
     "output_type": "stream",
     "text": [
      "\u001b[32mSaved PCoAResults to: output/RAPCA_ImputedData_Rank100_NA_5_PCoA.qza\u001b[0m\r\n"
     ]
    }
   ],
   "source": [
    "! qiime diversity pcoa \\\n",
    "    --i-distance-matrix output/RAPCA_ImputedData_Rank100_NA_5_distance.qza \\\n",
    "    --o-pcoa output/RAPCA_ImputedData_Rank100_NA_5_PCoA.qza"
   ]
  },
  {
   "cell_type": "code",
   "execution_count": 7,
   "metadata": {},
   "outputs": [
    {
     "name": "stdout",
     "output_type": "stream",
     "text": [
      "\u001b[32mSaved Visualization to: output/RAPCA_ImputedData_Rank100_NA_5_PCoA.qzv\u001b[0m\r\n"
     ]
    }
   ],
   "source": [
    "! qiime emperor plot \\\n",
    "    --i-pcoa output/RAPCA_ImputedData_Rank100_NA_5_PCoA.qza \\\n",
    "    --m-metadata-file output/MetaData_timsTOF_Qiime.tsv \\\n",
    "    --o-visualization output/RAPCA_ImputedData_Rank100_NA_5_PCoA.qzv "
   ]
  },
  {
   "cell_type": "code",
   "execution_count": 8,
   "metadata": {},
   "outputs": [
    {
     "data": {
      "text/html": [
       "<div><img onload=\"(function(div, url){\n",
       "if (typeof require !== 'undefined') {\n",
       "    var baseURL = require.toUrl('').split('/').slice(0, -2).join('/');\n",
       "} else {\n",
       "    var baseURL = JSON.parse(\n",
       "        document.getElementById('jupyter-config-data').innerHTML\n",
       "    ).baseUrl.slice(0, -1);\n",
       "}\n",
       "url = baseURL + url;\n",
       "fetch(url).then(function(res) {\n",
       "    if (res.status === 404) {\n",
       "        div.innerHTML = 'Install QIIME 2 Jupyter extension with:<br />' +\n",
       "                        '<code>jupyter serverextension enable --py qiime2' +\n",
       "                        ' --sys-prefix</code><br />then restart your server.' +\n",
       "                        '<br /><br />(Interactive output not available on ' +\n",
       "                        'static notebook viewer services like nbviewer.)';\n",
       "    } else if (res.status === 409) {\n",
       "        div.innerHTML = 'Visualization no longer in scope. Re-run this cell' +\n",
       "                        ' to see the visualization.';\n",
       "    } else if (res.ok) {\n",
       "        url = res.url;\n",
       "        div.innerHTML = '<iframe src=\\'' + url + '\\' style=\\'' +\n",
       "                        'width: 100%; height: 700px; border: 0;\\'>' +\n",
       "                        '</iframe><hr />Open in a: <a href=\\'' + url + '\\'' +\n",
       "                        ' target=\\'_blank\\'>new window</a>'\n",
       "    } else {\n",
       "        div.innerHTML = 'Something has gone wrong. Check notebook server for' +\n",
       "                        ' errors.';\n",
       "    }\n",
       "});\n",
       "})(this.parentElement, '/qiime2/redirect?location=/var/folders/k7/zs6jm5h95875g74l66xfxq6m0000gn/T/qiime2-archive-uatf6fez')\" src=\"data:image/gif;base64,R0lGODlhAQABAIAAAP///wAAACH5BAEAAAAALAAAAAABAAEAAAICRAEAOw==\" /></div>"
      ],
      "text/plain": [
       "<visualization: Visualization uuid: 5656b5e9-3921-4be8-9766-8d2ffaadd568>"
      ]
     },
     "execution_count": 8,
     "metadata": {},
     "output_type": "execute_result"
    }
   ],
   "source": [
    "q2.Visualization.load('output/RAPCA_ImputedData_Rank100_NA_5_PCoA.qzv')"
   ]
  },
  {
   "cell_type": "code",
   "execution_count": 9,
   "metadata": {},
   "outputs": [
    {
     "name": "stdout",
     "output_type": "stream",
     "text": [
      "\u001b[32mImported output/RAPCA_ImputedData_Rank10_NA_5_distance.txt as DistanceMatrixDirectoryFormat to output/RAPCA_ImputedData_Rank10_NA_5_distance.qza\u001b[0m\r\n"
     ]
    }
   ],
   "source": [
    "!qiime tools import \\\n",
    "    --input-path output/RAPCA_ImputedData_Rank10_NA_5_distance.txt \\\n",
    "    --output-path output/RAPCA_ImputedData_Rank10_NA_5_distance.qza \\\n",
    "    --type DistanceMatrix"
   ]
  },
  {
   "cell_type": "code",
   "execution_count": 10,
   "metadata": {},
   "outputs": [
    {
     "name": "stdout",
     "output_type": "stream",
     "text": [
      "\u001b[32mSaved PCoAResults to: output/RAPCA_ImputedData_Rank10_NA_5_PCoA.qza\u001b[0m\r\n"
     ]
    }
   ],
   "source": [
    "! qiime diversity pcoa \\\n",
    "    --i-distance-matrix output/RAPCA_ImputedData_Rank10_NA_5_distance.qza \\\n",
    "    --o-pcoa output/RAPCA_ImputedData_Rank10_NA_5_PCoA.qza"
   ]
  },
  {
   "cell_type": "code",
   "execution_count": 11,
   "metadata": {},
   "outputs": [
    {
     "name": "stdout",
     "output_type": "stream",
     "text": [
      "\u001b[32mSaved Visualization to: output/RAPCA_ImputedData_Rank10_NA_5_PCoA.qzv\u001b[0m\r\n"
     ]
    }
   ],
   "source": [
    "! qiime emperor plot \\\n",
    "    --i-pcoa output/RAPCA_ImputedData_Rank10_NA_5_PCoA.qza \\\n",
    "    --m-metadata-file output/MetaData_timsTOF_Qiime.tsv \\\n",
    "    --o-visualization output/RAPCA_ImputedData_Rank10_NA_5_PCoA.qzv "
   ]
  },
  {
   "cell_type": "code",
   "execution_count": 12,
   "metadata": {},
   "outputs": [
    {
     "data": {
      "text/html": [
       "<div><img onload=\"(function(div, url){\n",
       "if (typeof require !== 'undefined') {\n",
       "    var baseURL = require.toUrl('').split('/').slice(0, -2).join('/');\n",
       "} else {\n",
       "    var baseURL = JSON.parse(\n",
       "        document.getElementById('jupyter-config-data').innerHTML\n",
       "    ).baseUrl.slice(0, -1);\n",
       "}\n",
       "url = baseURL + url;\n",
       "fetch(url).then(function(res) {\n",
       "    if (res.status === 404) {\n",
       "        div.innerHTML = 'Install QIIME 2 Jupyter extension with:<br />' +\n",
       "                        '<code>jupyter serverextension enable --py qiime2' +\n",
       "                        ' --sys-prefix</code><br />then restart your server.' +\n",
       "                        '<br /><br />(Interactive output not available on ' +\n",
       "                        'static notebook viewer services like nbviewer.)';\n",
       "    } else if (res.status === 409) {\n",
       "        div.innerHTML = 'Visualization no longer in scope. Re-run this cell' +\n",
       "                        ' to see the visualization.';\n",
       "    } else if (res.ok) {\n",
       "        url = res.url;\n",
       "        div.innerHTML = '<iframe src=\\'' + url + '\\' style=\\'' +\n",
       "                        'width: 100%; height: 700px; border: 0;\\'>' +\n",
       "                        '</iframe><hr />Open in a: <a href=\\'' + url + '\\'' +\n",
       "                        ' target=\\'_blank\\'>new window</a>'\n",
       "    } else {\n",
       "        div.innerHTML = 'Something has gone wrong. Check notebook server for' +\n",
       "                        ' errors.';\n",
       "    }\n",
       "});\n",
       "})(this.parentElement, '/qiime2/redirect?location=/var/folders/k7/zs6jm5h95875g74l66xfxq6m0000gn/T/qiime2-archive-gyaifn7g')\" src=\"data:image/gif;base64,R0lGODlhAQABAIAAAP///wAAACH5BAEAAAAALAAAAAABAAEAAAICRAEAOw==\" /></div>"
      ],
      "text/plain": [
       "<visualization: Visualization uuid: 06b73814-e4de-49b7-9748-abe766cdf846>"
      ]
     },
     "execution_count": 12,
     "metadata": {},
     "output_type": "execute_result"
    }
   ],
   "source": [
    "q2.Visualization.load('output/RAPCA_ImputedData_Rank10_NA_5_PCoA.qzv')"
   ]
  },
  {
   "cell_type": "code",
   "execution_count": null,
   "metadata": {},
   "outputs": [],
   "source": []
  }
 ],
 "metadata": {
  "kernelspec": {
   "display_name": "Python 3",
   "language": "python",
   "name": "python3"
  },
  "language_info": {
   "codemirror_mode": {
    "name": "ipython",
    "version": 3
   },
   "file_extension": ".py",
   "mimetype": "text/x-python",
   "name": "python",
   "nbconvert_exporter": "python",
   "pygments_lexer": "ipython3",
   "version": "3.6.7"
  }
 },
 "nbformat": 4,
 "nbformat_minor": 2
}
