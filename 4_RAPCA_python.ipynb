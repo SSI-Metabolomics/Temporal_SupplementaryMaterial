{
 "cells": [
  {
   "cell_type": "markdown",
   "metadata": {},
   "source": [
    "# Extract RPCA imputed feature table"
   ]
  },
  {
   "cell_type": "markdown",
   "metadata": {},
   "source": [
    "Here we impute missing values using the OptSpace matrix completion algorithm implemented in the robust Aitchison open-source software DEICODE ([Martino et al., 2019](https://pubmed.ncbi.nlm.nih.gov/30801021/)) within Qiime2 ([Bolyen et al., 2019](https://www.nature.com/articles/s41587-019-0209-9)). This notebook is run in combination with 4_RAPCA_Qiime2.ipynb."
   ]
  },
  {
   "cell_type": "markdown",
   "metadata": {},
   "source": [
    "#### Load feature tables and metadata and save in Qiime2 compatible format"
   ]
  },
  {
   "cell_type": "markdown",
   "metadata": {},
   "source": [
    "load libraries"
   ]
  },
  {
   "cell_type": "code",
   "execution_count": 1,
   "metadata": {},
   "outputs": [],
   "source": [
    "import pandas as pd\n",
    "import os"
   ]
  },
  {
   "cell_type": "markdown",
   "metadata": {},
   "source": [
    "load feature table"
   ]
  },
  {
   "cell_type": "code",
   "execution_count": 2,
   "metadata": {},
   "outputs": [],
   "source": [
    "bt = pd.read_csv('output/FeatureTable_SamplesOnly.txt', sep = '\\t')"
   ]
  },
  {
   "cell_type": "code",
   "execution_count": 3,
   "metadata": {},
   "outputs": [],
   "source": [
    "bt = bt.T"
   ]
  },
  {
   "cell_type": "code",
   "execution_count": 4,
   "metadata": {},
   "outputs": [],
   "source": [
    "bt.insert(0, '#OTU ID', bt.index) "
   ]
  },
  {
   "cell_type": "code",
   "execution_count": 5,
   "metadata": {},
   "outputs": [],
   "source": [
    "bt = bt.fillna(0)"
   ]
  },
  {
   "cell_type": "code",
   "execution_count": 6,
   "metadata": {},
   "outputs": [
    {
     "data": {
      "text/plain": [
       "(1285, 201)"
      ]
     },
     "execution_count": 6,
     "metadata": {},
     "output_type": "execute_result"
    }
   ],
   "source": [
    "bt.shape"
   ]
  },
  {
   "cell_type": "markdown",
   "metadata": {},
   "source": [
    "load metadata"
   ]
  },
  {
   "cell_type": "code",
   "execution_count": 7,
   "metadata": {},
   "outputs": [],
   "source": [
    "md = pd.read_csv('../../data/metadata/Metadata_timsTOF.txt', sep = '\\t')"
   ]
  },
  {
   "cell_type": "code",
   "execution_count": 8,
   "metadata": {},
   "outputs": [],
   "source": [
    "md = md.rename(columns={'filename': '#SampleID'})"
   ]
  },
  {
   "cell_type": "code",
   "execution_count": 9,
   "metadata": {},
   "outputs": [
    {
     "data": {
      "text/plain": [
       "{'#OTU ID'}"
      ]
     },
     "execution_count": 9,
     "metadata": {},
     "output_type": "execute_result"
    }
   ],
   "source": [
    "set(bt.columns) - set(md['#SampleID'])"
   ]
  },
  {
   "cell_type": "markdown",
   "metadata": {},
   "source": [
    "save feature table and metadata in Qiime2 format"
   ]
  },
  {
   "cell_type": "code",
   "execution_count": 10,
   "metadata": {},
   "outputs": [],
   "source": [
    "bt.to_csv(\"output/FeatureTable_SamplesOnly_Qiime.tsv\",sep='\\t',index=False)"
   ]
  },
  {
   "cell_type": "code",
   "execution_count": 11,
   "metadata": {},
   "outputs": [],
   "source": [
    "md.to_csv(\"output/MetaData_timsTOF_Qiime.tsv\",sep='\\t',index=False)"
   ]
  },
  {
   "cell_type": "markdown",
   "metadata": {},
   "source": [
    "create the .biom table within 4_RAPCA_Qiime2.ipynb"
   ]
  },
  {
   "cell_type": "markdown",
   "metadata": {},
   "source": [
    "#### Assess rank of data matrix"
   ]
  },
  {
   "cell_type": "code",
   "execution_count": 12,
   "metadata": {},
   "outputs": [],
   "source": [
    "## find rank of a matrix\n",
    "# A = mxn matrix\n",
    "# m > n\n",
    "# m: features\n",
    "# n: samples\n",
    "# rank(A) < n"
   ]
  },
  {
   "cell_type": "code",
   "execution_count": 13,
   "metadata": {},
   "outputs": [],
   "source": [
    "import numpy as np\n",
    "from numpy.linalg import matrix_rank\n",
    "from biom import load_table"
   ]
  },
  {
   "cell_type": "code",
   "execution_count": 14,
   "metadata": {},
   "outputs": [],
   "source": [
    "table = load_table('output/FeatureTable_SamplesOnly_Qiime.biom')"
   ]
  },
  {
   "cell_type": "code",
   "execution_count": 15,
   "metadata": {},
   "outputs": [],
   "source": [
    "table = table.to_dataframe().T\n",
    "mat = table.to_numpy()"
   ]
  },
  {
   "cell_type": "code",
   "execution_count": 16,
   "metadata": {},
   "outputs": [
    {
     "data": {
      "text/plain": [
       "(200, 1285)"
      ]
     },
     "execution_count": 16,
     "metadata": {},
     "output_type": "execute_result"
    }
   ],
   "source": [
    "mat.shape"
   ]
  },
  {
   "cell_type": "code",
   "execution_count": 17,
   "metadata": {},
   "outputs": [
    {
     "data": {
      "text/plain": [
       "200"
      ]
     },
     "execution_count": 17,
     "metadata": {},
     "output_type": "execute_result"
    }
   ],
   "source": [
    "matrix_rank(mat) # Full rank matrix"
   ]
  },
  {
   "cell_type": "markdown",
   "metadata": {},
   "source": [
    "# Create distance matrix object and export to .qza format for plotting in Qiime2"
   ]
  },
  {
   "cell_type": "code",
   "execution_count": 18,
   "metadata": {},
   "outputs": [],
   "source": [
    "import sys\n",
    "sys.path.append('/Users/madeleineernst/Documents/TemporalStudy/sourcefunctions') "
   ]
  },
  {
   "cell_type": "code",
   "execution_count": 19,
   "metadata": {},
   "outputs": [],
   "source": [
    "import biom\n",
    "import deicode\n",
    "from deicode.rpca import auto_rpca, rpca\n",
    "from deicode._rpca_defaults import (DEFAULT_MSC, DEFAULT_MFC,\n",
    "                                    DEFAULT_ITERATIONS, DEFAULT_MFF) #DEFAULT_RANK\n",
    "from biom import load_table\n",
    "import skbio\n",
    "from typing import Union\n",
    "from scipy.linalg import svd\n",
    "import pandas as pd\n",
    "import numpy as np\n",
    "from deicode.matrix_completion import MatrixCompletion\n",
    "from deicode.preprocessing import rclr,closure\n",
    "from matplotlib import pyplot as plt\n",
    "#from assets.plotting_helper import biplot\n",
    "from assets import biplot\n",
    "from sklearn.preprocessing import scale\n",
    "%matplotlib inline"
   ]
  },
  {
   "cell_type": "code",
   "execution_count": 20,
   "metadata": {},
   "outputs": [],
   "source": [
    "def batch_norm(robust_clr_unimputed, table, md, batch_col = 'plate'):\n",
    "    \n",
    "    #robust_clr_unimputed = pd.DataFrame(robust_clr_unimputed, index=table.to_dataframe().T.index, columns=table.to_dataframe().T.columns)\n",
    "    \n",
    "    robust_clr_unimputed = pd.DataFrame(robust_clr_unimputed, index=table.index, columns=table.columns)\n",
    "    \n",
    "    #table = table.to_dataframe().T\n",
    "    md = md.reindex(robust_clr_unimputed.index)\n",
    "    \n",
    "    if (md.index.equals(robust_clr_unimputed.index) == False):\n",
    "        raise ValueError('metadata index does not equal table index')\n",
    "    \n",
    "    #print(md.index.equals(table.index))\n",
    "    \n",
    "    robust_clr_unimputed[batch_col] = md[batch_col]\n",
    "    \n",
    "    # create dictionary with separate dataframes for each plate\n",
    "    dict_of_plates = dict(iter(robust_clr_unimputed.groupby(batch_col)))\n",
    "    # remove batch column to return feature table to original input table\n",
    "    robust_clr_unimputed = robust_clr_unimputed.drop([batch_col], axis=1)\n",
    "    # remove batch column for all per batch feature tables\n",
    "    dict_of_plates = dict((k, v.drop([batch_col], axis=1)) for k,v in dict_of_plates.items())\n",
    "    # apply scaling over all batch feature tables separately, scale(v, with_mean = True, with_std = True), corresponds to R's scale(v, center = T, scale = T)\n",
    "    dict_norm_plates = dict((k, scale(v, with_mean = True, with_std = True)) for k,v in dict_of_plates.items())\n",
    "    \n",
    "    # return numpy arrays to dataframes for merging\n",
    "    dict_norm_plates = dict((k, pd.DataFrame(v, index=dict_of_plates[k].index, columns=dict_of_plates[k].columns)) for k,v in dict_norm_plates.items())\n",
    "\n",
    "    # concatenate all normalized per batch feature tables to one dataframe\n",
    "    norm_df = pd.concat(dict_norm_plates.values())\n",
    "    \n",
    "    # reindex rows as in original feature table\n",
    "    norm_df = norm_df.reindex(robust_clr_unimputed.index)\n",
    "    # check if row and column indexes correspond to original input data\n",
    "    \n",
    "    if (norm_df.index.equals(robust_clr_unimputed.index) == False):\n",
    "        raise ValueError('rclr batch imputed table index does not correspond to original table index')\n",
    "    if (norm_df.columns.equals(robust_clr_unimputed.columns) == False):\n",
    "        raise ValueError('rclr batch imputed table columns do not correspond to original table columns')\n",
    "    \n",
    "    #print(rclr_df.index.equals(table.index))\n",
    "    #print(rclr_df.columns.equals(table.columns))\n",
    "    \n",
    "    # scale and center entire feature table again to account for different ranges in different batches\n",
    "    norm_df_sc = scale(norm_df, with_mean = True, with_std = True)\n",
    "    norm_df_sc = pd.DataFrame(norm_df_sc, index=norm_df.index, columns=norm_df.columns)\n",
    "    \n",
    "    # return rclr per batch normalized numpy array\n",
    "    #norm_batch_mat = np.atleast_2d(np.array(norm_df))\n",
    "    norm_batch_mat = np.atleast_2d(np.array(norm_df_sc))\n",
    "    return norm_batch_mat"
   ]
  },
  {
   "cell_type": "code",
   "execution_count": 21,
   "metadata": {},
   "outputs": [],
   "source": [
    "md = pd.read_csv('output/MetaData_timsTOF_Qiime.tsv',sep = '\\t', index_col = 0) "
   ]
  },
  {
   "cell_type": "code",
   "execution_count": 22,
   "metadata": {},
   "outputs": [],
   "source": [
    "table = load_table('output/FeatureTable_SamplesOnly_Qiime.biom')"
   ]
  },
  {
   "cell_type": "code",
   "execution_count": 23,
   "metadata": {},
   "outputs": [],
   "source": [
    "n_features, n_samples = table.shape"
   ]
  },
  {
   "cell_type": "code",
   "execution_count": 24,
   "metadata": {},
   "outputs": [],
   "source": [
    "min_feature_frequency = 5 # 5, 10, 20, 50"
   ]
  },
  {
   "cell_type": "code",
   "execution_count": 25,
   "metadata": {},
   "outputs": [
    {
     "data": {
      "text/plain": [
       "200"
      ]
     },
     "execution_count": 25,
     "metadata": {},
     "output_type": "execute_result"
    }
   ],
   "source": [
    "n_samples"
   ]
  },
  {
   "cell_type": "code",
   "execution_count": 26,
   "metadata": {},
   "outputs": [],
   "source": [
    "# filter features by N samples presence\n",
    "def frequency_filter(val, id_, md):\n",
    "    return (np.sum(val > 0) / n_samples) > (min_feature_frequency / 100)\n",
    "\n",
    "# filter and import table for each filter above\n",
    "table = table.filter(frequency_filter, axis='observation')"
   ]
  },
  {
   "cell_type": "code",
   "execution_count": 27,
   "metadata": {},
   "outputs": [
    {
     "data": {
      "text/plain": [
       "(731, 200)"
      ]
     },
     "execution_count": 27,
     "metadata": {},
     "output_type": "execute_result"
    }
   ],
   "source": [
    "table.shape"
   ]
  },
  {
   "cell_type": "code",
   "execution_count": 28,
   "metadata": {},
   "outputs": [],
   "source": [
    "def rpca_batch(table: biom.Table,\n",
    "         n_components: Union[int, str] = 10,\n",
    "         min_sample_count: int = DEFAULT_MSC,\n",
    "         min_feature_count: int = DEFAULT_MFC,\n",
    "         min_feature_frequency: float = DEFAULT_MFF,\n",
    "         max_iterations: int = DEFAULT_ITERATIONS,\n",
    "         batch_col: str = 'plate',\n",
    "         metadata: int = md) -> (\n",
    "        skbio.OrdinationResults,\n",
    "        skbio.DistanceMatrix):\n",
    "    \"\"\"Runs RPCA with an rclr preprocessing step.\n",
    "\n",
    "       This code will be run by both the standalone and QIIME 2 versions of\n",
    "       DEICODE.\n",
    "    \"\"\"\n",
    "    # get shape of table\n",
    "    n_features, n_samples = table.shape\n",
    "\n",
    "    # filter sample to min seq. depth\n",
    "    def sample_filter(val, id_, md):\n",
    "        return sum(val) > min_sample_count\n",
    "\n",
    "    # filter features to min total counts\n",
    "    def observation_filter(val, id_, md):\n",
    "        return sum(val) > min_feature_count\n",
    "\n",
    "    # filter features by N samples presence\n",
    "    def frequency_filter(val, id_, md):\n",
    "        return (np.sum(val > 0) / n_samples) > (min_feature_frequency / 100)\n",
    "\n",
    "    # filter and import table for each filter above\n",
    "    table = table.filter(observation_filter, axis='observation')\n",
    "    table = table.filter(frequency_filter, axis='observation')\n",
    "    table = table.filter(sample_filter, axis='sample')\n",
    "    table = table.to_dataframe().T\n",
    "    # check the table after filtering\n",
    "    if len(table.index) != len(set(table.index)):\n",
    "        raise ValueError('Data-table contains duplicate indices')\n",
    "    if len(table.columns) != len(set(table.columns)):\n",
    "        raise ValueError('Data-table contains duplicate columns')\n",
    "    # Robust-clt (rclr) preprocessing and OptSpace (RPCA)\n",
    "    #opt = MatrixCompletion(n_components=n_components,\n",
    "                           #max_iterations=max_iterations).fit(rclr_batch(table))\n",
    "    #opt = MatrixCompletion(n_components=n_components,\n",
    "                          #max_iterations=max_iterations).fit(rclr_batch(table, md, batch_col = batch_col))\n",
    "    opt = MatrixCompletion(n_components=10,\n",
    "                          max_iterations=max_iterations).fit(batch_norm(rclr(table), table, md, batch_col = batch_col)) \n",
    "    # get new n-comp when applicable\n",
    "    n_components = opt.s.shape[0]\n",
    "    # get PC column labels for the skbio OrdinationResults\n",
    "    rename_cols = ['PC' + str(i + 1) for i in range(n_components)]\n",
    "    # get completed matrix for centering\n",
    "    X = opt.sample_weights @ opt.s @ opt.feature_weights.T\n",
    "    # center again around zero after completion\n",
    "    X = X - X.mean(axis=0)\n",
    "    X = X - X.mean(axis=1).reshape(-1, 1)\n",
    "    # re-factor the data\n",
    "    u, s, v = svd(X)\n",
    "    # only take n-components\n",
    "    u = u[:, :n_components]\n",
    "    v = v.T[:, :n_components]\n",
    "    # calc. the new variance using projection\n",
    "    p = s**2 / np.sum(s**2)\n",
    "    p = p[:n_components]\n",
    "    s = s[:n_components]\n",
    "    # save the loadings\n",
    "    feature_loading = pd.DataFrame(v, index=table.columns,\n",
    "                                   columns=rename_cols)\n",
    "    sample_loading = pd.DataFrame(u, index=table.index,\n",
    "                                  columns=rename_cols)\n",
    "    # % var explained\n",
    "    proportion_explained = pd.Series(p, index=rename_cols)\n",
    "    # get eigenvalues\n",
    "    eigvals = pd.Series(s, index=rename_cols)\n",
    "\n",
    "    # if the n_components is two add PC3 of zeros\n",
    "    # this is referenced as in issue in\n",
    "    # <https://github.com/biocore/emperor/commit\n",
    "    # /a93f029548c421cb0ba365b4294f7a5a6b0209ce>\n",
    "    # discussed in DEICODE -- PR#29\n",
    "    if n_components == 2:\n",
    "        feature_loading['PC3'] = [0] * len(feature_loading.index)\n",
    "        sample_loading['PC3'] = [0] * len(sample_loading.index)\n",
    "        eigvals.loc['PC3'] = 0\n",
    "        proportion_explained.loc['PC3'] = 0\n",
    "\n",
    "    # save ordination results\n",
    "    short_method_name = 'rpca_biplot'\n",
    "    long_method_name = '(Robust Aitchison) RPCA Biplot'\n",
    "    ord_res = skbio.OrdinationResults(\n",
    "        short_method_name,\n",
    "        long_method_name,\n",
    "        eigvals.copy(),\n",
    "        samples=sample_loading.copy(),\n",
    "        features=feature_loading.copy(),\n",
    "        proportion_explained=proportion_explained.copy())\n",
    "    # save distance matrix\n",
    "    dist_res = skbio.stats.distance.DistanceMatrix(\n",
    "        opt.distance, ids=sample_loading.index)\n",
    "    \n",
    "    # reconstruct imputed data\n",
    "    robust_clr_imputed = opt.sample_weights @ opt.s @ opt.feature_weights.T\n",
    "    \n",
    "    return ord_res, dist_res, robust_clr_imputed"
   ]
  },
  {
   "cell_type": "code",
   "execution_count": 29,
   "metadata": {},
   "outputs": [],
   "source": [
    "def auto_rpca_batch(table: biom.Table,\n",
    "              n_components: Union[int, str] = 10,\n",
    "              min_sample_count: int = DEFAULT_MSC,\n",
    "              min_feature_count: int = DEFAULT_MFC,\n",
    "              min_feature_frequency: float = DEFAULT_MFF,\n",
    "              max_iterations: int = DEFAULT_ITERATIONS,\n",
    "              batch_col: str = 'Plate',\n",
    "              metadata: int = md) -> (\n",
    "        skbio.OrdinationResults,\n",
    "        skbio.DistanceMatrix):\n",
    "    \"\"\"Runs RPCA but with auto estimation of the\n",
    "       rank peramater.\n",
    "    \"\"\"\n",
    "    #md = metadata.to_dataframe()\n",
    "    ord_res, dist_res, robust_clr_imputed = rpca_batch(table,\n",
    "                             n_components='auto',\n",
    "                             min_sample_count=min_sample_count,\n",
    "                             min_feature_count=min_feature_count,\n",
    "                             min_feature_frequency=min_feature_frequency,\n",
    "                             max_iterations=max_iterations,\n",
    "                             metadata = md,\n",
    "                             batch_col = batch_col)\n",
    "    return ord_res, dist_res, robust_clr_imputed"
   ]
  },
  {
   "cell_type": "code",
   "execution_count": 30,
   "metadata": {},
   "outputs": [
    {
     "name": "stderr",
     "output_type": "stream",
     "text": [
      "/Users/madeleineernst/anaconda3/lib/python3.7/site-packages/sklearn/preprocessing/data.py:157: RuntimeWarning: Mean of empty slice\n",
      "  mean_ = np.nanmean(X, axis)\n",
      "/Users/madeleineernst/anaconda3/lib/python3.7/site-packages/numpy/lib/nanfunctions.py:1628: RuntimeWarning: Degrees of freedom <= 0 for slice.\n",
      "  keepdims=keepdims)\n",
      "/Users/madeleineernst/anaconda3/lib/python3.7/site-packages/sklearn/preprocessing/data.py:165: RuntimeWarning: Mean of empty slice\n",
      "  mean_1 = np.nanmean(Xr, axis=0)\n",
      "/Users/madeleineernst/anaconda3/lib/python3.7/site-packages/sklearn/preprocessing/data.py:172: UserWarning: Numerical issues were encountered when centering the data and might not be solved. Dataset may contain too large values. You may need to prescale your features.\n",
      "  warnings.warn(\"Numerical issues were encountered \"\n",
      "/Users/madeleineernst/anaconda3/lib/python3.7/site-packages/sklearn/preprocessing/data.py:182: RuntimeWarning: Mean of empty slice\n",
      "  mean_2 = np.nanmean(Xr, axis=0)\n",
      "/Users/madeleineernst/anaconda3/lib/python3.7/site-packages/sklearn/preprocessing/data.py:189: UserWarning: Numerical issues were encountered when scaling the data and might not be solved. The standard deviation of the data is probably very close to 0. \n",
      "  warnings.warn(\"Numerical issues were encountered \"\n",
      "/Users/madeleineernst/anaconda3/lib/python3.7/site-packages/sklearn/preprocessing/data.py:157: RuntimeWarning: Mean of empty slice\n",
      "  mean_ = np.nanmean(X, axis)\n",
      "/Users/madeleineernst/anaconda3/lib/python3.7/site-packages/numpy/lib/nanfunctions.py:1628: RuntimeWarning: Degrees of freedom <= 0 for slice.\n",
      "  keepdims=keepdims)\n",
      "/Users/madeleineernst/anaconda3/lib/python3.7/site-packages/sklearn/preprocessing/data.py:165: RuntimeWarning: Mean of empty slice\n",
      "  mean_1 = np.nanmean(Xr, axis=0)\n",
      "/Users/madeleineernst/anaconda3/lib/python3.7/site-packages/sklearn/preprocessing/data.py:172: UserWarning: Numerical issues were encountered when centering the data and might not be solved. Dataset may contain too large values. You may need to prescale your features.\n",
      "  warnings.warn(\"Numerical issues were encountered \"\n",
      "/Users/madeleineernst/anaconda3/lib/python3.7/site-packages/sklearn/preprocessing/data.py:182: RuntimeWarning: Mean of empty slice\n",
      "  mean_2 = np.nanmean(Xr, axis=0)\n",
      "/Users/madeleineernst/anaconda3/lib/python3.7/site-packages/sklearn/preprocessing/data.py:189: UserWarning: Numerical issues were encountered when scaling the data and might not be solved. The standard deviation of the data is probably very close to 0. \n",
      "  warnings.warn(\"Numerical issues were encountered \"\n",
      "/Users/madeleineernst/anaconda3/lib/python3.7/site-packages/sklearn/preprocessing/data.py:157: RuntimeWarning: Mean of empty slice\n",
      "  mean_ = np.nanmean(X, axis)\n",
      "/Users/madeleineernst/anaconda3/lib/python3.7/site-packages/numpy/lib/nanfunctions.py:1628: RuntimeWarning: Degrees of freedom <= 0 for slice.\n",
      "  keepdims=keepdims)\n",
      "/Users/madeleineernst/anaconda3/lib/python3.7/site-packages/sklearn/preprocessing/data.py:165: RuntimeWarning: Mean of empty slice\n",
      "  mean_1 = np.nanmean(Xr, axis=0)\n",
      "/Users/madeleineernst/anaconda3/lib/python3.7/site-packages/sklearn/preprocessing/data.py:172: UserWarning: Numerical issues were encountered when centering the data and might not be solved. Dataset may contain too large values. You may need to prescale your features.\n",
      "  warnings.warn(\"Numerical issues were encountered \"\n",
      "/Users/madeleineernst/anaconda3/lib/python3.7/site-packages/sklearn/preprocessing/data.py:182: RuntimeWarning: Mean of empty slice\n",
      "  mean_2 = np.nanmean(Xr, axis=0)\n",
      "/Users/madeleineernst/anaconda3/lib/python3.7/site-packages/sklearn/preprocessing/data.py:189: UserWarning: Numerical issues were encountered when scaling the data and might not be solved. The standard deviation of the data is probably very close to 0. \n",
      "  warnings.warn(\"Numerical issues were encountered \"\n"
     ]
    }
   ],
   "source": [
    "# perform RPCA with auto. rank estimation\n",
    "ordination, distance, robust_clr_imputed = auto_rpca_batch(table, n_components = 100, metadata = md, batch_col = 'plate')"
   ]
  },
  {
   "cell_type": "code",
   "execution_count": 31,
   "metadata": {},
   "outputs": [
    {
     "name": "stderr",
     "output_type": "stream",
     "text": [
      "/Users/madeleineernst/anaconda3/lib/python3.7/site-packages/sklearn/preprocessing/data.py:157: RuntimeWarning: Mean of empty slice\n",
      "  mean_ = np.nanmean(X, axis)\n",
      "/Users/madeleineernst/anaconda3/lib/python3.7/site-packages/numpy/lib/nanfunctions.py:1628: RuntimeWarning: Degrees of freedom <= 0 for slice.\n",
      "  keepdims=keepdims)\n",
      "/Users/madeleineernst/anaconda3/lib/python3.7/site-packages/sklearn/preprocessing/data.py:165: RuntimeWarning: Mean of empty slice\n",
      "  mean_1 = np.nanmean(Xr, axis=0)\n",
      "/Users/madeleineernst/anaconda3/lib/python3.7/site-packages/sklearn/preprocessing/data.py:172: UserWarning: Numerical issues were encountered when centering the data and might not be solved. Dataset may contain too large values. You may need to prescale your features.\n",
      "  warnings.warn(\"Numerical issues were encountered \"\n",
      "/Users/madeleineernst/anaconda3/lib/python3.7/site-packages/sklearn/preprocessing/data.py:182: RuntimeWarning: Mean of empty slice\n",
      "  mean_2 = np.nanmean(Xr, axis=0)\n",
      "/Users/madeleineernst/anaconda3/lib/python3.7/site-packages/sklearn/preprocessing/data.py:189: UserWarning: Numerical issues were encountered when scaling the data and might not be solved. The standard deviation of the data is probably very close to 0. \n",
      "  warnings.warn(\"Numerical issues were encountered \"\n",
      "/Users/madeleineernst/anaconda3/lib/python3.7/site-packages/sklearn/preprocessing/data.py:157: RuntimeWarning: Mean of empty slice\n",
      "  mean_ = np.nanmean(X, axis)\n",
      "/Users/madeleineernst/anaconda3/lib/python3.7/site-packages/numpy/lib/nanfunctions.py:1628: RuntimeWarning: Degrees of freedom <= 0 for slice.\n",
      "  keepdims=keepdims)\n",
      "/Users/madeleineernst/anaconda3/lib/python3.7/site-packages/sklearn/preprocessing/data.py:165: RuntimeWarning: Mean of empty slice\n",
      "  mean_1 = np.nanmean(Xr, axis=0)\n",
      "/Users/madeleineernst/anaconda3/lib/python3.7/site-packages/sklearn/preprocessing/data.py:172: UserWarning: Numerical issues were encountered when centering the data and might not be solved. Dataset may contain too large values. You may need to prescale your features.\n",
      "  warnings.warn(\"Numerical issues were encountered \"\n",
      "/Users/madeleineernst/anaconda3/lib/python3.7/site-packages/sklearn/preprocessing/data.py:182: RuntimeWarning: Mean of empty slice\n",
      "  mean_2 = np.nanmean(Xr, axis=0)\n",
      "/Users/madeleineernst/anaconda3/lib/python3.7/site-packages/sklearn/preprocessing/data.py:189: UserWarning: Numerical issues were encountered when scaling the data and might not be solved. The standard deviation of the data is probably very close to 0. \n",
      "  warnings.warn(\"Numerical issues were encountered \"\n",
      "/Users/madeleineernst/anaconda3/lib/python3.7/site-packages/sklearn/preprocessing/data.py:157: RuntimeWarning: Mean of empty slice\n",
      "  mean_ = np.nanmean(X, axis)\n",
      "/Users/madeleineernst/anaconda3/lib/python3.7/site-packages/numpy/lib/nanfunctions.py:1628: RuntimeWarning: Degrees of freedom <= 0 for slice.\n",
      "  keepdims=keepdims)\n",
      "/Users/madeleineernst/anaconda3/lib/python3.7/site-packages/sklearn/preprocessing/data.py:165: RuntimeWarning: Mean of empty slice\n",
      "  mean_1 = np.nanmean(Xr, axis=0)\n",
      "/Users/madeleineernst/anaconda3/lib/python3.7/site-packages/sklearn/preprocessing/data.py:172: UserWarning: Numerical issues were encountered when centering the data and might not be solved. Dataset may contain too large values. You may need to prescale your features.\n",
      "  warnings.warn(\"Numerical issues were encountered \"\n",
      "/Users/madeleineernst/anaconda3/lib/python3.7/site-packages/sklearn/preprocessing/data.py:182: RuntimeWarning: Mean of empty slice\n",
      "  mean_2 = np.nanmean(Xr, axis=0)\n",
      "/Users/madeleineernst/anaconda3/lib/python3.7/site-packages/sklearn/preprocessing/data.py:189: UserWarning: Numerical issues were encountered when scaling the data and might not be solved. The standard deviation of the data is probably very close to 0. \n",
      "  warnings.warn(\"Numerical issues were encountered \"\n"
     ]
    }
   ],
   "source": [
    "#robust_clr_unimputed = rclr(table)\n",
    "robust_clr_unimputed = batch_norm(rclr(table.to_dataframe().T), table.to_dataframe().T, md, batch_col = 'plate')\n",
    "# do pre-processing step within RPCA\n",
    "table = table.to_dataframe().T"
   ]
  },
  {
   "cell_type": "markdown",
   "metadata": {},
   "source": [
    "Assess correlation between imputed and non-imputed feature tables ([C.Martino](https://github.com/biocore/DEICODE/pull/59#issuecomment-784701433))"
   ]
  },
  {
   "cell_type": "code",
   "execution_count": 32,
   "metadata": {},
   "outputs": [],
   "source": [
    "# use this to mask any \"imputed\" values\n",
    "zero_mask = (table == 0.0)"
   ]
  },
  {
   "cell_type": "code",
   "execution_count": 33,
   "metadata": {},
   "outputs": [],
   "source": [
    "# re-mask imputed values for comparison\n",
    "robust_clr_imputed_masked = robust_clr_imputed.copy()\n",
    "robust_clr_imputed_masked[zero_mask] = np.nan"
   ]
  },
  {
   "cell_type": "code",
   "execution_count": 34,
   "metadata": {},
   "outputs": [
    {
     "data": {
      "text/plain": [
       "(200, 731)"
      ]
     },
     "execution_count": 34,
     "metadata": {},
     "output_type": "execute_result"
    }
   ],
   "source": [
    "robust_clr_unimputed.shape"
   ]
  },
  {
   "cell_type": "code",
   "execution_count": 35,
   "metadata": {},
   "outputs": [],
   "source": [
    "# flatten and keep only observed\n",
    "x = robust_clr_unimputed.ravel()\n",
    "y = robust_clr_imputed_masked.ravel()\n",
    "x = x[np.isfinite(x)]\n",
    "y = y[np.isfinite(y)]"
   ]
  },
  {
   "cell_type": "code",
   "execution_count": 36,
   "metadata": {},
   "outputs": [
    {
     "name": "stdout",
     "output_type": "stream",
     "text": [
      "[[1.         0.72105497]\n",
      " [0.72105497 1.        ]]\n"
     ]
    }
   ],
   "source": [
    "# print the correlation between values\n",
    "print(np.corrcoef(x, y))"
   ]
  },
  {
   "cell_type": "code",
   "execution_count": 37,
   "metadata": {},
   "outputs": [
    {
     "data": {
      "text/plain": [
       "78235"
      ]
     },
     "execution_count": 37,
     "metadata": {},
     "output_type": "execute_result"
    }
   ],
   "source": [
    "len(x)"
   ]
  },
  {
   "cell_type": "code",
   "execution_count": 38,
   "metadata": {},
   "outputs": [
    {
     "data": {
      "image/png": "[encoded data removed]",
      "text/plain": [
       "<Figure size 432x288 with 1 Axes>"
      ]
     },
     "metadata": {
      "needs_background": "light"
     },
     "output_type": "display_data"
    }
   ],
   "source": [
    "# plot the observed values\n",
    "plt.scatter(x, y)\n",
    "plt.title('Observed values from imputed vs. non-imputed data')\n",
    "plt.xlabel('Observed Imputed')\n",
    "plt.ylabel('Observed Non-imputed')\n",
    "plt.plot(np.unique(x),\n",
    "         np.poly1d(np.polyfit(x, y, 1))(np.unique(x)),\n",
    "         color='red')\n",
    "plt.show()"
   ]
  },
  {
   "cell_type": "markdown",
   "metadata": {},
   "source": [
    "plot only one feature"
   ]
  },
  {
   "cell_type": "code",
   "execution_count": 39,
   "metadata": {},
   "outputs": [
    {
     "data": {
      "text/plain": [
       "(200, 731)"
      ]
     },
     "execution_count": 39,
     "metadata": {},
     "output_type": "execute_result"
    }
   ],
   "source": [
    "table.shape"
   ]
  },
  {
   "cell_type": "code",
   "execution_count": 40,
   "metadata": {},
   "outputs": [
    {
     "data": {
      "text/plain": [
       "(200, 731)"
      ]
     },
     "execution_count": 40,
     "metadata": {},
     "output_type": "execute_result"
    }
   ],
   "source": [
    "robust_clr_unimputed.shape"
   ]
  },
  {
   "cell_type": "code",
   "execution_count": 41,
   "metadata": {},
   "outputs": [],
   "source": [
    "robust_clr_unimputed_pd = pd.DataFrame(robust_clr_unimputed, index=table.index, columns=table.columns)"
   ]
  },
  {
   "cell_type": "code",
   "execution_count": 42,
   "metadata": {},
   "outputs": [],
   "source": [
    "robust_clr_imputed_masked_pd = pd.DataFrame(robust_clr_imputed_masked, index=table.index, columns=table.columns)"
   ]
  },
  {
   "cell_type": "code",
   "execution_count": 43,
   "metadata": {},
   "outputs": [
    {
     "data": {
      "text/plain": [
       "Index(['5', '9', '10', '14', '16', '25', '29', '35', '37', '44',\n",
       "       ...\n",
       "       '7260', '7355', '7634', '7659', '7720', '7961', '8170', '8195', '8292',\n",
       "       '8306'],\n",
       "      dtype='object', length=731)"
      ]
     },
     "execution_count": 43,
     "metadata": {},
     "output_type": "execute_result"
    }
   ],
   "source": [
    "robust_clr_unimputed_pd.columns"
   ]
  },
  {
   "cell_type": "code",
   "execution_count": 44,
   "metadata": {},
   "outputs": [],
   "source": [
    "x = robust_clr_unimputed_pd['16']\n",
    "y = robust_clr_imputed_masked_pd['16']"
   ]
  },
  {
   "cell_type": "code",
   "execution_count": 45,
   "metadata": {},
   "outputs": [
    {
     "name": "stdout",
     "output_type": "stream",
     "text": [
      "[[1.         0.89883206]\n",
      " [0.89883206 1.        ]]\n"
     ]
    },
    {
     "data": {
      "image/png": "[encoded data removed]",
      "text/plain": [
       "<Figure size 432x288 with 1 Axes>"
      ]
     },
     "metadata": {
      "needs_background": "light"
     },
     "output_type": "display_data"
    }
   ],
   "source": [
    "print(np.corrcoef(x, y))\n",
    "\n",
    "plt.scatter(x, y) \n",
    "plt.title('Imputed vs non-imputed data')\n",
    "plt.xlabel('Imputed')\n",
    "plt.ylabel('Non-imputed')\n",
    "plt.plot(np.unique(x), np.poly1d(np.polyfit(x, y, 1))(np.unique(x)), color='red')\n",
    "plt.show()"
   ]
  },
  {
   "cell_type": "code",
   "execution_count": 46,
   "metadata": {},
   "outputs": [
    {
     "data": {
      "text/plain": [
       "(200, 731)"
      ]
     },
     "execution_count": 46,
     "metadata": {},
     "output_type": "execute_result"
    }
   ],
   "source": [
    "robust_clr_imputed.shape"
   ]
  },
  {
   "cell_type": "code",
   "execution_count": 47,
   "metadata": {},
   "outputs": [
    {
     "data": {
      "text/plain": [
       "(200, 731)"
      ]
     },
     "execution_count": 47,
     "metadata": {},
     "output_type": "execute_result"
    }
   ],
   "source": [
    "table.shape"
   ]
  },
  {
   "cell_type": "code",
   "execution_count": 48,
   "metadata": {},
   "outputs": [],
   "source": [
    "out = pd.DataFrame(robust_clr_imputed, index=table.index, columns=table.columns)"
   ]
  },
  {
   "cell_type": "code",
   "execution_count": 49,
   "metadata": {},
   "outputs": [],
   "source": [
    "out = out.T"
   ]
  },
  {
   "cell_type": "code",
   "execution_count": 50,
   "metadata": {},
   "outputs": [],
   "source": [
    "out.insert(0, '#OTU ID', out.index) "
   ]
  },
  {
   "cell_type": "markdown",
   "metadata": {},
   "source": [
    "assess sparsity in imputed and non-imputed feature table"
   ]
  },
  {
   "cell_type": "code",
   "execution_count": 51,
   "metadata": {},
   "outputs": [
    {
     "data": {
      "text/plain": [
       "1.0"
      ]
     },
     "execution_count": 51,
     "metadata": {},
     "output_type": "execute_result"
    }
   ],
   "source": [
    "(out != 0).sum(1).sum()/(out.shape[0]*out.shape[1])"
   ]
  },
  {
   "cell_type": "code",
   "execution_count": 52,
   "metadata": {},
   "outputs": [
    {
     "data": {
      "text/plain": [
       "0.5351231190150478"
      ]
     },
     "execution_count": 52,
     "metadata": {},
     "output_type": "execute_result"
    }
   ],
   "source": [
    "(table != 0).sum(1).sum()/(table.shape[0]*table.shape[1])"
   ]
  },
  {
   "cell_type": "code",
   "execution_count": 53,
   "metadata": {},
   "outputs": [
    {
     "data": {
      "text/plain": [
       "(731, 201)"
      ]
     },
     "execution_count": 53,
     "metadata": {},
     "output_type": "execute_result"
    }
   ],
   "source": [
    "out.shape"
   ]
  },
  {
   "cell_type": "markdown",
   "metadata": {},
   "source": [
    "save imputed data table "
   ]
  },
  {
   "cell_type": "code",
   "execution_count": 54,
   "metadata": {},
   "outputs": [],
   "source": [
    "out.to_csv('output/RAPCA_ImputedData_Rank10_NA_5.tsv', sep = '\\t',index=False)"
   ]
  },
  {
   "cell_type": "markdown",
   "metadata": {},
   "source": [
    "#### save distance matrix"
   ]
  },
  {
   "cell_type": "code",
   "execution_count": 55,
   "metadata": {},
   "outputs": [],
   "source": [
    "# the sample loadings\n",
    "spca_df = ordination.samples"
   ]
  },
  {
   "cell_type": "code",
   "execution_count": 56,
   "metadata": {},
   "outputs": [],
   "source": [
    "# the feature loadings\n",
    "fpca_df = ordination.features"
   ]
  },
  {
   "cell_type": "code",
   "execution_count": 57,
   "metadata": {},
   "outputs": [],
   "source": [
    "# merge the sample metadata and loadings\n",
    "spca_df = pd.concat([spca_df, md.reindex(spca_df.index)],\n",
    "                    axis=1, sort=True)"
   ]
  },
  {
   "cell_type": "markdown",
   "metadata": {},
   "source": [
    "save distance matrix to file"
   ]
  },
  {
   "cell_type": "code",
   "execution_count": 58,
   "metadata": {},
   "outputs": [
    {
     "data": {
      "text/plain": [
       "'output/RAPCA_ImputedData_Rank10_NA_5_distance.txt'"
      ]
     },
     "execution_count": 58,
     "metadata": {},
     "output_type": "execute_result"
    }
   ],
   "source": [
    "distance.write('output/RAPCA_ImputedData_Rank10_NA_5_distance.txt')"
   ]
  },
  {
   "cell_type": "markdown",
   "metadata": {},
   "source": [
    "continue with 4_RAPCA_Qiime2.ipynb to create PCoA plots within Qiime2."
   ]
  },
  {
   "cell_type": "code",
   "execution_count": 59,
   "metadata": {},
   "outputs": [
    {
     "data": {
      "text/html": [
       "<details>\n",
       "<summary>Click to view session information</summary>\n",
       "<pre>\n",
       "-----\n",
       "assets              NA\n",
       "biom                2.1.8\n",
       "deicode             0.2.4\n",
       "matplotlib          3.1.0\n",
       "numpy               1.16.4\n",
       "pandas              0.24.2\n",
       "scipy               1.4.1\n",
       "session_info        1.0.0\n",
       "skbio               0.5.5\n",
       "sklearn             0.21.2\n",
       "-----\n",
       "</pre>\n",
       "<details>\n",
       "<summary>Click to view modules imported as dependencies</summary>\n",
       "<pre>\n",
       "OpenSSL             19.0.0\n",
       "PIL                 6.1.0\n",
       "asn1crypto          0.24.0\n",
       "atomicwrites        1.3.0\n",
       "attr                19.1.0\n",
       "backcall            0.2.0\n",
       "bottleneck          1.2.1\n",
       "cachecontrol        0.12.5\n",
       "certifi             2019.06.16\n",
       "cffi                1.12.3\n",
       "chardet             3.0.4\n",
       "colorama            0.4.1\n",
       "cryptography        2.7\n",
       "cycler              0.10.0\n",
       "cython_runtime      NA\n",
       "dateutil            2.8.0\n",
       "decorator           4.4.0\n",
       "future              0.17.1\n",
       "h5py                2.9.0\n",
       "hdmedians           NA\n",
       "idna                2.8\n",
       "importlib_metadata  0.17\n",
       "ipykernel           5.1.1\n",
       "ipyparallel         6.3.0\n",
       "ipython_genutils    0.2.0\n",
       "ipywidgets          7.5.0\n",
       "jedi                0.13.3\n",
       "joblib              0.13.2\n",
       "kiwisolver          1.1.0\n",
       "mkl_fft             1.0.12\n",
       "more_itertools      NA\n",
       "mpl_toolkits        NA\n",
       "msgpack             0.6.1\n",
       "mtrand              NA\n",
       "nose                1.3.7\n",
       "numexpr             2.6.9\n",
       "packaging           19.0\n",
       "parso               0.5.0\n",
       "pexpect             4.7.0\n",
       "pickleshare         0.7.5\n",
       "pkg_resources       NA\n",
       "pluggy              0.12.0\n",
       "prompt_toolkit      2.0.9\n",
       "psutil              5.6.3\n",
       "ptyprocess          0.6.0\n",
       "py                  1.8.0\n",
       "pygments            2.4.2\n",
       "pyparsing           2.4.0\n",
       "pyteomics           NA\n",
       "pytest              5.0.1\n",
       "pytz                2019.1\n",
       "requests            2.22.0\n",
       "seaborn             0.9.0\n",
       "six                 1.15.0\n",
       "socks               1.7.0\n",
       "sphinxcontrib       NA\n",
       "statsmodels         0.10.0\n",
       "storemagic          NA\n",
       "tornado             6.0.3\n",
       "traitlets           4.3.2\n",
       "urllib3             1.24.2\n",
       "wcwidth             NA\n",
       "zipp                NA\n",
       "zmq                 18.0.0\n",
       "</pre>\n",
       "</details> <!-- seems like this ends pre, so might as well be explicit -->\n",
       "<pre>\n",
       "-----\n",
       "IPython             7.6.1\n",
       "jupyter_client      5.3.1\n",
       "jupyter_core        4.5.0\n",
       "jupyterlab          1.0.2\n",
       "notebook            6.0.0\n",
       "-----\n",
       "Python 3.7.3 (default, Mar 27 2019, 16:54:48) [Clang 4.0.1 (tags/RELEASE_401/final)]\n",
       "Darwin-20.2.0-x86_64-i386-64bit\n",
       "-----\n",
       "Session information updated at 2022-06-16 10:48\n",
       "</pre>\n",
       "</details>"
      ],
      "text/plain": [
       "<IPython.core.display.HTML object>"
      ]
     },
     "execution_count": 59,
     "metadata": {},
     "output_type": "execute_result"
    }
   ],
   "source": [
    "import session_info\n",
    "\n",
    "session_info.show()"
   ]
  },
  {
   "cell_type": "code",
   "execution_count": null,
   "metadata": {},
   "outputs": [],
   "source": []
  }
 ],
 "metadata": {
  "kernelspec": {
   "display_name": "Python 3",
   "language": "python",
   "name": "python3"
  },
  "language_info": {
   "codemirror_mode": {
    "name": "ipython",
    "version": 3
   },
   "file_extension": ".py",
   "mimetype": "text/x-python",
   "name": "python",
   "nbconvert_exporter": "python",
   "pygments_lexer": "ipython3",
   "version": "3.7.3"
  }
 },
 "nbformat": 4,
 "nbformat_minor": 2
}
